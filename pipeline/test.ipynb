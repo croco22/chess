{
 "cells": [
  {
   "cell_type": "code",
   "id": "initial_id",
   "metadata": {
    "collapsed": true,
    "ExecuteTime": {
     "end_time": "2025-05-16T19:51:37.163727Z",
     "start_time": "2025-05-16T19:51:36.959393Z"
    }
   },
   "source": [
    "import pandas as pd\n",
    "\n",
    "df = pd.read_parquet('../data/positions_2025_01.parquet')\n",
    "print(len(df))\n",
    "\n",
    "df = pd.read_parquet('../data/score_dataset.parquet')\n",
    "print(len(df))\n",
    "\n",
    "df = pd.read_parquet('../data/stats_dataset.parquet')\n",
    "print(len(df))"
   ],
   "outputs": [
    {
     "name": "stdout",
     "output_type": "stream",
     "text": [
      "23282\n",
      "23282\n",
      "126\n"
     ]
    }
   ],
   "execution_count": 4
  }
 ],
 "metadata": {
  "kernelspec": {
   "display_name": "Python 3",
   "language": "python",
   "name": "python3"
  },
  "language_info": {
   "codemirror_mode": {
    "name": "ipython",
    "version": 2
   },
   "file_extension": ".py",
   "mimetype": "text/x-python",
   "name": "python",
   "nbconvert_exporter": "python",
   "pygments_lexer": "ipython2",
   "version": "2.7.6"
  }
 },
 "nbformat": 4,
 "nbformat_minor": 5
}
