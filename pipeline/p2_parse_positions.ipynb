{
 "cells": [
  {
   "metadata": {
    "ExecuteTime": {
     "end_time": "2025-05-14T12:27:00.883017Z",
     "start_time": "2025-05-14T12:27:00.730640Z"
    }
   },
   "cell_type": "code",
   "source": [
    "import chess\n",
    "import pandas as pd\n",
    "from tqdm import tqdm"
   ],
   "id": "7cbfa5b1a153d5c2",
   "outputs": [],
   "execution_count": 1
  },
  {
   "cell_type": "code",
   "id": "initial_id",
   "metadata": {
    "collapsed": true,
    "ExecuteTime": {
     "end_time": "2025-05-14T12:27:02.328227Z",
     "start_time": "2025-05-14T12:27:01.727220Z"
    }
   },
   "source": [
    "df = pd.read_parquet('../data/data_2025_01.parquet')\n",
    "df.tail()"
   ],
   "outputs": [
    {
     "ename": "FileNotFoundError",
     "evalue": "[Errno 2] No such file or directory: '../data/data_2025_01.parquet'",
     "output_type": "error",
     "traceback": [
      "\u001B[1;31m---------------------------------------------------------------------------\u001B[0m",
      "\u001B[1;31mFileNotFoundError\u001B[0m                         Traceback (most recent call last)",
      "Cell \u001B[1;32mIn[2], line 1\u001B[0m\n\u001B[1;32m----> 1\u001B[0m df \u001B[38;5;241m=\u001B[39m \u001B[43mpd\u001B[49m\u001B[38;5;241;43m.\u001B[39;49m\u001B[43mread_parquet\u001B[49m\u001B[43m(\u001B[49m\u001B[38;5;124;43m'\u001B[39;49m\u001B[38;5;124;43m../data/data_2025_01.parquet\u001B[39;49m\u001B[38;5;124;43m'\u001B[39;49m\u001B[43m)\u001B[49m\n\u001B[0;32m      2\u001B[0m df\u001B[38;5;241m.\u001B[39mtail()\n",
      "File \u001B[1;32m~\\Documents\\Code\\test\\.venv\\Lib\\site-packages\\pandas\\io\\parquet.py:667\u001B[0m, in \u001B[0;36mread_parquet\u001B[1;34m(path, engine, columns, storage_options, use_nullable_dtypes, dtype_backend, filesystem, filters, **kwargs)\u001B[0m\n\u001B[0;32m    664\u001B[0m     use_nullable_dtypes \u001B[38;5;241m=\u001B[39m \u001B[38;5;28;01mFalse\u001B[39;00m\n\u001B[0;32m    665\u001B[0m check_dtype_backend(dtype_backend)\n\u001B[1;32m--> 667\u001B[0m \u001B[38;5;28;01mreturn\u001B[39;00m \u001B[43mimpl\u001B[49m\u001B[38;5;241;43m.\u001B[39;49m\u001B[43mread\u001B[49m\u001B[43m(\u001B[49m\n\u001B[0;32m    668\u001B[0m \u001B[43m    \u001B[49m\u001B[43mpath\u001B[49m\u001B[43m,\u001B[49m\n\u001B[0;32m    669\u001B[0m \u001B[43m    \u001B[49m\u001B[43mcolumns\u001B[49m\u001B[38;5;241;43m=\u001B[39;49m\u001B[43mcolumns\u001B[49m\u001B[43m,\u001B[49m\n\u001B[0;32m    670\u001B[0m \u001B[43m    \u001B[49m\u001B[43mfilters\u001B[49m\u001B[38;5;241;43m=\u001B[39;49m\u001B[43mfilters\u001B[49m\u001B[43m,\u001B[49m\n\u001B[0;32m    671\u001B[0m \u001B[43m    \u001B[49m\u001B[43mstorage_options\u001B[49m\u001B[38;5;241;43m=\u001B[39;49m\u001B[43mstorage_options\u001B[49m\u001B[43m,\u001B[49m\n\u001B[0;32m    672\u001B[0m \u001B[43m    \u001B[49m\u001B[43muse_nullable_dtypes\u001B[49m\u001B[38;5;241;43m=\u001B[39;49m\u001B[43muse_nullable_dtypes\u001B[49m\u001B[43m,\u001B[49m\n\u001B[0;32m    673\u001B[0m \u001B[43m    \u001B[49m\u001B[43mdtype_backend\u001B[49m\u001B[38;5;241;43m=\u001B[39;49m\u001B[43mdtype_backend\u001B[49m\u001B[43m,\u001B[49m\n\u001B[0;32m    674\u001B[0m \u001B[43m    \u001B[49m\u001B[43mfilesystem\u001B[49m\u001B[38;5;241;43m=\u001B[39;49m\u001B[43mfilesystem\u001B[49m\u001B[43m,\u001B[49m\n\u001B[0;32m    675\u001B[0m \u001B[43m    \u001B[49m\u001B[38;5;241;43m*\u001B[39;49m\u001B[38;5;241;43m*\u001B[39;49m\u001B[43mkwargs\u001B[49m\u001B[43m,\u001B[49m\n\u001B[0;32m    676\u001B[0m \u001B[43m\u001B[49m\u001B[43m)\u001B[49m\n",
      "File \u001B[1;32m~\\Documents\\Code\\test\\.venv\\Lib\\site-packages\\pandas\\io\\parquet.py:396\u001B[0m, in \u001B[0;36mFastParquetImpl.read\u001B[1;34m(self, path, columns, filters, storage_options, filesystem, **kwargs)\u001B[0m\n\u001B[0;32m    391\u001B[0m     parquet_kwargs[\u001B[38;5;124m\"\u001B[39m\u001B[38;5;124mfs\u001B[39m\u001B[38;5;124m\"\u001B[39m] \u001B[38;5;241m=\u001B[39m fsspec\u001B[38;5;241m.\u001B[39mopen(path, \u001B[38;5;124m\"\u001B[39m\u001B[38;5;124mrb\u001B[39m\u001B[38;5;124m\"\u001B[39m, \u001B[38;5;241m*\u001B[39m\u001B[38;5;241m*\u001B[39m(storage_options \u001B[38;5;129;01mor\u001B[39;00m {}))\u001B[38;5;241m.\u001B[39mfs\n\u001B[0;32m    392\u001B[0m \u001B[38;5;28;01melif\u001B[39;00m \u001B[38;5;28misinstance\u001B[39m(path, \u001B[38;5;28mstr\u001B[39m) \u001B[38;5;129;01mand\u001B[39;00m \u001B[38;5;129;01mnot\u001B[39;00m os\u001B[38;5;241m.\u001B[39mpath\u001B[38;5;241m.\u001B[39misdir(path):\n\u001B[0;32m    393\u001B[0m     \u001B[38;5;66;03m# use get_handle only when we are very certain that it is not a directory\u001B[39;00m\n\u001B[0;32m    394\u001B[0m     \u001B[38;5;66;03m# fsspec resources can also point to directories\u001B[39;00m\n\u001B[0;32m    395\u001B[0m     \u001B[38;5;66;03m# this branch is used for example when reading from non-fsspec URLs\u001B[39;00m\n\u001B[1;32m--> 396\u001B[0m     handles \u001B[38;5;241m=\u001B[39m \u001B[43mget_handle\u001B[49m\u001B[43m(\u001B[49m\n\u001B[0;32m    397\u001B[0m \u001B[43m        \u001B[49m\u001B[43mpath\u001B[49m\u001B[43m,\u001B[49m\u001B[43m \u001B[49m\u001B[38;5;124;43m\"\u001B[39;49m\u001B[38;5;124;43mrb\u001B[39;49m\u001B[38;5;124;43m\"\u001B[39;49m\u001B[43m,\u001B[49m\u001B[43m \u001B[49m\u001B[43mis_text\u001B[49m\u001B[38;5;241;43m=\u001B[39;49m\u001B[38;5;28;43;01mFalse\u001B[39;49;00m\u001B[43m,\u001B[49m\u001B[43m \u001B[49m\u001B[43mstorage_options\u001B[49m\u001B[38;5;241;43m=\u001B[39;49m\u001B[43mstorage_options\u001B[49m\n\u001B[0;32m    398\u001B[0m \u001B[43m    \u001B[49m\u001B[43m)\u001B[49m\n\u001B[0;32m    399\u001B[0m     path \u001B[38;5;241m=\u001B[39m handles\u001B[38;5;241m.\u001B[39mhandle\n\u001B[0;32m    401\u001B[0m \u001B[38;5;28;01mtry\u001B[39;00m:\n",
      "File \u001B[1;32m~\\Documents\\Code\\test\\.venv\\Lib\\site-packages\\pandas\\io\\common.py:882\u001B[0m, in \u001B[0;36mget_handle\u001B[1;34m(path_or_buf, mode, encoding, compression, memory_map, is_text, errors, storage_options)\u001B[0m\n\u001B[0;32m    873\u001B[0m         handle \u001B[38;5;241m=\u001B[39m \u001B[38;5;28mopen\u001B[39m(\n\u001B[0;32m    874\u001B[0m             handle,\n\u001B[0;32m    875\u001B[0m             ioargs\u001B[38;5;241m.\u001B[39mmode,\n\u001B[1;32m   (...)\u001B[0m\n\u001B[0;32m    878\u001B[0m             newline\u001B[38;5;241m=\u001B[39m\u001B[38;5;124m\"\u001B[39m\u001B[38;5;124m\"\u001B[39m,\n\u001B[0;32m    879\u001B[0m         )\n\u001B[0;32m    880\u001B[0m     \u001B[38;5;28;01melse\u001B[39;00m:\n\u001B[0;32m    881\u001B[0m         \u001B[38;5;66;03m# Binary mode\u001B[39;00m\n\u001B[1;32m--> 882\u001B[0m         handle \u001B[38;5;241m=\u001B[39m \u001B[38;5;28;43mopen\u001B[39;49m\u001B[43m(\u001B[49m\u001B[43mhandle\u001B[49m\u001B[43m,\u001B[49m\u001B[43m \u001B[49m\u001B[43mioargs\u001B[49m\u001B[38;5;241;43m.\u001B[39;49m\u001B[43mmode\u001B[49m\u001B[43m)\u001B[49m\n\u001B[0;32m    883\u001B[0m     handles\u001B[38;5;241m.\u001B[39mappend(handle)\n\u001B[0;32m    885\u001B[0m \u001B[38;5;66;03m# Convert BytesIO or file objects passed with an encoding\u001B[39;00m\n",
      "\u001B[1;31mFileNotFoundError\u001B[0m: [Errno 2] No such file or directory: '../data/data_2025_01.parquet'"
     ]
    }
   ],
   "execution_count": 2
  },
  {
   "metadata": {
    "ExecuteTime": {
     "end_time": "2025-05-14T12:27:02.367603600Z",
     "start_time": "2025-05-09T11:02:02.711504Z"
    }
   },
   "cell_type": "code",
   "source": "df[\"event\"].value_counts()",
   "id": "f2f4d05589e28321",
   "outputs": [
    {
     "data": {
      "text/plain": [
       "event\n",
       "Rated Blitz game                                                  2112717\n",
       "Rated Bullet game                                                 1673664\n",
       "Rated Rapid game                                                   679202\n",
       "Rated Classical game                                                28840\n",
       "Rated UltraBullet game                                              22866\n",
       "                                                                   ...   \n",
       "Bullet swiss https://lichess.org/swiss/xOqHMgIz                         1\n",
       "Rated Blitz tournament https://lichess.org/tournament/hdiBmgBr          1\n",
       "Blitz swiss https://lichess.org/swiss/5HMPMS5d                          1\n",
       "Rapid swiss https://lichess.org/swiss/sDVxlEAo                          1\n",
       "Rated Rapid tournament https://lichess.org/tournament/MyE7RM5x          1\n",
       "Name: count, Length: 2345, dtype: int64"
      ]
     },
     "execution_count": 27,
     "metadata": {},
     "output_type": "execute_result"
    }
   ],
   "execution_count": 27
  },
  {
   "metadata": {
    "ExecuteTime": {
     "end_time": "2025-05-14T12:27:02.387844200Z",
     "start_time": "2025-05-09T11:02:02.881805Z"
    }
   },
   "cell_type": "code",
   "source": [
    "events_to_keep = [\"Rated Blitz game\", \"Rated Rapid game\", \"Rated Classical game\"]\n",
    "df = df[df[\"event\"].isin(events_to_keep)]\n",
    "\n",
    "df = df[df[\"opening\"] == \"Scandinavian Defense: Mieses-Kotroc Variation\"]\n",
    "df.head()"
   ],
   "id": "3b7e5f5fd4504e0c",
   "outputs": [
    {
     "data": {
      "text/plain": [
       "     game_id             event  white_elo  black_elo  \\\n",
       "283      285  Rated Blitz game       1714       1705   \n",
       "402      404  Rated Blitz game       1333       1335   \n",
       "569      571  Rated Blitz game       1231       1211   \n",
       "601      603  Rated Blitz game       1244       1153   \n",
       "898      900  Rated Blitz game       1452       1470   \n",
       "\n",
       "                                           opening  winner  \\\n",
       "283  Scandinavian Defense: Mieses-Kotroc Variation       2   \n",
       "402  Scandinavian Defense: Mieses-Kotroc Variation       2   \n",
       "569  Scandinavian Defense: Mieses-Kotroc Variation       1   \n",
       "601  Scandinavian Defense: Mieses-Kotroc Variation       0   \n",
       "898  Scandinavian Defense: Mieses-Kotroc Variation       1   \n",
       "\n",
       "                                                 moves  \n",
       "283  e2e4 d7d5 e4d5 d8d5 d2d4 d5d6 b1c3 c8f5 f1c4 b...  \n",
       "402  e2e4 d7d5 e4d5 d8d5 b1c3 d5e5 g1e2 c8g4 d2d4 e...  \n",
       "569  e2e4 d7d5 e4d5 d8d5 b1c3 d5e6 f1e2 g8f6 g1f3 g...  \n",
       "601  e2e4 d7d5 e4d5 d8d5 b1c3 d5e6 d1e2 e6e2 f1e2 b...  \n",
       "898  e2e4 d7d5 e4d5 d8d5 g1f3 c8g4 f1e2 g8f6 c2c4 d...  "
      ],
      "text/html": [
       "<div>\n",
       "<style scoped>\n",
       "    .dataframe tbody tr th:only-of-type {\n",
       "        vertical-align: middle;\n",
       "    }\n",
       "\n",
       "    .dataframe tbody tr th {\n",
       "        vertical-align: top;\n",
       "    }\n",
       "\n",
       "    .dataframe thead th {\n",
       "        text-align: right;\n",
       "    }\n",
       "</style>\n",
       "<table border=\"1\" class=\"dataframe\">\n",
       "  <thead>\n",
       "    <tr style=\"text-align: right;\">\n",
       "      <th></th>\n",
       "      <th>game_id</th>\n",
       "      <th>event</th>\n",
       "      <th>white_elo</th>\n",
       "      <th>black_elo</th>\n",
       "      <th>opening</th>\n",
       "      <th>winner</th>\n",
       "      <th>moves</th>\n",
       "    </tr>\n",
       "  </thead>\n",
       "  <tbody>\n",
       "    <tr>\n",
       "      <th>283</th>\n",
       "      <td>285</td>\n",
       "      <td>Rated Blitz game</td>\n",
       "      <td>1714</td>\n",
       "      <td>1705</td>\n",
       "      <td>Scandinavian Defense: Mieses-Kotroc Variation</td>\n",
       "      <td>2</td>\n",
       "      <td>e2e4 d7d5 e4d5 d8d5 d2d4 d5d6 b1c3 c8f5 f1c4 b...</td>\n",
       "    </tr>\n",
       "    <tr>\n",
       "      <th>402</th>\n",
       "      <td>404</td>\n",
       "      <td>Rated Blitz game</td>\n",
       "      <td>1333</td>\n",
       "      <td>1335</td>\n",
       "      <td>Scandinavian Defense: Mieses-Kotroc Variation</td>\n",
       "      <td>2</td>\n",
       "      <td>e2e4 d7d5 e4d5 d8d5 b1c3 d5e5 g1e2 c8g4 d2d4 e...</td>\n",
       "    </tr>\n",
       "    <tr>\n",
       "      <th>569</th>\n",
       "      <td>571</td>\n",
       "      <td>Rated Blitz game</td>\n",
       "      <td>1231</td>\n",
       "      <td>1211</td>\n",
       "      <td>Scandinavian Defense: Mieses-Kotroc Variation</td>\n",
       "      <td>1</td>\n",
       "      <td>e2e4 d7d5 e4d5 d8d5 b1c3 d5e6 f1e2 g8f6 g1f3 g...</td>\n",
       "    </tr>\n",
       "    <tr>\n",
       "      <th>601</th>\n",
       "      <td>603</td>\n",
       "      <td>Rated Blitz game</td>\n",
       "      <td>1244</td>\n",
       "      <td>1153</td>\n",
       "      <td>Scandinavian Defense: Mieses-Kotroc Variation</td>\n",
       "      <td>0</td>\n",
       "      <td>e2e4 d7d5 e4d5 d8d5 b1c3 d5e6 d1e2 e6e2 f1e2 b...</td>\n",
       "    </tr>\n",
       "    <tr>\n",
       "      <th>898</th>\n",
       "      <td>900</td>\n",
       "      <td>Rated Blitz game</td>\n",
       "      <td>1452</td>\n",
       "      <td>1470</td>\n",
       "      <td>Scandinavian Defense: Mieses-Kotroc Variation</td>\n",
       "      <td>1</td>\n",
       "      <td>e2e4 d7d5 e4d5 d8d5 g1f3 c8g4 f1e2 g8f6 c2c4 d...</td>\n",
       "    </tr>\n",
       "  </tbody>\n",
       "</table>\n",
       "</div>"
      ]
     },
     "execution_count": 28,
     "metadata": {},
     "output_type": "execute_result"
    }
   ],
   "execution_count": 28
  },
  {
   "metadata": {
    "ExecuteTime": {
     "end_time": "2025-05-14T12:27:02.401853Z",
     "start_time": "2025-05-09T11:02:03.314822Z"
    }
   },
   "cell_type": "code",
   "source": [
    "records = []\n",
    "\n",
    "for _, game in tqdm(df.iterrows(), total=len(df), desc=\"Processing games\"):\n",
    "    board = chess.Board()\n",
    "    moves_arr = game[\"moves\"].split()\n",
    "    winner_flag = game[\"winner\"]\n",
    "\n",
    "    for idx, mv in enumerate(moves_arr):\n",
    "        if idx >= 30 or idx + 1 >= len(moves_arr):\n",
    "            break\n",
    "\n",
    "        board.push_uci(mv)\n",
    "        next_move = moves_arr[idx + 1]\n",
    "\n",
    "        if (board.turn == chess.WHITE and winner_flag == 1) or (board.turn == chess.BLACK and winner_flag == 2):\n",
    "            win_pov = True\n",
    "        else:\n",
    "            win_pov = False\n",
    "\n",
    "        played_by = game[\"white_elo\"] if board.turn else game[\"black_elo\"]\n",
    "\n",
    "        records.append({\n",
    "            \"fen\": board.fen(),\n",
    "            \"next_move\": next_move,\n",
    "            \"played_by_elo\": played_by,\n",
    "            \"win_pov\": win_pov\n",
    "        })\n",
    "\n",
    "positions_df = pd.DataFrame.from_records(records)\n",
    "positions_df.head()"
   ],
   "id": "25429f092e6840f3",
   "outputs": [
    {
     "name": "stderr",
     "output_type": "stream",
     "text": [
      "Processing games: 100%|██████████| 35816/35816 [00:20<00:00, 1736.14it/s]\n"
     ]
    },
    {
     "data": {
      "text/plain": [
       "                                                 fen next_move  played_by_elo  \\\n",
       "0  rnbqkbnr/pppppppp/8/8/4P3/8/PPPP1PPP/RNBQKBNR ...      d7d5           1705   \n",
       "1  rnbqkbnr/ppp1pppp/8/3p4/4P3/8/PPPP1PPP/RNBQKBN...      e4d5           1714   \n",
       "2  rnbqkbnr/ppp1pppp/8/3P4/8/8/PPPP1PPP/RNBQKBNR ...      d8d5           1705   \n",
       "3  rnb1kbnr/ppp1pppp/8/3q4/8/8/PPPP1PPP/RNBQKBNR ...      d2d4           1714   \n",
       "4  rnb1kbnr/ppp1pppp/8/3q4/3P4/8/PPP2PPP/RNBQKBNR...      d5d6           1705   \n",
       "\n",
       "   win_pov  \n",
       "0     True  \n",
       "1    False  \n",
       "2     True  \n",
       "3    False  \n",
       "4     True  "
      ],
      "text/html": [
       "<div>\n",
       "<style scoped>\n",
       "    .dataframe tbody tr th:only-of-type {\n",
       "        vertical-align: middle;\n",
       "    }\n",
       "\n",
       "    .dataframe tbody tr th {\n",
       "        vertical-align: top;\n",
       "    }\n",
       "\n",
       "    .dataframe thead th {\n",
       "        text-align: right;\n",
       "    }\n",
       "</style>\n",
       "<table border=\"1\" class=\"dataframe\">\n",
       "  <thead>\n",
       "    <tr style=\"text-align: right;\">\n",
       "      <th></th>\n",
       "      <th>fen</th>\n",
       "      <th>next_move</th>\n",
       "      <th>played_by_elo</th>\n",
       "      <th>win_pov</th>\n",
       "    </tr>\n",
       "  </thead>\n",
       "  <tbody>\n",
       "    <tr>\n",
       "      <th>0</th>\n",
       "      <td>rnbqkbnr/pppppppp/8/8/4P3/8/PPPP1PPP/RNBQKBNR ...</td>\n",
       "      <td>d7d5</td>\n",
       "      <td>1705</td>\n",
       "      <td>True</td>\n",
       "    </tr>\n",
       "    <tr>\n",
       "      <th>1</th>\n",
       "      <td>rnbqkbnr/ppp1pppp/8/3p4/4P3/8/PPPP1PPP/RNBQKBN...</td>\n",
       "      <td>e4d5</td>\n",
       "      <td>1714</td>\n",
       "      <td>False</td>\n",
       "    </tr>\n",
       "    <tr>\n",
       "      <th>2</th>\n",
       "      <td>rnbqkbnr/ppp1pppp/8/3P4/8/8/PPPP1PPP/RNBQKBNR ...</td>\n",
       "      <td>d8d5</td>\n",
       "      <td>1705</td>\n",
       "      <td>True</td>\n",
       "    </tr>\n",
       "    <tr>\n",
       "      <th>3</th>\n",
       "      <td>rnb1kbnr/ppp1pppp/8/3q4/8/8/PPPP1PPP/RNBQKBNR ...</td>\n",
       "      <td>d2d4</td>\n",
       "      <td>1714</td>\n",
       "      <td>False</td>\n",
       "    </tr>\n",
       "    <tr>\n",
       "      <th>4</th>\n",
       "      <td>rnb1kbnr/ppp1pppp/8/3q4/3P4/8/PPP2PPP/RNBQKBNR...</td>\n",
       "      <td>d5d6</td>\n",
       "      <td>1705</td>\n",
       "      <td>True</td>\n",
       "    </tr>\n",
       "  </tbody>\n",
       "</table>\n",
       "</div>"
      ]
     },
     "execution_count": 29,
     "metadata": {},
     "output_type": "execute_result"
    }
   ],
   "execution_count": 29
  },
  {
   "metadata": {
    "ExecuteTime": {
     "end_time": "2025-05-14T12:27:02.403852Z",
     "start_time": "2025-05-09T11:02:24.391227Z"
    }
   },
   "cell_type": "code",
   "source": [
    "positions_df[\"count\"] = (\n",
    "    positions_df\n",
    "    .groupby([\"fen\", \"next_move\"])[\"fen\"]\n",
    "    .transform(\"size\")\n",
    ")\n",
    "\n",
    "positions_df = positions_df[positions_df[\"count\"] >= 100]\n",
    "\n",
    "print(f\"In {len(df)} games there are {len(positions_df)} unique position-move pairs that were played more than 100 times.\")"
   ],
   "id": "4a84390fe24a1840",
   "outputs": [
    {
     "name": "stdout",
     "output_type": "stream",
     "text": [
      "In 35816 games there are 242512 unique position-move pairs that were played more than 100 times.\n"
     ]
    }
   ],
   "execution_count": 30
  },
  {
   "metadata": {
    "ExecuteTime": {
     "end_time": "2025-05-14T12:27:02.403852Z",
     "start_time": "2025-05-09T11:02:24.663084Z"
    }
   },
   "cell_type": "code",
   "source": "positions_df.head()",
   "id": "591e99368a7f7fd0",
   "outputs": [
    {
     "data": {
      "text/plain": [
       "                                                  fen next_move  \\\n",
       "0   rnbqkbnr/pppppppp/8/8/4P3/8/PPPP1PPP/RNBQKBNR ...      d7d5   \n",
       "1   rnbqkbnr/ppp1pppp/8/3p4/4P3/8/PPPP1PPP/RNBQKBN...      e4d5   \n",
       "2   rnbqkbnr/ppp1pppp/8/3P4/8/8/PPPP1PPP/RNBQKBNR ...      d8d5   \n",
       "3   rnb1kbnr/ppp1pppp/8/3q4/8/8/PPPP1PPP/RNBQKBNR ...      d2d4   \n",
       "15  rnbqkbnr/pppppppp/8/8/4P3/8/PPPP1PPP/RNBQKBNR ...      d7d5   \n",
       "\n",
       "    played_by_elo  win_pov  pair_freq  \n",
       "0            1705     True      35816  \n",
       "1            1714    False      35816  \n",
       "2            1705     True      35816  \n",
       "3            1714    False       4856  \n",
       "15           1335     True      35816  "
      ],
      "text/html": [
       "<div>\n",
       "<style scoped>\n",
       "    .dataframe tbody tr th:only-of-type {\n",
       "        vertical-align: middle;\n",
       "    }\n",
       "\n",
       "    .dataframe tbody tr th {\n",
       "        vertical-align: top;\n",
       "    }\n",
       "\n",
       "    .dataframe thead th {\n",
       "        text-align: right;\n",
       "    }\n",
       "</style>\n",
       "<table border=\"1\" class=\"dataframe\">\n",
       "  <thead>\n",
       "    <tr style=\"text-align: right;\">\n",
       "      <th></th>\n",
       "      <th>fen</th>\n",
       "      <th>next_move</th>\n",
       "      <th>played_by_elo</th>\n",
       "      <th>win_pov</th>\n",
       "      <th>pair_freq</th>\n",
       "    </tr>\n",
       "  </thead>\n",
       "  <tbody>\n",
       "    <tr>\n",
       "      <th>0</th>\n",
       "      <td>rnbqkbnr/pppppppp/8/8/4P3/8/PPPP1PPP/RNBQKBNR ...</td>\n",
       "      <td>d7d5</td>\n",
       "      <td>1705</td>\n",
       "      <td>True</td>\n",
       "      <td>35816</td>\n",
       "    </tr>\n",
       "    <tr>\n",
       "      <th>1</th>\n",
       "      <td>rnbqkbnr/ppp1pppp/8/3p4/4P3/8/PPPP1PPP/RNBQKBN...</td>\n",
       "      <td>e4d5</td>\n",
       "      <td>1714</td>\n",
       "      <td>False</td>\n",
       "      <td>35816</td>\n",
       "    </tr>\n",
       "    <tr>\n",
       "      <th>2</th>\n",
       "      <td>rnbqkbnr/ppp1pppp/8/3P4/8/8/PPPP1PPP/RNBQKBNR ...</td>\n",
       "      <td>d8d5</td>\n",
       "      <td>1705</td>\n",
       "      <td>True</td>\n",
       "      <td>35816</td>\n",
       "    </tr>\n",
       "    <tr>\n",
       "      <th>3</th>\n",
       "      <td>rnb1kbnr/ppp1pppp/8/3q4/8/8/PPPP1PPP/RNBQKBNR ...</td>\n",
       "      <td>d2d4</td>\n",
       "      <td>1714</td>\n",
       "      <td>False</td>\n",
       "      <td>4856</td>\n",
       "    </tr>\n",
       "    <tr>\n",
       "      <th>15</th>\n",
       "      <td>rnbqkbnr/pppppppp/8/8/4P3/8/PPPP1PPP/RNBQKBNR ...</td>\n",
       "      <td>d7d5</td>\n",
       "      <td>1335</td>\n",
       "      <td>True</td>\n",
       "      <td>35816</td>\n",
       "    </tr>\n",
       "  </tbody>\n",
       "</table>\n",
       "</div>"
      ]
     },
     "execution_count": 31,
     "metadata": {},
     "output_type": "execute_result"
    }
   ],
   "execution_count": 31
  },
  {
   "metadata": {
    "ExecuteTime": {
     "end_time": "2025-05-14T12:27:02.404852400Z",
     "start_time": "2025-05-09T11:02:24.722131Z"
    }
   },
   "cell_type": "code",
   "source": [
    "positions_df.to_parquet(\"../data/positions_2025_01.parquet\")\n",
    "print(\"✅ Saved position data to 'data/positions_2025_01.parquet'\")"
   ],
   "id": "70d977f75fe3c8b3",
   "outputs": [
    {
     "name": "stdout",
     "output_type": "stream",
     "text": [
      "✅ Saved position data to 'data/positions_2025_01.parquet'\n"
     ]
    }
   ],
   "execution_count": 32
  }
 ],
 "metadata": {
  "kernelspec": {
   "display_name": "Python 3",
   "language": "python",
   "name": "python3"
  },
  "language_info": {
   "codemirror_mode": {
    "name": "ipython",
    "version": 2
   },
   "file_extension": ".py",
   "mimetype": "text/x-python",
   "name": "python",
   "nbconvert_exporter": "python",
   "pygments_lexer": "ipython2",
   "version": "2.7.6"
  }
 },
 "nbformat": 4,
 "nbformat_minor": 5
}
