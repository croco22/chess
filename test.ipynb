{
 "cells": [
  {
   "cell_type": "code",
   "id": "initial_id",
   "metadata": {
    "collapsed": true,
    "ExecuteTime": {
     "end_time": "2025-04-25T14:43:02.070998Z",
     "start_time": "2025-04-25T14:43:02.045523Z"
    }
   },
   "source": [
    "import pandas as pd\n",
    "\n",
    "df = pd.read_parquet('data/data_2025_01.parquet')\n",
    "df.tail()"
   ],
   "outputs": [
    {
     "data": {
      "text/plain": [
       "      game_id             event  white_elo  black_elo  \\\n",
       "9977     9996  Rated Blitz game       1912       1919   \n",
       "9978     9997  Rated Blitz game       2119       2242   \n",
       "9979     9998  Rated Blitz game       1287       1287   \n",
       "9980     9999  Rated Blitz game       1879       1857   \n",
       "9981    10000  Rated Blitz game       1474       1454   \n",
       "\n",
       "                                                opening  winner  \\\n",
       "9977  Italian Game: Two Knights Defense, Polerio Def...       2   \n",
       "9978                    Torre Attack: Classical Defense       2   \n",
       "9979                                  Queen's Pawn Game       0   \n",
       "9980               Sicilian Defense: Smith-Morra Gambit       2   \n",
       "9981                          Englund Gambit: Main Line       2   \n",
       "\n",
       "                                                  moves  \n",
       "9977  e2e4 e7e5 g1f3 b8c6 f1c4 g8f6 f3g5 d7d5 e4d5 c...  \n",
       "9978  d2d4 e7e6 g1f3 g8f6 c1g5 c7c5 e2e3 h7h6 g5h4 d...  \n",
       "9979  d2d4 d7d5 e2e3 b8c6 c2c4 e7e6 c4d5 d8d5 g1f3 f...  \n",
       "9980  e2e4 c7c5 d2d4 c5d4 d1d4 b8c6 d4a4 g8f6 b1c3 e...  \n",
       "9981  d2d4 e7e5 d4e5 b8c6 g1f3 d8e7 b1c3 c6e5 f3e5 e...  "
      ],
      "text/html": [
       "<div>\n",
       "<style scoped>\n",
       "    .dataframe tbody tr th:only-of-type {\n",
       "        vertical-align: middle;\n",
       "    }\n",
       "\n",
       "    .dataframe tbody tr th {\n",
       "        vertical-align: top;\n",
       "    }\n",
       "\n",
       "    .dataframe thead th {\n",
       "        text-align: right;\n",
       "    }\n",
       "</style>\n",
       "<table border=\"1\" class=\"dataframe\">\n",
       "  <thead>\n",
       "    <tr style=\"text-align: right;\">\n",
       "      <th></th>\n",
       "      <th>game_id</th>\n",
       "      <th>event</th>\n",
       "      <th>white_elo</th>\n",
       "      <th>black_elo</th>\n",
       "      <th>opening</th>\n",
       "      <th>winner</th>\n",
       "      <th>moves</th>\n",
       "    </tr>\n",
       "  </thead>\n",
       "  <tbody>\n",
       "    <tr>\n",
       "      <th>9977</th>\n",
       "      <td>9996</td>\n",
       "      <td>Rated Blitz game</td>\n",
       "      <td>1912</td>\n",
       "      <td>1919</td>\n",
       "      <td>Italian Game: Two Knights Defense, Polerio Def...</td>\n",
       "      <td>2</td>\n",
       "      <td>e2e4 e7e5 g1f3 b8c6 f1c4 g8f6 f3g5 d7d5 e4d5 c...</td>\n",
       "    </tr>\n",
       "    <tr>\n",
       "      <th>9978</th>\n",
       "      <td>9997</td>\n",
       "      <td>Rated Blitz game</td>\n",
       "      <td>2119</td>\n",
       "      <td>2242</td>\n",
       "      <td>Torre Attack: Classical Defense</td>\n",
       "      <td>2</td>\n",
       "      <td>d2d4 e7e6 g1f3 g8f6 c1g5 c7c5 e2e3 h7h6 g5h4 d...</td>\n",
       "    </tr>\n",
       "    <tr>\n",
       "      <th>9979</th>\n",
       "      <td>9998</td>\n",
       "      <td>Rated Blitz game</td>\n",
       "      <td>1287</td>\n",
       "      <td>1287</td>\n",
       "      <td>Queen's Pawn Game</td>\n",
       "      <td>0</td>\n",
       "      <td>d2d4 d7d5 e2e3 b8c6 c2c4 e7e6 c4d5 d8d5 g1f3 f...</td>\n",
       "    </tr>\n",
       "    <tr>\n",
       "      <th>9980</th>\n",
       "      <td>9999</td>\n",
       "      <td>Rated Blitz game</td>\n",
       "      <td>1879</td>\n",
       "      <td>1857</td>\n",
       "      <td>Sicilian Defense: Smith-Morra Gambit</td>\n",
       "      <td>2</td>\n",
       "      <td>e2e4 c7c5 d2d4 c5d4 d1d4 b8c6 d4a4 g8f6 b1c3 e...</td>\n",
       "    </tr>\n",
       "    <tr>\n",
       "      <th>9981</th>\n",
       "      <td>10000</td>\n",
       "      <td>Rated Blitz game</td>\n",
       "      <td>1474</td>\n",
       "      <td>1454</td>\n",
       "      <td>Englund Gambit: Main Line</td>\n",
       "      <td>2</td>\n",
       "      <td>d2d4 e7e5 d4e5 b8c6 g1f3 d8e7 b1c3 c6e5 f3e5 e...</td>\n",
       "    </tr>\n",
       "  </tbody>\n",
       "</table>\n",
       "</div>"
      ]
     },
     "execution_count": 42,
     "metadata": {},
     "output_type": "execute_result"
    }
   ],
   "execution_count": 42
  },
  {
   "metadata": {
    "ExecuteTime": {
     "end_time": "2025-04-25T11:39:46.931399Z",
     "start_time": "2025-04-25T11:39:46.903097Z"
    }
   },
   "cell_type": "code",
   "source": "df[\"event\"].value_counts()",
   "id": "cba8d679bc5dcf23",
   "outputs": [
    {
     "data": {
      "text/plain": [
       "event\n",
       "Rated Blitz game                                                      420456\n",
       "Rated Bullet game                                                     337362\n",
       "Rated Rapid game                                                      138659\n",
       "Rated Classical game                                                    5789\n",
       "Rated UltraBullet game                                                  4718\n",
       "                                                                       ...  \n",
       "Rated Bullet tournament https://lichess.org/tournament/FPHIxNUk            1\n",
       "Blitz swiss https://lichess.org/swiss/WZx3NQxz                             1\n",
       "Rated Classical tournament https://lichess.org/tournament/X2PrSgl3         1\n",
       "Rated Blitz tournament https://lichess.org/tournament/ZQOfKl8K             1\n",
       "Rated Rapid tournament https://lichess.org/tournament/orc6iXPb             1\n",
       "Name: count, Length: 474, dtype: int64"
      ]
     },
     "execution_count": 38,
     "metadata": {},
     "output_type": "execute_result"
    }
   ],
   "execution_count": 38
  },
  {
   "metadata": {
    "ExecuteTime": {
     "end_time": "2025-04-25T11:39:47.039252Z",
     "start_time": "2025-04-25T11:39:46.966922Z"
    }
   },
   "cell_type": "code",
   "source": [
    "events_to_keep = df[\"event\"].value_counts().reset_index()[\"event\"].head(4)\n",
    "df_filtered = df[df[\"event\"].isin(events_to_keep)]\n",
    "df.head()"
   ],
   "id": "d53323a9cc91c711",
   "outputs": [
    {
     "data": {
      "text/plain": [
       "   game_id             event  white_elo  black_elo  \\\n",
       "0        2  Rated Blitz game       1247       1218   \n",
       "1        3  Rated Blitz game       1577       1593   \n",
       "2        4  Rated Blitz game       1043       1000   \n",
       "3        5  Rated Blitz game       2015       2028   \n",
       "4        6  Rated Blitz game       2139       2145   \n",
       "\n",
       "                                 opening  winner  \\\n",
       "0         Vienna Game: Anderssen Defense       1   \n",
       "1      Caro-Kann Defense: Masi Variation       2   \n",
       "2                      Queen's Pawn Game       1   \n",
       "3  Caro-Kann Defense: Exchange Variation       1   \n",
       "4   Caro-Kann Defense: Endgame Variation       2   \n",
       "\n",
       "                                               moves  \n",
       "0  b1c3 e7e5 e2e4 f8c5 d1h5 g8f6 h5e5 c5e7 d2d3 d...  \n",
       "1  d2d4 c7c6 e2e4 g8f6 e4e5 f6g8 g1f3 d7d5 b1c3 c...  \n",
       "2  d2d4 d7d5 c2c3 b8c6 g1f3 c8g4 h2h3 g4f3 e2f3 e...  \n",
       "3  e2e4 c7c6 d2d4 d7d5 e4d5 c6d5 f1d3 g8f6 h2h3 b...  \n",
       "4  e2e4 c7c6 d2d3 d7d5 g1f3 d5e4 d3e4 d8d1 e1d1 g...  "
      ],
      "text/html": [
       "<div>\n",
       "<style scoped>\n",
       "    .dataframe tbody tr th:only-of-type {\n",
       "        vertical-align: middle;\n",
       "    }\n",
       "\n",
       "    .dataframe tbody tr th {\n",
       "        vertical-align: top;\n",
       "    }\n",
       "\n",
       "    .dataframe thead th {\n",
       "        text-align: right;\n",
       "    }\n",
       "</style>\n",
       "<table border=\"1\" class=\"dataframe\">\n",
       "  <thead>\n",
       "    <tr style=\"text-align: right;\">\n",
       "      <th></th>\n",
       "      <th>game_id</th>\n",
       "      <th>event</th>\n",
       "      <th>white_elo</th>\n",
       "      <th>black_elo</th>\n",
       "      <th>opening</th>\n",
       "      <th>winner</th>\n",
       "      <th>moves</th>\n",
       "    </tr>\n",
       "  </thead>\n",
       "  <tbody>\n",
       "    <tr>\n",
       "      <th>0</th>\n",
       "      <td>2</td>\n",
       "      <td>Rated Blitz game</td>\n",
       "      <td>1247</td>\n",
       "      <td>1218</td>\n",
       "      <td>Vienna Game: Anderssen Defense</td>\n",
       "      <td>1</td>\n",
       "      <td>b1c3 e7e5 e2e4 f8c5 d1h5 g8f6 h5e5 c5e7 d2d3 d...</td>\n",
       "    </tr>\n",
       "    <tr>\n",
       "      <th>1</th>\n",
       "      <td>3</td>\n",
       "      <td>Rated Blitz game</td>\n",
       "      <td>1577</td>\n",
       "      <td>1593</td>\n",
       "      <td>Caro-Kann Defense: Masi Variation</td>\n",
       "      <td>2</td>\n",
       "      <td>d2d4 c7c6 e2e4 g8f6 e4e5 f6g8 g1f3 d7d5 b1c3 c...</td>\n",
       "    </tr>\n",
       "    <tr>\n",
       "      <th>2</th>\n",
       "      <td>4</td>\n",
       "      <td>Rated Blitz game</td>\n",
       "      <td>1043</td>\n",
       "      <td>1000</td>\n",
       "      <td>Queen's Pawn Game</td>\n",
       "      <td>1</td>\n",
       "      <td>d2d4 d7d5 c2c3 b8c6 g1f3 c8g4 h2h3 g4f3 e2f3 e...</td>\n",
       "    </tr>\n",
       "    <tr>\n",
       "      <th>3</th>\n",
       "      <td>5</td>\n",
       "      <td>Rated Blitz game</td>\n",
       "      <td>2015</td>\n",
       "      <td>2028</td>\n",
       "      <td>Caro-Kann Defense: Exchange Variation</td>\n",
       "      <td>1</td>\n",
       "      <td>e2e4 c7c6 d2d4 d7d5 e4d5 c6d5 f1d3 g8f6 h2h3 b...</td>\n",
       "    </tr>\n",
       "    <tr>\n",
       "      <th>4</th>\n",
       "      <td>6</td>\n",
       "      <td>Rated Blitz game</td>\n",
       "      <td>2139</td>\n",
       "      <td>2145</td>\n",
       "      <td>Caro-Kann Defense: Endgame Variation</td>\n",
       "      <td>2</td>\n",
       "      <td>e2e4 c7c6 d2d3 d7d5 g1f3 d5e4 d3e4 d8d1 e1d1 g...</td>\n",
       "    </tr>\n",
       "  </tbody>\n",
       "</table>\n",
       "</div>"
      ]
     },
     "execution_count": 39,
     "metadata": {},
     "output_type": "execute_result"
    }
   ],
   "execution_count": 39
  },
  {
   "metadata": {
    "ExecuteTime": {
     "end_time": "2025-04-25T11:40:01.285529Z",
     "start_time": "2025-04-25T11:40:01.282137Z"
    }
   },
   "cell_type": "code",
   "source": "len(df_filtered)",
   "id": "1b31a33fc4732f62",
   "outputs": [
    {
     "data": {
      "text/plain": [
       "902266"
      ]
     },
     "execution_count": 40,
     "metadata": {},
     "output_type": "execute_result"
    }
   ],
   "execution_count": 40
  }
 ],
 "metadata": {
  "kernelspec": {
   "display_name": "Python 3",
   "language": "python",
   "name": "python3"
  },
  "language_info": {
   "codemirror_mode": {
    "name": "ipython",
    "version": 2
   },
   "file_extension": ".py",
   "mimetype": "text/x-python",
   "name": "python",
   "nbconvert_exporter": "python",
   "pygments_lexer": "ipython2",
   "version": "2.7.6"
  }
 },
 "nbformat": 4,
 "nbformat_minor": 5
}
