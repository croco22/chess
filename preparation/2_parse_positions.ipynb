{
 "cells": [
  {
   "metadata": {
    "ExecuteTime": {
     "end_time": "2025-05-08T15:19:34.321318Z",
     "start_time": "2025-05-08T15:19:34.318468Z"
    }
   },
   "cell_type": "code",
   "source": [
    "import chess\n",
    "import pandas as pd\n",
    "from tqdm import tqdm"
   ],
   "id": "7cbfa5b1a153d5c2",
   "outputs": [],
   "execution_count": 18
  },
  {
   "cell_type": "code",
   "id": "initial_id",
   "metadata": {
    "collapsed": true,
    "ExecuteTime": {
     "end_time": "2025-05-08T15:19:37.112508Z",
     "start_time": "2025-05-08T15:19:34.338422Z"
    }
   },
   "source": [
    "df = pd.read_parquet('../data/data_2025_01.parquet')\n",
    "df.tail()"
   ],
   "outputs": [
    {
     "data": {
      "text/plain": [
       "         game_id             event  white_elo  black_elo  \\\n",
       "4991159  4999996  Rated Rapid game       1746       1736   \n",
       "4991160  4999997  Rated Rapid game       1498       1476   \n",
       "4991161  4999998  Rated Rapid game       2187       2128   \n",
       "4991162  4999999  Rated Rapid game       1659       1696   \n",
       "4991163  5000000  Rated Rapid game       1734       1706   \n",
       "\n",
       "                                                   opening  winner  \\\n",
       "4991159                                  Caro-Kann Defense       2   \n",
       "4991160                King's Pawn Game: McConnell Defense       2   \n",
       "4991161                Sicilian Defense: Modern Variations       2   \n",
       "4991162  Queen's Gambit Accepted: Central Variation, Al...       1   \n",
       "4991163                       Caro-Kann Defense: Main Line       1   \n",
       "\n",
       "                                                     moves  \n",
       "4991159  e2e4 c7c6 g1f3 d7d5 e4d5 c6d5 d2d4 c8g4 b1c3 g...  \n",
       "4991160  e2e4 e7e5 g1f3 d8f6 f1b5 f8c5 c2c3 c7c6 b5a4 b...  \n",
       "4991161  e2e4 c7c5 g1f3 d7d6 f1c4 e7e6 e1g1 d8c7 c2c3 a...  \n",
       "4991162  d2d4 d7d5 c2c4 d5c4 e2e4 g8f6 b1c3 e7e6 a2a3 f...  \n",
       "4991163  d2d4 c7c6 e2e4 d7d5 b1c3 d5e4 c3e4 g8f6 e4c5 c...  "
      ],
      "text/html": [
       "<div>\n",
       "<style scoped>\n",
       "    .dataframe tbody tr th:only-of-type {\n",
       "        vertical-align: middle;\n",
       "    }\n",
       "\n",
       "    .dataframe tbody tr th {\n",
       "        vertical-align: top;\n",
       "    }\n",
       "\n",
       "    .dataframe thead th {\n",
       "        text-align: right;\n",
       "    }\n",
       "</style>\n",
       "<table border=\"1\" class=\"dataframe\">\n",
       "  <thead>\n",
       "    <tr style=\"text-align: right;\">\n",
       "      <th></th>\n",
       "      <th>game_id</th>\n",
       "      <th>event</th>\n",
       "      <th>white_elo</th>\n",
       "      <th>black_elo</th>\n",
       "      <th>opening</th>\n",
       "      <th>winner</th>\n",
       "      <th>moves</th>\n",
       "    </tr>\n",
       "  </thead>\n",
       "  <tbody>\n",
       "    <tr>\n",
       "      <th>4991159</th>\n",
       "      <td>4999996</td>\n",
       "      <td>Rated Rapid game</td>\n",
       "      <td>1746</td>\n",
       "      <td>1736</td>\n",
       "      <td>Caro-Kann Defense</td>\n",
       "      <td>2</td>\n",
       "      <td>e2e4 c7c6 g1f3 d7d5 e4d5 c6d5 d2d4 c8g4 b1c3 g...</td>\n",
       "    </tr>\n",
       "    <tr>\n",
       "      <th>4991160</th>\n",
       "      <td>4999997</td>\n",
       "      <td>Rated Rapid game</td>\n",
       "      <td>1498</td>\n",
       "      <td>1476</td>\n",
       "      <td>King's Pawn Game: McConnell Defense</td>\n",
       "      <td>2</td>\n",
       "      <td>e2e4 e7e5 g1f3 d8f6 f1b5 f8c5 c2c3 c7c6 b5a4 b...</td>\n",
       "    </tr>\n",
       "    <tr>\n",
       "      <th>4991161</th>\n",
       "      <td>4999998</td>\n",
       "      <td>Rated Rapid game</td>\n",
       "      <td>2187</td>\n",
       "      <td>2128</td>\n",
       "      <td>Sicilian Defense: Modern Variations</td>\n",
       "      <td>2</td>\n",
       "      <td>e2e4 c7c5 g1f3 d7d6 f1c4 e7e6 e1g1 d8c7 c2c3 a...</td>\n",
       "    </tr>\n",
       "    <tr>\n",
       "      <th>4991162</th>\n",
       "      <td>4999999</td>\n",
       "      <td>Rated Rapid game</td>\n",
       "      <td>1659</td>\n",
       "      <td>1696</td>\n",
       "      <td>Queen's Gambit Accepted: Central Variation, Al...</td>\n",
       "      <td>1</td>\n",
       "      <td>d2d4 d7d5 c2c4 d5c4 e2e4 g8f6 b1c3 e7e6 a2a3 f...</td>\n",
       "    </tr>\n",
       "    <tr>\n",
       "      <th>4991163</th>\n",
       "      <td>5000000</td>\n",
       "      <td>Rated Rapid game</td>\n",
       "      <td>1734</td>\n",
       "      <td>1706</td>\n",
       "      <td>Caro-Kann Defense: Main Line</td>\n",
       "      <td>1</td>\n",
       "      <td>d2d4 c7c6 e2e4 d7d5 b1c3 d5e4 c3e4 g8f6 e4c5 c...</td>\n",
       "    </tr>\n",
       "  </tbody>\n",
       "</table>\n",
       "</div>"
      ]
     },
     "execution_count": 19,
     "metadata": {},
     "output_type": "execute_result"
    }
   ],
   "execution_count": 19
  },
  {
   "metadata": {
    "ExecuteTime": {
     "end_time": "2025-05-08T15:19:37.256936Z",
     "start_time": "2025-05-08T15:19:37.143354Z"
    }
   },
   "cell_type": "code",
   "source": "df[\"event\"].value_counts()",
   "id": "f2f4d05589e28321",
   "outputs": [
    {
     "data": {
      "text/plain": [
       "event\n",
       "Rated Blitz game                                                  2112717\n",
       "Rated Bullet game                                                 1673664\n",
       "Rated Rapid game                                                   679202\n",
       "Rated Classical game                                                28840\n",
       "Rated UltraBullet game                                              22866\n",
       "                                                                   ...   \n",
       "Bullet swiss https://lichess.org/swiss/xOqHMgIz                         1\n",
       "Rated Blitz tournament https://lichess.org/tournament/hdiBmgBr          1\n",
       "Blitz swiss https://lichess.org/swiss/5HMPMS5d                          1\n",
       "Rapid swiss https://lichess.org/swiss/sDVxlEAo                          1\n",
       "Rated Rapid tournament https://lichess.org/tournament/MyE7RM5x          1\n",
       "Name: count, Length: 2345, dtype: int64"
      ]
     },
     "execution_count": 20,
     "metadata": {},
     "output_type": "execute_result"
    }
   ],
   "execution_count": 20
  },
  {
   "metadata": {
    "ExecuteTime": {
     "end_time": "2025-05-08T15:19:37.480835Z",
     "start_time": "2025-05-08T15:19:37.293315Z"
    }
   },
   "cell_type": "code",
   "source": [
    "events_to_keep = [\"Rated Blitz game\", \"Rated Rapid game\", \"Rated Classical game\"]\n",
    "df = df[df[\"event\"].isin(events_to_keep)]\n",
    "df.head()"
   ],
   "id": "3b7e5f5fd4504e0c",
   "outputs": [
    {
     "data": {
      "text/plain": [
       "   game_id             event  white_elo  black_elo  \\\n",
       "0        2  Rated Blitz game       1247       1218   \n",
       "1        3  Rated Blitz game       1577       1593   \n",
       "2        4  Rated Blitz game       1043       1000   \n",
       "3        5  Rated Blitz game       2015       2028   \n",
       "4        6  Rated Blitz game       2139       2145   \n",
       "\n",
       "                                 opening  winner  \\\n",
       "0         Vienna Game: Anderssen Defense       1   \n",
       "1      Caro-Kann Defense: Masi Variation       2   \n",
       "2                      Queen's Pawn Game       1   \n",
       "3  Caro-Kann Defense: Exchange Variation       1   \n",
       "4   Caro-Kann Defense: Endgame Variation       2   \n",
       "\n",
       "                                               moves  \n",
       "0  b1c3 e7e5 e2e4 f8c5 d1h5 g8f6 h5e5 c5e7 d2d3 d...  \n",
       "1  d2d4 c7c6 e2e4 g8f6 e4e5 f6g8 g1f3 d7d5 b1c3 c...  \n",
       "2  d2d4 d7d5 c2c3 b8c6 g1f3 c8g4 h2h3 g4f3 e2f3 e...  \n",
       "3  e2e4 c7c6 d2d4 d7d5 e4d5 c6d5 f1d3 g8f6 h2h3 b...  \n",
       "4  e2e4 c7c6 d2d3 d7d5 g1f3 d5e4 d3e4 d8d1 e1d1 g...  "
      ],
      "text/html": [
       "<div>\n",
       "<style scoped>\n",
       "    .dataframe tbody tr th:only-of-type {\n",
       "        vertical-align: middle;\n",
       "    }\n",
       "\n",
       "    .dataframe tbody tr th {\n",
       "        vertical-align: top;\n",
       "    }\n",
       "\n",
       "    .dataframe thead th {\n",
       "        text-align: right;\n",
       "    }\n",
       "</style>\n",
       "<table border=\"1\" class=\"dataframe\">\n",
       "  <thead>\n",
       "    <tr style=\"text-align: right;\">\n",
       "      <th></th>\n",
       "      <th>game_id</th>\n",
       "      <th>event</th>\n",
       "      <th>white_elo</th>\n",
       "      <th>black_elo</th>\n",
       "      <th>opening</th>\n",
       "      <th>winner</th>\n",
       "      <th>moves</th>\n",
       "    </tr>\n",
       "  </thead>\n",
       "  <tbody>\n",
       "    <tr>\n",
       "      <th>0</th>\n",
       "      <td>2</td>\n",
       "      <td>Rated Blitz game</td>\n",
       "      <td>1247</td>\n",
       "      <td>1218</td>\n",
       "      <td>Vienna Game: Anderssen Defense</td>\n",
       "      <td>1</td>\n",
       "      <td>b1c3 e7e5 e2e4 f8c5 d1h5 g8f6 h5e5 c5e7 d2d3 d...</td>\n",
       "    </tr>\n",
       "    <tr>\n",
       "      <th>1</th>\n",
       "      <td>3</td>\n",
       "      <td>Rated Blitz game</td>\n",
       "      <td>1577</td>\n",
       "      <td>1593</td>\n",
       "      <td>Caro-Kann Defense: Masi Variation</td>\n",
       "      <td>2</td>\n",
       "      <td>d2d4 c7c6 e2e4 g8f6 e4e5 f6g8 g1f3 d7d5 b1c3 c...</td>\n",
       "    </tr>\n",
       "    <tr>\n",
       "      <th>2</th>\n",
       "      <td>4</td>\n",
       "      <td>Rated Blitz game</td>\n",
       "      <td>1043</td>\n",
       "      <td>1000</td>\n",
       "      <td>Queen's Pawn Game</td>\n",
       "      <td>1</td>\n",
       "      <td>d2d4 d7d5 c2c3 b8c6 g1f3 c8g4 h2h3 g4f3 e2f3 e...</td>\n",
       "    </tr>\n",
       "    <tr>\n",
       "      <th>3</th>\n",
       "      <td>5</td>\n",
       "      <td>Rated Blitz game</td>\n",
       "      <td>2015</td>\n",
       "      <td>2028</td>\n",
       "      <td>Caro-Kann Defense: Exchange Variation</td>\n",
       "      <td>1</td>\n",
       "      <td>e2e4 c7c6 d2d4 d7d5 e4d5 c6d5 f1d3 g8f6 h2h3 b...</td>\n",
       "    </tr>\n",
       "    <tr>\n",
       "      <th>4</th>\n",
       "      <td>6</td>\n",
       "      <td>Rated Blitz game</td>\n",
       "      <td>2139</td>\n",
       "      <td>2145</td>\n",
       "      <td>Caro-Kann Defense: Endgame Variation</td>\n",
       "      <td>2</td>\n",
       "      <td>e2e4 c7c6 d2d3 d7d5 g1f3 d5e4 d3e4 d8d1 e1d1 g...</td>\n",
       "    </tr>\n",
       "  </tbody>\n",
       "</table>\n",
       "</div>"
      ]
     },
     "execution_count": 21,
     "metadata": {},
     "output_type": "execute_result"
    }
   ],
   "execution_count": 21
  },
  {
   "metadata": {
    "ExecuteTime": {
     "end_time": "2025-05-08T17:25:14.562026Z",
     "start_time": "2025-05-08T15:19:37.544546Z"
    }
   },
   "cell_type": "code",
   "source": [
    "records = []\n",
    "\n",
    "for _, game in tqdm(df.iterrows(), total=len(df), desc=\"Processing games\"):\n",
    "    board = chess.Board()\n",
    "    moves_arr = game[\"moves\"].split()\n",
    "    winner_flag = game[\"winner\"]\n",
    "\n",
    "    for idx, mv in enumerate(moves_arr):\n",
    "        if idx + 1 >= len(moves_arr):\n",
    "            break\n",
    "\n",
    "        board.push_uci(mv)\n",
    "        next_move = moves_arr[idx + 1]\n",
    "\n",
    "        if (board.turn & winner_flag == 1) or (not board.turn & winner_flag == 2):\n",
    "            win_pov = True\n",
    "        else:\n",
    "            win_pov = False\n",
    "\n",
    "        played_by = game[\"white_elo\"] if board.turn else game[\"black_elo\"]\n",
    "\n",
    "        records.append({\n",
    "            \"fen\": board.fen(),\n",
    "            \"next_move\": next_move,\n",
    "            \"played_by_elo\": played_by,\n",
    "            \"win_pov\": win_pov\n",
    "        })\n",
    "\n",
    "positions_df = pd.DataFrame.from_records(records)\n",
    "positions_df.head()"
   ],
   "id": "25429f092e6840f3",
   "outputs": [
    {
     "name": "stderr",
     "output_type": "stream",
     "text": [
      "Processing games: 100%|██████████| 2820759/2820759 [1:53:14<00:00, 415.13it/s]  \n"
     ]
    },
    {
     "data": {
      "text/plain": [
       "                                                 fen next_move  played_by_elo  \\\n",
       "0  rnbqkbnr/pppppppp/8/8/8/2N5/PPPPPPPP/R1BQKBNR ...      e7e5           1218   \n",
       "1  rnbqkbnr/pppp1ppp/8/4p3/8/2N5/PPPPPPPP/R1BQKBN...      e2e4           1247   \n",
       "2  rnbqkbnr/pppp1ppp/8/4p3/4P3/2N5/PPPP1PPP/R1BQK...      f8c5           1218   \n",
       "3  rnbqk1nr/pppp1ppp/8/2b1p3/4P3/2N5/PPPP1PPP/R1B...      d1h5           1247   \n",
       "4  rnbqk1nr/pppp1ppp/8/2b1p2Q/4P3/2N5/PPPP1PPP/R1...      g8f6           1218   \n",
       "\n",
       "   win_pov  \n",
       "0     True  \n",
       "1     True  \n",
       "2     True  \n",
       "3     True  \n",
       "4     True  "
      ],
      "text/html": [
       "<div>\n",
       "<style scoped>\n",
       "    .dataframe tbody tr th:only-of-type {\n",
       "        vertical-align: middle;\n",
       "    }\n",
       "\n",
       "    .dataframe tbody tr th {\n",
       "        vertical-align: top;\n",
       "    }\n",
       "\n",
       "    .dataframe thead th {\n",
       "        text-align: right;\n",
       "    }\n",
       "</style>\n",
       "<table border=\"1\" class=\"dataframe\">\n",
       "  <thead>\n",
       "    <tr style=\"text-align: right;\">\n",
       "      <th></th>\n",
       "      <th>fen</th>\n",
       "      <th>next_move</th>\n",
       "      <th>played_by_elo</th>\n",
       "      <th>win_pov</th>\n",
       "    </tr>\n",
       "  </thead>\n",
       "  <tbody>\n",
       "    <tr>\n",
       "      <th>0</th>\n",
       "      <td>rnbqkbnr/pppppppp/8/8/8/2N5/PPPPPPPP/R1BQKBNR ...</td>\n",
       "      <td>e7e5</td>\n",
       "      <td>1218</td>\n",
       "      <td>True</td>\n",
       "    </tr>\n",
       "    <tr>\n",
       "      <th>1</th>\n",
       "      <td>rnbqkbnr/pppp1ppp/8/4p3/8/2N5/PPPPPPPP/R1BQKBN...</td>\n",
       "      <td>e2e4</td>\n",
       "      <td>1247</td>\n",
       "      <td>True</td>\n",
       "    </tr>\n",
       "    <tr>\n",
       "      <th>2</th>\n",
       "      <td>rnbqkbnr/pppp1ppp/8/4p3/4P3/2N5/PPPP1PPP/R1BQK...</td>\n",
       "      <td>f8c5</td>\n",
       "      <td>1218</td>\n",
       "      <td>True</td>\n",
       "    </tr>\n",
       "    <tr>\n",
       "      <th>3</th>\n",
       "      <td>rnbqk1nr/pppp1ppp/8/2b1p3/4P3/2N5/PPPP1PPP/R1B...</td>\n",
       "      <td>d1h5</td>\n",
       "      <td>1247</td>\n",
       "      <td>True</td>\n",
       "    </tr>\n",
       "    <tr>\n",
       "      <th>4</th>\n",
       "      <td>rnbqk1nr/pppp1ppp/8/2b1p2Q/4P3/2N5/PPPP1PPP/R1...</td>\n",
       "      <td>g8f6</td>\n",
       "      <td>1218</td>\n",
       "      <td>True</td>\n",
       "    </tr>\n",
       "  </tbody>\n",
       "</table>\n",
       "</div>"
      ]
     },
     "execution_count": 22,
     "metadata": {},
     "output_type": "execute_result"
    }
   ],
   "execution_count": 22
  },
  {
   "metadata": {
    "ExecuteTime": {
     "end_time": "2025-05-08T17:46:34.237059Z",
     "start_time": "2025-05-08T17:46:24.908751Z"
    }
   },
   "cell_type": "code",
   "source": [
    "positions_df[\"pair_freq\"] = (\n",
    "    positions_df\n",
    "    .groupby([\"fen\", \"next_move\"])[\"fen\"]\n",
    "    .transform(\"size\")\n",
    ")\n",
    "\n",
    "positions_df = positions_df[positions_df[\"pair_freq\"] >= 100]\n",
    "\n",
    "print(f\"In {len(df)} games there are {len(positions_df)} unique position-move pairs that were played more than 100 times.\")"
   ],
   "id": "4a84390fe24a1840",
   "outputs": [
    {
     "name": "stdout",
     "output_type": "stream",
     "text": [
      "In 2820759 games there are 17813540 unique position-move pairs that were played more than 100 times.\n"
     ]
    }
   ],
   "execution_count": 26
  },
  {
   "metadata": {
    "ExecuteTime": {
     "end_time": "2025-05-08T17:45:14.540389Z",
     "start_time": "2025-05-08T17:45:14.504785Z"
    }
   },
   "cell_type": "code",
   "source": "positions_df.head()",
   "id": "591e99368a7f7fd0",
   "outputs": [
    {
     "data": {
      "text/plain": [
       "                                                  fen next_move  \\\n",
       "0   rnbqkbnr/pppppppp/8/8/8/2N5/PPPPPPPP/R1BQKBNR ...      e7e5   \n",
       "1   rnbqkbnr/pppp1ppp/8/4p3/8/2N5/PPPPPPPP/R1BQKBN...      e2e4   \n",
       "2   rnbqkbnr/pppp1ppp/8/4p3/4P3/2N5/PPPP1PPP/R1BQK...      f8c5   \n",
       "28  rnbqkbnr/pppppppp/8/8/3P4/8/PPP1PPPP/RNBQKBNR ...      c7c6   \n",
       "29  rnbqkbnr/pp1ppppp/2p5/8/3P4/8/PPP1PPPP/RNBQKBN...      e2e4   \n",
       "\n",
       "    played_by_elo  win_pov  pair_freq  \n",
       "0            1218     True       3701  \n",
       "1            1247     True       1333  \n",
       "2            1218     True        149  \n",
       "28           1593     True      23871  \n",
       "29           1577     True       3934  "
      ],
      "text/html": [
       "<div>\n",
       "<style scoped>\n",
       "    .dataframe tbody tr th:only-of-type {\n",
       "        vertical-align: middle;\n",
       "    }\n",
       "\n",
       "    .dataframe tbody tr th {\n",
       "        vertical-align: top;\n",
       "    }\n",
       "\n",
       "    .dataframe thead th {\n",
       "        text-align: right;\n",
       "    }\n",
       "</style>\n",
       "<table border=\"1\" class=\"dataframe\">\n",
       "  <thead>\n",
       "    <tr style=\"text-align: right;\">\n",
       "      <th></th>\n",
       "      <th>fen</th>\n",
       "      <th>next_move</th>\n",
       "      <th>played_by_elo</th>\n",
       "      <th>win_pov</th>\n",
       "      <th>pair_freq</th>\n",
       "    </tr>\n",
       "  </thead>\n",
       "  <tbody>\n",
       "    <tr>\n",
       "      <th>0</th>\n",
       "      <td>rnbqkbnr/pppppppp/8/8/8/2N5/PPPPPPPP/R1BQKBNR ...</td>\n",
       "      <td>e7e5</td>\n",
       "      <td>1218</td>\n",
       "      <td>True</td>\n",
       "      <td>3701</td>\n",
       "    </tr>\n",
       "    <tr>\n",
       "      <th>1</th>\n",
       "      <td>rnbqkbnr/pppp1ppp/8/4p3/8/2N5/PPPPPPPP/R1BQKBN...</td>\n",
       "      <td>e2e4</td>\n",
       "      <td>1247</td>\n",
       "      <td>True</td>\n",
       "      <td>1333</td>\n",
       "    </tr>\n",
       "    <tr>\n",
       "      <th>2</th>\n",
       "      <td>rnbqkbnr/pppp1ppp/8/4p3/4P3/2N5/PPPP1PPP/R1BQK...</td>\n",
       "      <td>f8c5</td>\n",
       "      <td>1218</td>\n",
       "      <td>True</td>\n",
       "      <td>149</td>\n",
       "    </tr>\n",
       "    <tr>\n",
       "      <th>28</th>\n",
       "      <td>rnbqkbnr/pppppppp/8/8/3P4/8/PPP1PPPP/RNBQKBNR ...</td>\n",
       "      <td>c7c6</td>\n",
       "      <td>1593</td>\n",
       "      <td>True</td>\n",
       "      <td>23871</td>\n",
       "    </tr>\n",
       "    <tr>\n",
       "      <th>29</th>\n",
       "      <td>rnbqkbnr/pp1ppppp/2p5/8/3P4/8/PPP1PPPP/RNBQKBN...</td>\n",
       "      <td>e2e4</td>\n",
       "      <td>1577</td>\n",
       "      <td>True</td>\n",
       "      <td>3934</td>\n",
       "    </tr>\n",
       "  </tbody>\n",
       "</table>\n",
       "</div>"
      ]
     },
     "execution_count": 24,
     "metadata": {},
     "output_type": "execute_result"
    }
   ],
   "execution_count": 24
  },
  {
   "metadata": {
    "ExecuteTime": {
     "end_time": "2025-05-08T17:46:24.851710Z",
     "start_time": "2025-05-08T17:45:14.808631Z"
    }
   },
   "cell_type": "code",
   "source": [
    "positions_df.to_parquet(\"../data/positions_2025_01.parquet\")\n",
    "print(\"✅ Saved position data to 'data/positions_2025_01.parquet'\")"
   ],
   "id": "70d977f75fe3c8b3",
   "outputs": [
    {
     "name": "stdout",
     "output_type": "stream",
     "text": [
      "✅ Saved position data to 'data/positions_2025_01.parquet'\n"
     ]
    }
   ],
   "execution_count": 25
  }
 ],
 "metadata": {
  "kernelspec": {
   "display_name": "Python 3",
   "language": "python",
   "name": "python3"
  },
  "language_info": {
   "codemirror_mode": {
    "name": "ipython",
    "version": 2
   },
   "file_extension": ".py",
   "mimetype": "text/x-python",
   "name": "python",
   "nbconvert_exporter": "python",
   "pygments_lexer": "ipython2",
   "version": "2.7.6"
  }
 },
 "nbformat": 4,
 "nbformat_minor": 5
}
