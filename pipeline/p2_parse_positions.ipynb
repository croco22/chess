{
 "cells": [
  {
   "metadata": {
    "ExecuteTime": {
     "end_time": "2025-05-16T18:35:52.199881Z",
     "start_time": "2025-05-16T18:35:52.196927Z"
    }
   },
   "cell_type": "code",
   "source": [
    "import chess\n",
    "import pandas as pd\n",
    "from tqdm import tqdm"
   ],
   "id": "7cbfa5b1a153d5c2",
   "outputs": [],
   "execution_count": 40
  },
  {
   "cell_type": "code",
   "id": "initial_id",
   "metadata": {
    "collapsed": true,
    "ExecuteTime": {
     "end_time": "2025-05-16T18:36:49.692482Z",
     "start_time": "2025-05-16T18:35:52.222878Z"
    }
   },
   "source": [
    "df = pd.read_parquet('../data/data_2025_01.parquet')\n",
    "df.tail()"
   ],
   "outputs": [
    {
     "data": {
      "text/plain": [
       "          game_id             event  white_elo  black_elo  \\\n",
       "9982296   9999996  Rated Blitz game       1586       1593   \n",
       "9982297   9999997  Rated Blitz game       2094       2106   \n",
       "9982298   9999998  Rated Blitz game       1449       1532   \n",
       "9982299   9999999  Rated Blitz game       2069       2063   \n",
       "9982300  10000000  Rated Blitz game       1292       1283   \n",
       "\n",
       "                                                   opening  winner  \\\n",
       "9982296  Sicilian Defense: Delayed Alapin Variation, wi...       1   \n",
       "9982297                          Ruy Lopez: Berlin Defense       2   \n",
       "9982298                    Scandinavian Defense: Main Line       1   \n",
       "9982299                Sicilian Defense: Kramnik Variation       1   \n",
       "9982300              King's Pawn Game: Leonardis Variation       2   \n",
       "\n",
       "                                                     moves  \n",
       "9982296  e2e4 c7c5 g1f3 e7e6 c2c3 d7d5 e4d5 e6d5 d2d4 c...  \n",
       "9982297  e2e4 b8c6 g1f3 e7e5 f1b5 g8f6 b5c6 b7c6 f3e5 f...  \n",
       "9982298  e2e4 d7d5 e4d5 d8d5 b1c3 d5a5 d2d3 c7c6 c1d2 g...  \n",
       "9982299  e2e4 c7c5 g1f3 e7e6 c2c4 b8c6 d2d3 d7d6 b1c3 g...  \n",
       "9982300  e2e4 e7e5 d2d3 g8f6 g1f3 b8c6 f1e2 f8e7 e1g1 d...  "
      ],
      "text/html": [
       "<div>\n",
       "<style scoped>\n",
       "    .dataframe tbody tr th:only-of-type {\n",
       "        vertical-align: middle;\n",
       "    }\n",
       "\n",
       "    .dataframe tbody tr th {\n",
       "        vertical-align: top;\n",
       "    }\n",
       "\n",
       "    .dataframe thead th {\n",
       "        text-align: right;\n",
       "    }\n",
       "</style>\n",
       "<table border=\"1\" class=\"dataframe\">\n",
       "  <thead>\n",
       "    <tr style=\"text-align: right;\">\n",
       "      <th></th>\n",
       "      <th>game_id</th>\n",
       "      <th>event</th>\n",
       "      <th>white_elo</th>\n",
       "      <th>black_elo</th>\n",
       "      <th>opening</th>\n",
       "      <th>winner</th>\n",
       "      <th>moves</th>\n",
       "    </tr>\n",
       "  </thead>\n",
       "  <tbody>\n",
       "    <tr>\n",
       "      <th>9982296</th>\n",
       "      <td>9999996</td>\n",
       "      <td>Rated Blitz game</td>\n",
       "      <td>1586</td>\n",
       "      <td>1593</td>\n",
       "      <td>Sicilian Defense: Delayed Alapin Variation, wi...</td>\n",
       "      <td>1</td>\n",
       "      <td>e2e4 c7c5 g1f3 e7e6 c2c3 d7d5 e4d5 e6d5 d2d4 c...</td>\n",
       "    </tr>\n",
       "    <tr>\n",
       "      <th>9982297</th>\n",
       "      <td>9999997</td>\n",
       "      <td>Rated Blitz game</td>\n",
       "      <td>2094</td>\n",
       "      <td>2106</td>\n",
       "      <td>Ruy Lopez: Berlin Defense</td>\n",
       "      <td>2</td>\n",
       "      <td>e2e4 b8c6 g1f3 e7e5 f1b5 g8f6 b5c6 b7c6 f3e5 f...</td>\n",
       "    </tr>\n",
       "    <tr>\n",
       "      <th>9982298</th>\n",
       "      <td>9999998</td>\n",
       "      <td>Rated Blitz game</td>\n",
       "      <td>1449</td>\n",
       "      <td>1532</td>\n",
       "      <td>Scandinavian Defense: Main Line</td>\n",
       "      <td>1</td>\n",
       "      <td>e2e4 d7d5 e4d5 d8d5 b1c3 d5a5 d2d3 c7c6 c1d2 g...</td>\n",
       "    </tr>\n",
       "    <tr>\n",
       "      <th>9982299</th>\n",
       "      <td>9999999</td>\n",
       "      <td>Rated Blitz game</td>\n",
       "      <td>2069</td>\n",
       "      <td>2063</td>\n",
       "      <td>Sicilian Defense: Kramnik Variation</td>\n",
       "      <td>1</td>\n",
       "      <td>e2e4 c7c5 g1f3 e7e6 c2c4 b8c6 d2d3 d7d6 b1c3 g...</td>\n",
       "    </tr>\n",
       "    <tr>\n",
       "      <th>9982300</th>\n",
       "      <td>10000000</td>\n",
       "      <td>Rated Blitz game</td>\n",
       "      <td>1292</td>\n",
       "      <td>1283</td>\n",
       "      <td>King's Pawn Game: Leonardis Variation</td>\n",
       "      <td>2</td>\n",
       "      <td>e2e4 e7e5 d2d3 g8f6 g1f3 b8c6 f1e2 f8e7 e1g1 d...</td>\n",
       "    </tr>\n",
       "  </tbody>\n",
       "</table>\n",
       "</div>"
      ]
     },
     "execution_count": 41,
     "metadata": {},
     "output_type": "execute_result"
    }
   ],
   "execution_count": 41
  },
  {
   "metadata": {
    "ExecuteTime": {
     "end_time": "2025-05-16T18:36:50.232972Z",
     "start_time": "2025-05-16T18:36:49.849131Z"
    }
   },
   "cell_type": "code",
   "source": "df[\"event\"].value_counts()",
   "id": "f2f4d05589e28321",
   "outputs": [
    {
     "data": {
      "text/plain": [
       "event\n",
       "Rated Blitz game                                                  4231136\n",
       "Rated Bullet game                                                 3355083\n",
       "Rated Rapid game                                                  1340401\n",
       "Rated Classical game                                                56249\n",
       "Rated UltraBullet game                                              46917\n",
       "                                                                   ...   \n",
       "Classical swiss https://lichess.org/swiss/bUvNze57                      1\n",
       "Rated Rapid tournament https://lichess.org/tournament/wmyH1zNY          1\n",
       "Rated Rapid tournament https://lichess.org/tournament/3XeES9oL          1\n",
       "Blitz swiss https://lichess.org/swiss/UUugSTaP                          1\n",
       "Rapid swiss https://lichess.org/swiss/WReDpHLY                          1\n",
       "Name: count, Length: 4664, dtype: int64"
      ]
     },
     "execution_count": 42,
     "metadata": {},
     "output_type": "execute_result"
    }
   ],
   "execution_count": 42
  },
  {
   "metadata": {
    "ExecuteTime": {
     "end_time": "2025-05-16T18:36:50.713026Z",
     "start_time": "2025-05-16T18:36:50.293106Z"
    }
   },
   "cell_type": "code",
   "source": "df[\"opening\"].value_counts()",
   "id": "575d576c0c25f159",
   "outputs": [
    {
     "data": {
      "text/plain": [
       "opening\n",
       "Queen's Pawn Game                                                     261820\n",
       "Caro-Kann Defense                                                     185052\n",
       "Van't Kruijs Opening                                                  176273\n",
       "Modern Defense                                                        163143\n",
       "Philidor Defense                                                      159803\n",
       "                                                                       ...  \n",
       "Sicilian Defense: Kan Variation, Wing Attack, Christiansen's Dream         1\n",
       "Petrov's Defense: Modern Attack, Tal Gambit                                1\n",
       "Scandinavian Defense: Modern Variation, Wing Gambit                        1\n",
       "Italian Game: Classical Variation, Eisinger Variation                      1\n",
       "King's Gambit Declined: Classical Variation, Euwe Attack                   1\n",
       "Name: count, Length: 2914, dtype: int64"
      ]
     },
     "execution_count": 43,
     "metadata": {},
     "output_type": "execute_result"
    }
   ],
   "execution_count": 43
  },
  {
   "metadata": {
    "ExecuteTime": {
     "end_time": "2025-05-16T18:36:53.248277Z",
     "start_time": "2025-05-16T18:36:50.776576Z"
    }
   },
   "cell_type": "code",
   "source": [
    "events_to_keep = [\n",
    "    \"Rated Bullet game\",\n",
    "    \"Rated Blitz game\",\n",
    "    \"Rated Rapid game\",\n",
    "    \"Rated Classical game\"\n",
    "]\n",
    "df = df[df[\"event\"].isin(events_to_keep)]\n",
    "\n",
    "df = df[df[\"opening\"] == \"Queen's Pawn Game: Accelerated London System\"]\n",
    "\n",
    "df.head()"
   ],
   "id": "3b7e5f5fd4504e0c",
   "outputs": [
    {
     "data": {
      "text/plain": [
       "     game_id             event  white_elo  black_elo  \\\n",
       "23        25  Rated Blitz game       1433       1491   \n",
       "34        36  Rated Blitz game       1773       1654   \n",
       "179      181  Rated Blitz game       1725       1756   \n",
       "253      255  Rated Rapid game       2217       2248   \n",
       "265      267  Rated Rapid game       1443       1479   \n",
       "\n",
       "                                          opening  winner  \\\n",
       "23   Queen's Pawn Game: Accelerated London System       2   \n",
       "34   Queen's Pawn Game: Accelerated London System       0   \n",
       "179  Queen's Pawn Game: Accelerated London System       2   \n",
       "253  Queen's Pawn Game: Accelerated London System       1   \n",
       "265  Queen's Pawn Game: Accelerated London System       1   \n",
       "\n",
       "                                                 moves  \n",
       "23   d2d4 d7d5 c1f4 g8f6 e2e3 c8g4 f1e2 g4e2 g1e2 e...  \n",
       "34   d2d4 d7d5 c1f4 c7c6 g1f3 c8f5 h2h3 e7e6 b1d2 h...  \n",
       "179  d2d4 d7d5 c1f4 g8f6 e2e3 e7e6 c2c3 c7c5 f1d3 c...  \n",
       "253  d2d4 d7d5 c1f4 f7f6 e2e3 h7h5 f1d3 e8f7 h2h4 a...  \n",
       "265  d2d4 d7d5 c1f4 e7e6 e2e3 f8d6 f4g3 g8f6 g1f3 d...  "
      ],
      "text/html": [
       "<div>\n",
       "<style scoped>\n",
       "    .dataframe tbody tr th:only-of-type {\n",
       "        vertical-align: middle;\n",
       "    }\n",
       "\n",
       "    .dataframe tbody tr th {\n",
       "        vertical-align: top;\n",
       "    }\n",
       "\n",
       "    .dataframe thead th {\n",
       "        text-align: right;\n",
       "    }\n",
       "</style>\n",
       "<table border=\"1\" class=\"dataframe\">\n",
       "  <thead>\n",
       "    <tr style=\"text-align: right;\">\n",
       "      <th></th>\n",
       "      <th>game_id</th>\n",
       "      <th>event</th>\n",
       "      <th>white_elo</th>\n",
       "      <th>black_elo</th>\n",
       "      <th>opening</th>\n",
       "      <th>winner</th>\n",
       "      <th>moves</th>\n",
       "    </tr>\n",
       "  </thead>\n",
       "  <tbody>\n",
       "    <tr>\n",
       "      <th>23</th>\n",
       "      <td>25</td>\n",
       "      <td>Rated Blitz game</td>\n",
       "      <td>1433</td>\n",
       "      <td>1491</td>\n",
       "      <td>Queen's Pawn Game: Accelerated London System</td>\n",
       "      <td>2</td>\n",
       "      <td>d2d4 d7d5 c1f4 g8f6 e2e3 c8g4 f1e2 g4e2 g1e2 e...</td>\n",
       "    </tr>\n",
       "    <tr>\n",
       "      <th>34</th>\n",
       "      <td>36</td>\n",
       "      <td>Rated Blitz game</td>\n",
       "      <td>1773</td>\n",
       "      <td>1654</td>\n",
       "      <td>Queen's Pawn Game: Accelerated London System</td>\n",
       "      <td>0</td>\n",
       "      <td>d2d4 d7d5 c1f4 c7c6 g1f3 c8f5 h2h3 e7e6 b1d2 h...</td>\n",
       "    </tr>\n",
       "    <tr>\n",
       "      <th>179</th>\n",
       "      <td>181</td>\n",
       "      <td>Rated Blitz game</td>\n",
       "      <td>1725</td>\n",
       "      <td>1756</td>\n",
       "      <td>Queen's Pawn Game: Accelerated London System</td>\n",
       "      <td>2</td>\n",
       "      <td>d2d4 d7d5 c1f4 g8f6 e2e3 e7e6 c2c3 c7c5 f1d3 c...</td>\n",
       "    </tr>\n",
       "    <tr>\n",
       "      <th>253</th>\n",
       "      <td>255</td>\n",
       "      <td>Rated Rapid game</td>\n",
       "      <td>2217</td>\n",
       "      <td>2248</td>\n",
       "      <td>Queen's Pawn Game: Accelerated London System</td>\n",
       "      <td>1</td>\n",
       "      <td>d2d4 d7d5 c1f4 f7f6 e2e3 h7h5 f1d3 e8f7 h2h4 a...</td>\n",
       "    </tr>\n",
       "    <tr>\n",
       "      <th>265</th>\n",
       "      <td>267</td>\n",
       "      <td>Rated Rapid game</td>\n",
       "      <td>1443</td>\n",
       "      <td>1479</td>\n",
       "      <td>Queen's Pawn Game: Accelerated London System</td>\n",
       "      <td>1</td>\n",
       "      <td>d2d4 d7d5 c1f4 e7e6 e2e3 f8d6 f4g3 g8f6 g1f3 d...</td>\n",
       "    </tr>\n",
       "  </tbody>\n",
       "</table>\n",
       "</div>"
      ]
     },
     "execution_count": 44,
     "metadata": {},
     "output_type": "execute_result"
    }
   ],
   "execution_count": 44
  },
  {
   "metadata": {
    "ExecuteTime": {
     "end_time": "2025-05-16T18:38:24.160284Z",
     "start_time": "2025-05-16T18:36:53.312506Z"
    }
   },
   "cell_type": "code",
   "source": [
    "records = []\n",
    "\n",
    "for _, game in tqdm(df.iterrows(), total=len(df), desc=\"Processing games\"):\n",
    "    board = chess.Board()\n",
    "    moves_arr = game[\"moves\"].split()\n",
    "    winner_flag = game[\"winner\"]\n",
    "\n",
    "    for idx, mv in enumerate(moves_arr):\n",
    "        if idx >= 20 or idx + 1 >= len(moves_arr):\n",
    "            break\n",
    "        if idx < 9:\n",
    "            board.push_uci(mv)\n",
    "            continue\n",
    "\n",
    "        board.push_uci(mv)\n",
    "        next_move = moves_arr[idx + 1]\n",
    "\n",
    "        if (board.turn == chess.WHITE and winner_flag == 1) or (board.turn == chess.BLACK and winner_flag == 2):\n",
    "            win_pov = True\n",
    "        else:\n",
    "            win_pov = False\n",
    "\n",
    "        played_by = game[\"white_elo\"] if board.turn else game[\"black_elo\"]\n",
    "\n",
    "        records.append({\n",
    "            \"fen\": board.fen(),\n",
    "            \"next_move\": next_move,\n",
    "            \"played_by_elo\": played_by,\n",
    "            \"win_pov\": win_pov\n",
    "        })\n",
    "\n",
    "positions_df = pd.DataFrame.from_records(records)\n",
    "positions_df.head()"
   ],
   "id": "25429f092e6840f3",
   "outputs": [
    {
     "name": "stderr",
     "output_type": "stream",
     "text": [
      "Processing games: 100%|██████████| 145903/145903 [01:29<00:00, 1635.04it/s]\n"
     ]
    },
    {
     "data": {
      "text/plain": [
       "                                                 fen next_move  played_by_elo  \\\n",
       "0  rn1qkb1r/ppp2ppp/4pn2/3p4/3P1B2/4P3/PPP1NPPP/R...      a2a3           1433   \n",
       "1  rn1qkb1r/ppp2ppp/4pn2/3p4/3P1B2/P3P3/1PP1NPPP/...      f8d6           1491   \n",
       "2  rn1qk2r/ppp2ppp/3bpn2/3p4/3P1B2/P3P3/1PP1NPPP/...      f4g3           1433   \n",
       "3  rn1qk2r/ppp2ppp/3bpn2/3p4/3P4/P3P1B1/1PP1NPPP/...      d6g3           1491   \n",
       "4  rn1qk2r/ppp2ppp/4pn2/3p4/3P4/P3P1b1/1PP1NPPP/R...      f2g3           1433   \n",
       "\n",
       "   win_pov  \n",
       "0    False  \n",
       "1     True  \n",
       "2    False  \n",
       "3     True  \n",
       "4    False  "
      ],
      "text/html": [
       "<div>\n",
       "<style scoped>\n",
       "    .dataframe tbody tr th:only-of-type {\n",
       "        vertical-align: middle;\n",
       "    }\n",
       "\n",
       "    .dataframe tbody tr th {\n",
       "        vertical-align: top;\n",
       "    }\n",
       "\n",
       "    .dataframe thead th {\n",
       "        text-align: right;\n",
       "    }\n",
       "</style>\n",
       "<table border=\"1\" class=\"dataframe\">\n",
       "  <thead>\n",
       "    <tr style=\"text-align: right;\">\n",
       "      <th></th>\n",
       "      <th>fen</th>\n",
       "      <th>next_move</th>\n",
       "      <th>played_by_elo</th>\n",
       "      <th>win_pov</th>\n",
       "    </tr>\n",
       "  </thead>\n",
       "  <tbody>\n",
       "    <tr>\n",
       "      <th>0</th>\n",
       "      <td>rn1qkb1r/ppp2ppp/4pn2/3p4/3P1B2/4P3/PPP1NPPP/R...</td>\n",
       "      <td>a2a3</td>\n",
       "      <td>1433</td>\n",
       "      <td>False</td>\n",
       "    </tr>\n",
       "    <tr>\n",
       "      <th>1</th>\n",
       "      <td>rn1qkb1r/ppp2ppp/4pn2/3p4/3P1B2/P3P3/1PP1NPPP/...</td>\n",
       "      <td>f8d6</td>\n",
       "      <td>1491</td>\n",
       "      <td>True</td>\n",
       "    </tr>\n",
       "    <tr>\n",
       "      <th>2</th>\n",
       "      <td>rn1qk2r/ppp2ppp/3bpn2/3p4/3P1B2/P3P3/1PP1NPPP/...</td>\n",
       "      <td>f4g3</td>\n",
       "      <td>1433</td>\n",
       "      <td>False</td>\n",
       "    </tr>\n",
       "    <tr>\n",
       "      <th>3</th>\n",
       "      <td>rn1qk2r/ppp2ppp/3bpn2/3p4/3P4/P3P1B1/1PP1NPPP/...</td>\n",
       "      <td>d6g3</td>\n",
       "      <td>1491</td>\n",
       "      <td>True</td>\n",
       "    </tr>\n",
       "    <tr>\n",
       "      <th>4</th>\n",
       "      <td>rn1qk2r/ppp2ppp/4pn2/3p4/3P4/P3P1b1/1PP1NPPP/R...</td>\n",
       "      <td>f2g3</td>\n",
       "      <td>1433</td>\n",
       "      <td>False</td>\n",
       "    </tr>\n",
       "  </tbody>\n",
       "</table>\n",
       "</div>"
      ]
     },
     "execution_count": 45,
     "metadata": {},
     "output_type": "execute_result"
    }
   ],
   "execution_count": 45
  },
  {
   "metadata": {
    "ExecuteTime": {
     "end_time": "2025-05-16T18:38:25.849815Z",
     "start_time": "2025-05-16T18:38:24.220321Z"
    }
   },
   "cell_type": "code",
   "source": [
    "positions_df[\"games_count\"] = (\n",
    "    positions_df.groupby([\"fen\", \"next_move\"])[\"fen\"].transform(\"size\")\n",
    ")\n",
    "positions_df = positions_df[positions_df[\"games_count\"] >= 100]\n",
    "\n",
    "n_unique = positions_df[[\"fen\", \"next_move\"]].drop_duplicates().shape[0]\n",
    "print(f\"{n_unique} entries from position-move pairs played at least 100 times.\")"
   ],
   "id": "e15860af298bab88",
   "outputs": [
    {
     "name": "stdout",
     "output_type": "stream",
     "text": [
      "126 entries from position-move pairs played at least 100 times.\n"
     ]
    }
   ],
   "execution_count": 46
  },
  {
   "metadata": {
    "ExecuteTime": {
     "end_time": "2025-05-16T18:38:25.938129Z",
     "start_time": "2025-05-16T18:38:25.878506Z"
    }
   },
   "cell_type": "code",
   "source": [
    "positions_df.to_parquet(\"../data/positions_2025_01.parquet\", index=False)\n",
    "print(\"✅ Saved position data to 'data/positions_2025_01.parquet'\")"
   ],
   "id": "70d977f75fe3c8b3",
   "outputs": [
    {
     "name": "stdout",
     "output_type": "stream",
     "text": [
      "✅ Saved position data to 'data/positions_2025_01.parquet'\n"
     ]
    }
   ],
   "execution_count": 47
  }
 ],
 "metadata": {
  "kernelspec": {
   "display_name": "Python 3",
   "language": "python",
   "name": "python3"
  },
  "language_info": {
   "codemirror_mode": {
    "name": "ipython",
    "version": 2
   },
   "file_extension": ".py",
   "mimetype": "text/x-python",
   "name": "python",
   "nbconvert_exporter": "python",
   "pygments_lexer": "ipython2",
   "version": "2.7.6"
  }
 },
 "nbformat": 4,
 "nbformat_minor": 5
}
