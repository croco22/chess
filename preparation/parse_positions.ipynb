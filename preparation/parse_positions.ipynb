{
 "cells": [
  {
   "metadata": {
    "ExecuteTime": {
     "end_time": "2025-05-06T15:06:02.308556Z",
     "start_time": "2025-05-06T15:06:02.305658Z"
    }
   },
   "cell_type": "code",
   "source": [
    "import chess\n",
    "import pandas as pd\n",
    "from tqdm import tqdm"
   ],
   "id": "7cbfa5b1a153d5c2",
   "outputs": [],
   "execution_count": 29
  },
  {
   "cell_type": "code",
   "id": "initial_id",
   "metadata": {
    "collapsed": true,
    "ExecuteTime": {
     "end_time": "2025-05-06T15:06:02.378579Z",
     "start_time": "2025-05-06T15:06:02.327232Z"
    }
   },
   "source": [
    "df = pd.read_parquet('../data/moves_2025_01.parquet')\n",
    "df.tail()"
   ],
   "outputs": [
    {
     "data": {
      "text/plain": [
       "         avg_elo                                              moves  winner\n",
       "4990819   1553.0  e2e4 d7d5 e4d5 d8d5 b1c3 d5e6 f1e2 b8c6 g1f3 g...       1\n",
       "4990836   1960.0  e2e4 d7d5 e4d5 d8d5 d2d4 g8f6 c1e3 c8g4 f1e2 b...       1\n",
       "4990890    817.5  e2e4 d7d5 e4d5 d8d5 d2d3 d5d4 c2c3 d4e5 f1e2 c...       2\n",
       "4991060   1251.0  e2e4 d7d5 e4d5 d8d5 d2d4 g8f6 b1c3 g7g6 c3d5 f...       1\n",
       "4991095   1889.5  e2e4 d7d5 e4d5 d8d5 g1f3 c8g4 f1e2 b8c6 e1g1 e...       1"
      ],
      "text/html": [
       "<div>\n",
       "<style scoped>\n",
       "    .dataframe tbody tr th:only-of-type {\n",
       "        vertical-align: middle;\n",
       "    }\n",
       "\n",
       "    .dataframe tbody tr th {\n",
       "        vertical-align: top;\n",
       "    }\n",
       "\n",
       "    .dataframe thead th {\n",
       "        text-align: right;\n",
       "    }\n",
       "</style>\n",
       "<table border=\"1\" class=\"dataframe\">\n",
       "  <thead>\n",
       "    <tr style=\"text-align: right;\">\n",
       "      <th></th>\n",
       "      <th>avg_elo</th>\n",
       "      <th>moves</th>\n",
       "      <th>winner</th>\n",
       "    </tr>\n",
       "  </thead>\n",
       "  <tbody>\n",
       "    <tr>\n",
       "      <th>4990819</th>\n",
       "      <td>1553.0</td>\n",
       "      <td>e2e4 d7d5 e4d5 d8d5 b1c3 d5e6 f1e2 b8c6 g1f3 g...</td>\n",
       "      <td>1</td>\n",
       "    </tr>\n",
       "    <tr>\n",
       "      <th>4990836</th>\n",
       "      <td>1960.0</td>\n",
       "      <td>e2e4 d7d5 e4d5 d8d5 d2d4 g8f6 c1e3 c8g4 f1e2 b...</td>\n",
       "      <td>1</td>\n",
       "    </tr>\n",
       "    <tr>\n",
       "      <th>4990890</th>\n",
       "      <td>817.5</td>\n",
       "      <td>e2e4 d7d5 e4d5 d8d5 d2d3 d5d4 c2c3 d4e5 f1e2 c...</td>\n",
       "      <td>2</td>\n",
       "    </tr>\n",
       "    <tr>\n",
       "      <th>4991060</th>\n",
       "      <td>1251.0</td>\n",
       "      <td>e2e4 d7d5 e4d5 d8d5 d2d4 g8f6 b1c3 g7g6 c3d5 f...</td>\n",
       "      <td>1</td>\n",
       "    </tr>\n",
       "    <tr>\n",
       "      <th>4991095</th>\n",
       "      <td>1889.5</td>\n",
       "      <td>e2e4 d7d5 e4d5 d8d5 g1f3 c8g4 f1e2 b8c6 e1g1 e...</td>\n",
       "      <td>1</td>\n",
       "    </tr>\n",
       "  </tbody>\n",
       "</table>\n",
       "</div>"
      ]
     },
     "execution_count": 30,
     "metadata": {},
     "output_type": "execute_result"
    }
   ],
   "execution_count": 30
  },
  {
   "metadata": {
    "ExecuteTime": {
     "end_time": "2025-05-06T15:08:08.572942Z",
     "start_time": "2025-05-06T15:06:02.408653Z"
    }
   },
   "cell_type": "code",
   "source": [
    "records = []\n",
    "\n",
    "for _, game in tqdm(df.iterrows(), total=len(df), desc=\"Processing games\"):\n",
    "    board = chess.Board()\n",
    "    elo = game[\"avg_elo\"]\n",
    "    moves_arr = game[\"moves\"].split()\n",
    "    winner_flag = game[\"winner\"]\n",
    "\n",
    "    for idx, mv in enumerate(moves_arr):\n",
    "        if idx + 1 >= len(moves_arr):\n",
    "            break\n",
    "\n",
    "        board.push_uci(mv)\n",
    "        next_move = moves_arr[idx + 1]\n",
    "\n",
    "        # Hat die Seite, die jetzt am Zug ist, am Ende gewonnen?\n",
    "        if (board.turn == chess.WHITE & winner_flag == 1) or (board.turn == chess.BLACK & winner_flag == 2):\n",
    "            win_pov = True\n",
    "        else:\n",
    "            win_pov = False\n",
    "\n",
    "        records.append({\n",
    "            \"fen\": board.fen(),\n",
    "            \"next_move\": next_move,\n",
    "            \"played_by\": elo,\n",
    "            \"win_pov\": win_pov\n",
    "        })\n",
    "\n",
    "positions_df = pd.DataFrame.from_records(records)\n",
    "positions_df.head()"
   ],
   "id": "25429f092e6840f3",
   "outputs": [
    {
     "name": "stderr",
     "output_type": "stream",
     "text": [
      "Processing games: 100%|██████████| 61296/61296 [02:04<00:00, 492.39it/s]\n"
     ]
    },
    {
     "data": {
      "text/plain": [
       "                                                 fen next_move  played_by  \\\n",
       "0  rnbqkbnr/pppppppp/8/8/4P3/8/PPPP1PPP/RNBQKBNR ...      d7d5     1927.5   \n",
       "1  rnbqkbnr/ppp1pppp/8/3p4/4P3/8/PPPP1PPP/RNBQKBN...      e4d5     1927.5   \n",
       "2  rnbqkbnr/ppp1pppp/8/3P4/8/8/PPPP1PPP/RNBQKBNR ...      d8d5     1927.5   \n",
       "3  rnb1kbnr/ppp1pppp/8/3q4/8/8/PPPP1PPP/RNBQKBNR ...      g1f3     1927.5   \n",
       "4  rnb1kbnr/ppp1pppp/8/3q4/8/5N2/PPPP1PPP/RNBQKB1...      d5f3     1927.5   \n",
       "\n",
       "   win_pov  \n",
       "0    False  \n",
       "1     True  \n",
       "2    False  \n",
       "3     True  \n",
       "4    False  "
      ],
      "text/html": [
       "<div>\n",
       "<style scoped>\n",
       "    .dataframe tbody tr th:only-of-type {\n",
       "        vertical-align: middle;\n",
       "    }\n",
       "\n",
       "    .dataframe tbody tr th {\n",
       "        vertical-align: top;\n",
       "    }\n",
       "\n",
       "    .dataframe thead th {\n",
       "        text-align: right;\n",
       "    }\n",
       "</style>\n",
       "<table border=\"1\" class=\"dataframe\">\n",
       "  <thead>\n",
       "    <tr style=\"text-align: right;\">\n",
       "      <th></th>\n",
       "      <th>fen</th>\n",
       "      <th>next_move</th>\n",
       "      <th>played_by</th>\n",
       "      <th>win_pov</th>\n",
       "    </tr>\n",
       "  </thead>\n",
       "  <tbody>\n",
       "    <tr>\n",
       "      <th>0</th>\n",
       "      <td>rnbqkbnr/pppppppp/8/8/4P3/8/PPPP1PPP/RNBQKBNR ...</td>\n",
       "      <td>d7d5</td>\n",
       "      <td>1927.5</td>\n",
       "      <td>False</td>\n",
       "    </tr>\n",
       "    <tr>\n",
       "      <th>1</th>\n",
       "      <td>rnbqkbnr/ppp1pppp/8/3p4/4P3/8/PPPP1PPP/RNBQKBN...</td>\n",
       "      <td>e4d5</td>\n",
       "      <td>1927.5</td>\n",
       "      <td>True</td>\n",
       "    </tr>\n",
       "    <tr>\n",
       "      <th>2</th>\n",
       "      <td>rnbqkbnr/ppp1pppp/8/3P4/8/8/PPPP1PPP/RNBQKBNR ...</td>\n",
       "      <td>d8d5</td>\n",
       "      <td>1927.5</td>\n",
       "      <td>False</td>\n",
       "    </tr>\n",
       "    <tr>\n",
       "      <th>3</th>\n",
       "      <td>rnb1kbnr/ppp1pppp/8/3q4/8/8/PPPP1PPP/RNBQKBNR ...</td>\n",
       "      <td>g1f3</td>\n",
       "      <td>1927.5</td>\n",
       "      <td>True</td>\n",
       "    </tr>\n",
       "    <tr>\n",
       "      <th>4</th>\n",
       "      <td>rnb1kbnr/ppp1pppp/8/3q4/8/5N2/PPPP1PPP/RNBQKB1...</td>\n",
       "      <td>d5f3</td>\n",
       "      <td>1927.5</td>\n",
       "      <td>False</td>\n",
       "    </tr>\n",
       "  </tbody>\n",
       "</table>\n",
       "</div>"
      ]
     },
     "execution_count": 31,
     "metadata": {},
     "output_type": "execute_result"
    }
   ],
   "execution_count": 31
  },
  {
   "metadata": {
    "ExecuteTime": {
     "end_time": "2025-05-06T15:08:14.649500Z",
     "start_time": "2025-05-06T15:08:08.625479Z"
    }
   },
   "cell_type": "code",
   "source": [
    "positions_df[\"pair_freq\"] = (\n",
    "    positions_df\n",
    "    .groupby([\"fen\", \"next_move\"])[\"fen\"]\n",
    "    .transform(\"size\")\n",
    ")\n",
    "\n",
    "positions_df = positions_df[positions_df[\"pair_freq\"] >= 100]\n",
    "\n",
    "print(f\"In {len(df)} games there are {len(positions_df)} unique position-move pairs that were played more than 100 times.\")"
   ],
   "id": "4a84390fe24a1840",
   "outputs": [
    {
     "name": "stdout",
     "output_type": "stream",
     "text": [
      "In 61296 games there are 433375 unique position-move pairs that were played more than 100 times.\n"
     ]
    }
   ],
   "execution_count": 32
  },
  {
   "metadata": {
    "ExecuteTime": {
     "end_time": "2025-05-06T15:08:14.682818Z",
     "start_time": "2025-05-06T15:08:14.677822Z"
    }
   },
   "cell_type": "code",
   "source": "positions_df.head()",
   "id": "591e99368a7f7fd0",
   "outputs": [
    {
     "data": {
      "text/plain": [
       "                                                  fen next_move  played_by  \\\n",
       "0   rnbqkbnr/pppppppp/8/8/4P3/8/PPPP1PPP/RNBQKBNR ...      d7d5     1927.5   \n",
       "1   rnbqkbnr/ppp1pppp/8/3p4/4P3/8/PPPP1PPP/RNBQKBN...      e4d5     1927.5   \n",
       "2   rnbqkbnr/ppp1pppp/8/3P4/8/8/PPPP1PPP/RNBQKBNR ...      d8d5     1927.5   \n",
       "3   rnb1kbnr/ppp1pppp/8/3q4/8/8/PPPP1PPP/RNBQKBNR ...      g1f3     1927.5   \n",
       "34  rnbqkbnr/pppppppp/8/8/4P3/8/PPPP1PPP/RNBQKBNR ...      d7d5     1341.5   \n",
       "\n",
       "    win_pov  pair_freq  \n",
       "0     False      61296  \n",
       "1      True      61296  \n",
       "2     False      61296  \n",
       "3      True      17865  \n",
       "34    False      61296  "
      ],
      "text/html": [
       "<div>\n",
       "<style scoped>\n",
       "    .dataframe tbody tr th:only-of-type {\n",
       "        vertical-align: middle;\n",
       "    }\n",
       "\n",
       "    .dataframe tbody tr th {\n",
       "        vertical-align: top;\n",
       "    }\n",
       "\n",
       "    .dataframe thead th {\n",
       "        text-align: right;\n",
       "    }\n",
       "</style>\n",
       "<table border=\"1\" class=\"dataframe\">\n",
       "  <thead>\n",
       "    <tr style=\"text-align: right;\">\n",
       "      <th></th>\n",
       "      <th>fen</th>\n",
       "      <th>next_move</th>\n",
       "      <th>played_by</th>\n",
       "      <th>win_pov</th>\n",
       "      <th>pair_freq</th>\n",
       "    </tr>\n",
       "  </thead>\n",
       "  <tbody>\n",
       "    <tr>\n",
       "      <th>0</th>\n",
       "      <td>rnbqkbnr/pppppppp/8/8/4P3/8/PPPP1PPP/RNBQKBNR ...</td>\n",
       "      <td>d7d5</td>\n",
       "      <td>1927.5</td>\n",
       "      <td>False</td>\n",
       "      <td>61296</td>\n",
       "    </tr>\n",
       "    <tr>\n",
       "      <th>1</th>\n",
       "      <td>rnbqkbnr/ppp1pppp/8/3p4/4P3/8/PPPP1PPP/RNBQKBN...</td>\n",
       "      <td>e4d5</td>\n",
       "      <td>1927.5</td>\n",
       "      <td>True</td>\n",
       "      <td>61296</td>\n",
       "    </tr>\n",
       "    <tr>\n",
       "      <th>2</th>\n",
       "      <td>rnbqkbnr/ppp1pppp/8/3P4/8/8/PPPP1PPP/RNBQKBNR ...</td>\n",
       "      <td>d8d5</td>\n",
       "      <td>1927.5</td>\n",
       "      <td>False</td>\n",
       "      <td>61296</td>\n",
       "    </tr>\n",
       "    <tr>\n",
       "      <th>3</th>\n",
       "      <td>rnb1kbnr/ppp1pppp/8/3q4/8/8/PPPP1PPP/RNBQKBNR ...</td>\n",
       "      <td>g1f3</td>\n",
       "      <td>1927.5</td>\n",
       "      <td>True</td>\n",
       "      <td>17865</td>\n",
       "    </tr>\n",
       "    <tr>\n",
       "      <th>34</th>\n",
       "      <td>rnbqkbnr/pppppppp/8/8/4P3/8/PPPP1PPP/RNBQKBNR ...</td>\n",
       "      <td>d7d5</td>\n",
       "      <td>1341.5</td>\n",
       "      <td>False</td>\n",
       "      <td>61296</td>\n",
       "    </tr>\n",
       "  </tbody>\n",
       "</table>\n",
       "</div>"
      ]
     },
     "execution_count": 33,
     "metadata": {},
     "output_type": "execute_result"
    }
   ],
   "execution_count": 33
  },
  {
   "metadata": {
    "ExecuteTime": {
     "end_time": "2025-05-06T15:08:14.897116Z",
     "start_time": "2025-05-06T15:08:14.747687Z"
    }
   },
   "cell_type": "code",
   "source": [
    "positions_df.to_parquet(\"../data/positions_2025_01.parquet\")\n",
    "print(\"✅ Saved position data to 'data/positions_2025_01.parquet'\")"
   ],
   "id": "70d977f75fe3c8b3",
   "outputs": [
    {
     "name": "stdout",
     "output_type": "stream",
     "text": [
      "✅ Saved position data to 'data/positions_2025_01.parquet'\n"
     ]
    }
   ],
   "execution_count": 34
  }
 ],
 "metadata": {
  "kernelspec": {
   "display_name": "Python 3",
   "language": "python",
   "name": "python3"
  },
  "language_info": {
   "codemirror_mode": {
    "name": "ipython",
    "version": 2
   },
   "file_extension": ".py",
   "mimetype": "text/x-python",
   "name": "python",
   "nbconvert_exporter": "python",
   "pygments_lexer": "ipython2",
   "version": "2.7.6"
  }
 },
 "nbformat": 4,
 "nbformat_minor": 5
}
