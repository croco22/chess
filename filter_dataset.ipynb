{
 "cells": [
  {
   "metadata": {},
   "cell_type": "markdown",
   "source": "# Filter the dataset based on event type and opening",
   "id": "8060a41f84dc29ad"
  },
  {
   "cell_type": "code",
   "id": "initial_id",
   "metadata": {
    "collapsed": true,
    "ExecuteTime": {
     "end_time": "2025-04-29T20:11:19.922414Z",
     "start_time": "2025-04-29T20:11:19.180600Z"
    }
   },
   "source": [
    "import pandas as pd\n",
    "\n",
    "df = pd.read_parquet('data/data_2025_01.parquet')\n",
    "df.tail()"
   ],
   "outputs": [
    {
     "ename": "FileNotFoundError",
     "evalue": "[Errno 2] No such file or directory: 'data/data_2025_01.parquet'",
     "output_type": "error",
     "traceback": [
      "\u001B[1;31m---------------------------------------------------------------------------\u001B[0m",
      "\u001B[1;31mFileNotFoundError\u001B[0m                         Traceback (most recent call last)",
      "Cell \u001B[1;32mIn[1], line 3\u001B[0m\n\u001B[0;32m      1\u001B[0m \u001B[38;5;28;01mimport\u001B[39;00m\u001B[38;5;250m \u001B[39m\u001B[38;5;21;01mpandas\u001B[39;00m\u001B[38;5;250m \u001B[39m\u001B[38;5;28;01mas\u001B[39;00m\u001B[38;5;250m \u001B[39m\u001B[38;5;21;01mpd\u001B[39;00m\n\u001B[1;32m----> 3\u001B[0m df \u001B[38;5;241m=\u001B[39m \u001B[43mpd\u001B[49m\u001B[38;5;241;43m.\u001B[39;49m\u001B[43mread_parquet\u001B[49m\u001B[43m(\u001B[49m\u001B[38;5;124;43m'\u001B[39;49m\u001B[38;5;124;43mdata/data_2025_01.parquet\u001B[39;49m\u001B[38;5;124;43m'\u001B[39;49m\u001B[43m)\u001B[49m\n\u001B[0;32m      4\u001B[0m df\u001B[38;5;241m.\u001B[39mtail()\n",
      "File \u001B[1;32m~\\Documents\\Code\\test\\.venv\\Lib\\site-packages\\pandas\\io\\parquet.py:667\u001B[0m, in \u001B[0;36mread_parquet\u001B[1;34m(path, engine, columns, storage_options, use_nullable_dtypes, dtype_backend, filesystem, filters, **kwargs)\u001B[0m\n\u001B[0;32m    664\u001B[0m     use_nullable_dtypes \u001B[38;5;241m=\u001B[39m \u001B[38;5;28;01mFalse\u001B[39;00m\n\u001B[0;32m    665\u001B[0m check_dtype_backend(dtype_backend)\n\u001B[1;32m--> 667\u001B[0m \u001B[38;5;28;01mreturn\u001B[39;00m \u001B[43mimpl\u001B[49m\u001B[38;5;241;43m.\u001B[39;49m\u001B[43mread\u001B[49m\u001B[43m(\u001B[49m\n\u001B[0;32m    668\u001B[0m \u001B[43m    \u001B[49m\u001B[43mpath\u001B[49m\u001B[43m,\u001B[49m\n\u001B[0;32m    669\u001B[0m \u001B[43m    \u001B[49m\u001B[43mcolumns\u001B[49m\u001B[38;5;241;43m=\u001B[39;49m\u001B[43mcolumns\u001B[49m\u001B[43m,\u001B[49m\n\u001B[0;32m    670\u001B[0m \u001B[43m    \u001B[49m\u001B[43mfilters\u001B[49m\u001B[38;5;241;43m=\u001B[39;49m\u001B[43mfilters\u001B[49m\u001B[43m,\u001B[49m\n\u001B[0;32m    671\u001B[0m \u001B[43m    \u001B[49m\u001B[43mstorage_options\u001B[49m\u001B[38;5;241;43m=\u001B[39;49m\u001B[43mstorage_options\u001B[49m\u001B[43m,\u001B[49m\n\u001B[0;32m    672\u001B[0m \u001B[43m    \u001B[49m\u001B[43muse_nullable_dtypes\u001B[49m\u001B[38;5;241;43m=\u001B[39;49m\u001B[43muse_nullable_dtypes\u001B[49m\u001B[43m,\u001B[49m\n\u001B[0;32m    673\u001B[0m \u001B[43m    \u001B[49m\u001B[43mdtype_backend\u001B[49m\u001B[38;5;241;43m=\u001B[39;49m\u001B[43mdtype_backend\u001B[49m\u001B[43m,\u001B[49m\n\u001B[0;32m    674\u001B[0m \u001B[43m    \u001B[49m\u001B[43mfilesystem\u001B[49m\u001B[38;5;241;43m=\u001B[39;49m\u001B[43mfilesystem\u001B[49m\u001B[43m,\u001B[49m\n\u001B[0;32m    675\u001B[0m \u001B[43m    \u001B[49m\u001B[38;5;241;43m*\u001B[39;49m\u001B[38;5;241;43m*\u001B[39;49m\u001B[43mkwargs\u001B[49m\u001B[43m,\u001B[49m\n\u001B[0;32m    676\u001B[0m \u001B[43m\u001B[49m\u001B[43m)\u001B[49m\n",
      "File \u001B[1;32m~\\Documents\\Code\\test\\.venv\\Lib\\site-packages\\pandas\\io\\parquet.py:396\u001B[0m, in \u001B[0;36mFastParquetImpl.read\u001B[1;34m(self, path, columns, filters, storage_options, filesystem, **kwargs)\u001B[0m\n\u001B[0;32m    391\u001B[0m     parquet_kwargs[\u001B[38;5;124m\"\u001B[39m\u001B[38;5;124mfs\u001B[39m\u001B[38;5;124m\"\u001B[39m] \u001B[38;5;241m=\u001B[39m fsspec\u001B[38;5;241m.\u001B[39mopen(path, \u001B[38;5;124m\"\u001B[39m\u001B[38;5;124mrb\u001B[39m\u001B[38;5;124m\"\u001B[39m, \u001B[38;5;241m*\u001B[39m\u001B[38;5;241m*\u001B[39m(storage_options \u001B[38;5;129;01mor\u001B[39;00m {}))\u001B[38;5;241m.\u001B[39mfs\n\u001B[0;32m    392\u001B[0m \u001B[38;5;28;01melif\u001B[39;00m \u001B[38;5;28misinstance\u001B[39m(path, \u001B[38;5;28mstr\u001B[39m) \u001B[38;5;129;01mand\u001B[39;00m \u001B[38;5;129;01mnot\u001B[39;00m os\u001B[38;5;241m.\u001B[39mpath\u001B[38;5;241m.\u001B[39misdir(path):\n\u001B[0;32m    393\u001B[0m     \u001B[38;5;66;03m# use get_handle only when we are very certain that it is not a directory\u001B[39;00m\n\u001B[0;32m    394\u001B[0m     \u001B[38;5;66;03m# fsspec resources can also point to directories\u001B[39;00m\n\u001B[0;32m    395\u001B[0m     \u001B[38;5;66;03m# this branch is used for example when reading from non-fsspec URLs\u001B[39;00m\n\u001B[1;32m--> 396\u001B[0m     handles \u001B[38;5;241m=\u001B[39m \u001B[43mget_handle\u001B[49m\u001B[43m(\u001B[49m\n\u001B[0;32m    397\u001B[0m \u001B[43m        \u001B[49m\u001B[43mpath\u001B[49m\u001B[43m,\u001B[49m\u001B[43m \u001B[49m\u001B[38;5;124;43m\"\u001B[39;49m\u001B[38;5;124;43mrb\u001B[39;49m\u001B[38;5;124;43m\"\u001B[39;49m\u001B[43m,\u001B[49m\u001B[43m \u001B[49m\u001B[43mis_text\u001B[49m\u001B[38;5;241;43m=\u001B[39;49m\u001B[38;5;28;43;01mFalse\u001B[39;49;00m\u001B[43m,\u001B[49m\u001B[43m \u001B[49m\u001B[43mstorage_options\u001B[49m\u001B[38;5;241;43m=\u001B[39;49m\u001B[43mstorage_options\u001B[49m\n\u001B[0;32m    398\u001B[0m \u001B[43m    \u001B[49m\u001B[43m)\u001B[49m\n\u001B[0;32m    399\u001B[0m     path \u001B[38;5;241m=\u001B[39m handles\u001B[38;5;241m.\u001B[39mhandle\n\u001B[0;32m    401\u001B[0m \u001B[38;5;28;01mtry\u001B[39;00m:\n",
      "File \u001B[1;32m~\\Documents\\Code\\test\\.venv\\Lib\\site-packages\\pandas\\io\\common.py:882\u001B[0m, in \u001B[0;36mget_handle\u001B[1;34m(path_or_buf, mode, encoding, compression, memory_map, is_text, errors, storage_options)\u001B[0m\n\u001B[0;32m    873\u001B[0m         handle \u001B[38;5;241m=\u001B[39m \u001B[38;5;28mopen\u001B[39m(\n\u001B[0;32m    874\u001B[0m             handle,\n\u001B[0;32m    875\u001B[0m             ioargs\u001B[38;5;241m.\u001B[39mmode,\n\u001B[1;32m   (...)\u001B[0m\n\u001B[0;32m    878\u001B[0m             newline\u001B[38;5;241m=\u001B[39m\u001B[38;5;124m\"\u001B[39m\u001B[38;5;124m\"\u001B[39m,\n\u001B[0;32m    879\u001B[0m         )\n\u001B[0;32m    880\u001B[0m     \u001B[38;5;28;01melse\u001B[39;00m:\n\u001B[0;32m    881\u001B[0m         \u001B[38;5;66;03m# Binary mode\u001B[39;00m\n\u001B[1;32m--> 882\u001B[0m         handle \u001B[38;5;241m=\u001B[39m \u001B[38;5;28;43mopen\u001B[39;49m\u001B[43m(\u001B[49m\u001B[43mhandle\u001B[49m\u001B[43m,\u001B[49m\u001B[43m \u001B[49m\u001B[43mioargs\u001B[49m\u001B[38;5;241;43m.\u001B[39;49m\u001B[43mmode\u001B[49m\u001B[43m)\u001B[49m\n\u001B[0;32m    883\u001B[0m     handles\u001B[38;5;241m.\u001B[39mappend(handle)\n\u001B[0;32m    885\u001B[0m \u001B[38;5;66;03m# Convert BytesIO or file objects passed with an encoding\u001B[39;00m\n",
      "\u001B[1;31mFileNotFoundError\u001B[0m: [Errno 2] No such file or directory: 'data/data_2025_01.parquet'"
     ]
    }
   ],
   "execution_count": 1
  },
  {
   "metadata": {},
   "cell_type": "markdown",
   "source": "## Filter events",
   "id": "a93c74f492b88067"
  },
  {
   "metadata": {
    "ExecuteTime": {
     "end_time": "2025-04-27T12:20:31.935274Z",
     "start_time": "2025-04-27T12:20:31.821907Z"
    }
   },
   "cell_type": "code",
   "source": "df[\"event\"].value_counts()",
   "id": "cba8d679bc5dcf23",
   "outputs": [
    {
     "data": {
      "text/plain": [
       "event\n",
       "Rated Blitz game                                                  2112717\n",
       "Rated Bullet game                                                 1673664\n",
       "Rated Rapid game                                                   679202\n",
       "Rated Classical game                                                28840\n",
       "Rated UltraBullet game                                              22866\n",
       "                                                                   ...   \n",
       "Bullet swiss https://lichess.org/swiss/xOqHMgIz                         1\n",
       "Rated Blitz tournament https://lichess.org/tournament/hdiBmgBr          1\n",
       "Blitz swiss https://lichess.org/swiss/5HMPMS5d                          1\n",
       "Rapid swiss https://lichess.org/swiss/sDVxlEAo                          1\n",
       "Rated Rapid tournament https://lichess.org/tournament/MyE7RM5x          1\n",
       "Name: count, Length: 2345, dtype: int64"
      ]
     },
     "execution_count": 14,
     "metadata": {},
     "output_type": "execute_result"
    }
   ],
   "execution_count": 14
  },
  {
   "metadata": {
    "ExecuteTime": {
     "end_time": "2025-04-27T12:20:32.362363Z",
     "start_time": "2025-04-27T12:20:31.982771Z"
    }
   },
   "cell_type": "code",
   "source": [
    "events_to_keep = df[\"event\"].value_counts().reset_index()[\"event\"].head(4)\n",
    "df_events = df[df[\"event\"].isin(events_to_keep)]\n",
    "df_events.head()"
   ],
   "id": "d53323a9cc91c711",
   "outputs": [
    {
     "data": {
      "text/plain": [
       "   game_id             event  white_elo  black_elo  \\\n",
       "0        2  Rated Blitz game       1247       1218   \n",
       "1        3  Rated Blitz game       1577       1593   \n",
       "2        4  Rated Blitz game       1043       1000   \n",
       "3        5  Rated Blitz game       2015       2028   \n",
       "4        6  Rated Blitz game       2139       2145   \n",
       "\n",
       "                                 opening  winner  \\\n",
       "0         Vienna Game: Anderssen Defense       1   \n",
       "1      Caro-Kann Defense: Masi Variation       2   \n",
       "2                      Queen's Pawn Game       1   \n",
       "3  Caro-Kann Defense: Exchange Variation       1   \n",
       "4   Caro-Kann Defense: Endgame Variation       2   \n",
       "\n",
       "                                               moves  \n",
       "0  b1c3 e7e5 e2e4 f8c5 d1h5 g8f6 h5e5 c5e7 d2d3 d...  \n",
       "1  d2d4 c7c6 e2e4 g8f6 e4e5 f6g8 g1f3 d7d5 b1c3 c...  \n",
       "2  d2d4 d7d5 c2c3 b8c6 g1f3 c8g4 h2h3 g4f3 e2f3 e...  \n",
       "3  e2e4 c7c6 d2d4 d7d5 e4d5 c6d5 f1d3 g8f6 h2h3 b...  \n",
       "4  e2e4 c7c6 d2d3 d7d5 g1f3 d5e4 d3e4 d8d1 e1d1 g...  "
      ],
      "text/html": [
       "<div>\n",
       "<style scoped>\n",
       "    .dataframe tbody tr th:only-of-type {\n",
       "        vertical-align: middle;\n",
       "    }\n",
       "\n",
       "    .dataframe tbody tr th {\n",
       "        vertical-align: top;\n",
       "    }\n",
       "\n",
       "    .dataframe thead th {\n",
       "        text-align: right;\n",
       "    }\n",
       "</style>\n",
       "<table border=\"1\" class=\"dataframe\">\n",
       "  <thead>\n",
       "    <tr style=\"text-align: right;\">\n",
       "      <th></th>\n",
       "      <th>game_id</th>\n",
       "      <th>event</th>\n",
       "      <th>white_elo</th>\n",
       "      <th>black_elo</th>\n",
       "      <th>opening</th>\n",
       "      <th>winner</th>\n",
       "      <th>moves</th>\n",
       "    </tr>\n",
       "  </thead>\n",
       "  <tbody>\n",
       "    <tr>\n",
       "      <th>0</th>\n",
       "      <td>2</td>\n",
       "      <td>Rated Blitz game</td>\n",
       "      <td>1247</td>\n",
       "      <td>1218</td>\n",
       "      <td>Vienna Game: Anderssen Defense</td>\n",
       "      <td>1</td>\n",
       "      <td>b1c3 e7e5 e2e4 f8c5 d1h5 g8f6 h5e5 c5e7 d2d3 d...</td>\n",
       "    </tr>\n",
       "    <tr>\n",
       "      <th>1</th>\n",
       "      <td>3</td>\n",
       "      <td>Rated Blitz game</td>\n",
       "      <td>1577</td>\n",
       "      <td>1593</td>\n",
       "      <td>Caro-Kann Defense: Masi Variation</td>\n",
       "      <td>2</td>\n",
       "      <td>d2d4 c7c6 e2e4 g8f6 e4e5 f6g8 g1f3 d7d5 b1c3 c...</td>\n",
       "    </tr>\n",
       "    <tr>\n",
       "      <th>2</th>\n",
       "      <td>4</td>\n",
       "      <td>Rated Blitz game</td>\n",
       "      <td>1043</td>\n",
       "      <td>1000</td>\n",
       "      <td>Queen's Pawn Game</td>\n",
       "      <td>1</td>\n",
       "      <td>d2d4 d7d5 c2c3 b8c6 g1f3 c8g4 h2h3 g4f3 e2f3 e...</td>\n",
       "    </tr>\n",
       "    <tr>\n",
       "      <th>3</th>\n",
       "      <td>5</td>\n",
       "      <td>Rated Blitz game</td>\n",
       "      <td>2015</td>\n",
       "      <td>2028</td>\n",
       "      <td>Caro-Kann Defense: Exchange Variation</td>\n",
       "      <td>1</td>\n",
       "      <td>e2e4 c7c6 d2d4 d7d5 e4d5 c6d5 f1d3 g8f6 h2h3 b...</td>\n",
       "    </tr>\n",
       "    <tr>\n",
       "      <th>4</th>\n",
       "      <td>6</td>\n",
       "      <td>Rated Blitz game</td>\n",
       "      <td>2139</td>\n",
       "      <td>2145</td>\n",
       "      <td>Caro-Kann Defense: Endgame Variation</td>\n",
       "      <td>2</td>\n",
       "      <td>e2e4 c7c6 d2d3 d7d5 g1f3 d5e4 d3e4 d8d1 e1d1 g...</td>\n",
       "    </tr>\n",
       "  </tbody>\n",
       "</table>\n",
       "</div>"
      ]
     },
     "execution_count": 15,
     "metadata": {},
     "output_type": "execute_result"
    }
   ],
   "execution_count": 15
  },
  {
   "metadata": {},
   "cell_type": "markdown",
   "source": [
    "## Filter openings\n",
    "To keep things simple, I’ve chosen a single, self-contained opening as the tree’s root - one with relatively few branching lines, unlike the Queen’s Pawn Game, which immediately spawns countless variations."
   ],
   "id": "d126c69ea26af9db"
  },
  {
   "metadata": {
    "ExecuteTime": {
     "end_time": "2025-04-27T12:20:32.556149Z",
     "start_time": "2025-04-27T12:20:32.428920Z"
    }
   },
   "cell_type": "code",
   "source": "df_events[\"opening\"].value_counts()",
   "id": "5751b5e92d5adb54",
   "outputs": [
    {
     "data": {
      "text/plain": [
       "opening\n",
       "Queen's Pawn Game                                           117144\n",
       "Caro-Kann Defense                                            83476\n",
       "Van't Kruijs Opening                                         74990\n",
       "Philidor Defense                                             74675\n",
       "Modern Defense                                               74275\n",
       "                                                             ...  \n",
       "Indian Defense: Anti-Grünfeld, Adorjan Gambit                    1\n",
       "Ruy Lopez: Marshall Attack, Main Line, Spassky Variation         1\n",
       "Queen's Pawn Game: London System, Pterodactyl Variation          1\n",
       "Bird Opening: Hobbs-Zilbermints Gambit                           1\n",
       "Sicilian Defense: Kotov Gambit                                   1\n",
       "Name: count, Length: 2836, dtype: int64"
      ]
     },
     "execution_count": 16,
     "metadata": {},
     "output_type": "execute_result"
    }
   ],
   "execution_count": 16
  },
  {
   "metadata": {
    "ExecuteTime": {
     "end_time": "2025-04-27T12:20:34.657892Z",
     "start_time": "2025-04-27T12:20:32.626580Z"
    }
   },
   "cell_type": "code",
   "source": [
    "top10_openings = (\n",
    "    df_events[\"opening\"]\n",
    "    .value_counts()\n",
    "    .nlargest(10)\n",
    "    .index\n",
    "    .tolist()\n",
    ")\n",
    "\n",
    "df_top10 = df[df['opening'].isin(top10_openings)].copy()\n",
    "\n",
    "def first_n_plies(moves: str, n: int) -> str:\n",
    "    tokens = moves.split()\n",
    "    return ' '.join(tokens[:n])\n",
    "\n",
    "df_top10[\"first_5_moves\"] = df_top10['moves'].apply(lambda mv: first_n_plies(mv, n=10))\n",
    "\n",
    "variation_counts_top10 = (\n",
    "    df_top10\n",
    "    .groupby(\"opening\")[\"first_5_moves\"]\n",
    "    .nunique()\n",
    "    .reset_index(name=\"variation_count\")\n",
    "    .sort_values(\"variation_count\")\n",
    ")\n",
    "\n",
    "min_var = variation_counts_top10[\"variation_count\"].min()\n",
    "best_openings_top10 = variation_counts_top10[variation_counts_top10[\"variation_count\"] == min_var]\n",
    "\n",
    "print(\"Top 10 Opening Lines - Variation Counts:\")\n",
    "print(variation_counts_top10.to_string(index=False))\n",
    "\n",
    "print(f\"\\nOpening Line with the fewest variations ({min_var} variations):\")\n",
    "print(best_openings_top10.to_string(index=False))\n",
    "sample_opening = best_openings_top10[\"opening\"].iloc[0]"
   ],
   "id": "e11b8206fb8e7d16",
   "outputs": [
    {
     "name": "stdout",
     "output_type": "stream",
     "text": [
      "Top 10 Opening Lines - Variation Counts:\n",
      "                                      opening  variation_count\n",
      "Scandinavian Defense: Mieses-Kotroc Variation            20800\n",
      "             French Defense: Knight Variation            27822\n",
      "                             Philidor Defense            31070\n",
      " Queen's Pawn Game: Accelerated London System            35401\n",
      "                            Caro-Kann Defense            35595\n",
      "                         Scandinavian Defense            42483\n",
      "                                 Pirc Defense            47357\n",
      "                               Modern Defense            49978\n",
      "                         Van't Kruijs Opening            81148\n",
      "                            Queen's Pawn Game            99978\n",
      "\n",
      "Opening Line with the fewest variations (20800 variations):\n",
      "                                      opening  variation_count\n",
      "Scandinavian Defense: Mieses-Kotroc Variation            20800\n"
     ]
    }
   ],
   "execution_count": 17
  },
  {
   "metadata": {
    "ExecuteTime": {
     "end_time": "2025-04-27T12:20:34.809155Z",
     "start_time": "2025-04-27T12:20:34.694663Z"
    }
   },
   "cell_type": "code",
   "source": [
    "df_filtered = df_events[df_events[\"opening\"] == sample_opening]\n",
    "df_filtered.head()"
   ],
   "id": "1b31a33fc4732f62",
   "outputs": [
    {
     "data": {
      "text/plain": [
       "     game_id              event  white_elo  black_elo  \\\n",
       "46        48  Rated Bullet game       1921       1934   \n",
       "106      108  Rated Bullet game       1312       1371   \n",
       "108      110  Rated Bullet game       1928       1916   \n",
       "283      285   Rated Blitz game       1714       1705   \n",
       "402      404   Rated Blitz game       1333       1335   \n",
       "\n",
       "                                           opening  winner  \\\n",
       "46   Scandinavian Defense: Mieses-Kotroc Variation       1   \n",
       "106  Scandinavian Defense: Mieses-Kotroc Variation       2   \n",
       "108  Scandinavian Defense: Mieses-Kotroc Variation       2   \n",
       "283  Scandinavian Defense: Mieses-Kotroc Variation       2   \n",
       "402  Scandinavian Defense: Mieses-Kotroc Variation       2   \n",
       "\n",
       "                                                 moves  \n",
       "46   e2e4 d7d5 e4d5 d8d5 g1f3 d5f3 d1f3 c8g4 f3g4 g...  \n",
       "106  e2e4 d7d5 e4d5 d8d5 c2c4 d5a5 b1c3 c7c6 d2d4 a...  \n",
       "108  e2e4 d7d5 e4d5 d8d5 d2d4 c8f5 b1c3 d5a5 f2f4 c...  \n",
       "283  e2e4 d7d5 e4d5 d8d5 d2d4 d5d6 b1c3 c8f5 f1c4 b...  \n",
       "402  e2e4 d7d5 e4d5 d8d5 b1c3 d5e5 g1e2 c8g4 d2d4 e...  "
      ],
      "text/html": [
       "<div>\n",
       "<style scoped>\n",
       "    .dataframe tbody tr th:only-of-type {\n",
       "        vertical-align: middle;\n",
       "    }\n",
       "\n",
       "    .dataframe tbody tr th {\n",
       "        vertical-align: top;\n",
       "    }\n",
       "\n",
       "    .dataframe thead th {\n",
       "        text-align: right;\n",
       "    }\n",
       "</style>\n",
       "<table border=\"1\" class=\"dataframe\">\n",
       "  <thead>\n",
       "    <tr style=\"text-align: right;\">\n",
       "      <th></th>\n",
       "      <th>game_id</th>\n",
       "      <th>event</th>\n",
       "      <th>white_elo</th>\n",
       "      <th>black_elo</th>\n",
       "      <th>opening</th>\n",
       "      <th>winner</th>\n",
       "      <th>moves</th>\n",
       "    </tr>\n",
       "  </thead>\n",
       "  <tbody>\n",
       "    <tr>\n",
       "      <th>46</th>\n",
       "      <td>48</td>\n",
       "      <td>Rated Bullet game</td>\n",
       "      <td>1921</td>\n",
       "      <td>1934</td>\n",
       "      <td>Scandinavian Defense: Mieses-Kotroc Variation</td>\n",
       "      <td>1</td>\n",
       "      <td>e2e4 d7d5 e4d5 d8d5 g1f3 d5f3 d1f3 c8g4 f3g4 g...</td>\n",
       "    </tr>\n",
       "    <tr>\n",
       "      <th>106</th>\n",
       "      <td>108</td>\n",
       "      <td>Rated Bullet game</td>\n",
       "      <td>1312</td>\n",
       "      <td>1371</td>\n",
       "      <td>Scandinavian Defense: Mieses-Kotroc Variation</td>\n",
       "      <td>2</td>\n",
       "      <td>e2e4 d7d5 e4d5 d8d5 c2c4 d5a5 b1c3 c7c6 d2d4 a...</td>\n",
       "    </tr>\n",
       "    <tr>\n",
       "      <th>108</th>\n",
       "      <td>110</td>\n",
       "      <td>Rated Bullet game</td>\n",
       "      <td>1928</td>\n",
       "      <td>1916</td>\n",
       "      <td>Scandinavian Defense: Mieses-Kotroc Variation</td>\n",
       "      <td>2</td>\n",
       "      <td>e2e4 d7d5 e4d5 d8d5 d2d4 c8f5 b1c3 d5a5 f2f4 c...</td>\n",
       "    </tr>\n",
       "    <tr>\n",
       "      <th>283</th>\n",
       "      <td>285</td>\n",
       "      <td>Rated Blitz game</td>\n",
       "      <td>1714</td>\n",
       "      <td>1705</td>\n",
       "      <td>Scandinavian Defense: Mieses-Kotroc Variation</td>\n",
       "      <td>2</td>\n",
       "      <td>e2e4 d7d5 e4d5 d8d5 d2d4 d5d6 b1c3 c8f5 f1c4 b...</td>\n",
       "    </tr>\n",
       "    <tr>\n",
       "      <th>402</th>\n",
       "      <td>404</td>\n",
       "      <td>Rated Blitz game</td>\n",
       "      <td>1333</td>\n",
       "      <td>1335</td>\n",
       "      <td>Scandinavian Defense: Mieses-Kotroc Variation</td>\n",
       "      <td>2</td>\n",
       "      <td>e2e4 d7d5 e4d5 d8d5 b1c3 d5e5 g1e2 c8g4 d2d4 e...</td>\n",
       "    </tr>\n",
       "  </tbody>\n",
       "</table>\n",
       "</div>"
      ]
     },
     "execution_count": 18,
     "metadata": {},
     "output_type": "execute_result"
    }
   ],
   "execution_count": 18
  },
  {
   "metadata": {
    "ExecuteTime": {
     "end_time": "2025-04-27T12:20:34.881664Z",
     "start_time": "2025-04-27T12:20:34.878615Z"
    }
   },
   "cell_type": "code",
   "source": [
    "print(f\"Dataset initially contained {len(df)} entries.\")\n",
    "print(f\"After filtering, {len(df_filtered)} entries remain.\")"
   ],
   "id": "6c688ffb25c8691e",
   "outputs": [
    {
     "name": "stdout",
     "output_type": "stream",
     "text": [
      "Dataset initially contained 4991164 entries.\n",
      "After filtering, 61296 entries remain.\n"
     ]
    }
   ],
   "execution_count": 19
  },
  {
   "metadata": {},
   "cell_type": "markdown",
   "source": "## Calc average Elo\n",
   "id": "5638fe3192d71ffc"
  },
  {
   "metadata": {
    "ExecuteTime": {
     "end_time": "2025-04-27T12:20:34.996716Z",
     "start_time": "2025-04-27T12:20:34.934492Z"
    }
   },
   "cell_type": "code",
   "source": [
    "df_filtered['avg_elo'] = df[['white_elo', 'black_elo']].mean(axis=1)\n",
    "df_filtered.head()"
   ],
   "id": "f43cbb6e1477a7b9",
   "outputs": [
    {
     "name": "stdout",
     "output_type": "stream",
     "text": [
      "DataFrame now contains 60856 unique move sequences.\n"
     ]
    }
   ],
   "execution_count": 20
  },
  {
   "metadata": {
    "ExecuteTime": {
     "end_time": "2025-04-27T12:20:35.021818Z",
     "start_time": "2025-04-27T12:20:35.016760Z"
    }
   },
   "cell_type": "code",
   "source": [
    "df_moves = df_filtered[[\"avg_elo\", \"moves\", \"winner\"]].copy()\n",
    "df_moves.head()"
   ],
   "id": "7e4156c99a2ed4ea",
   "outputs": [
    {
     "data": {
      "text/plain": [
       "                                               moves  winner\n",
       "0  e2e4 d7d5 e4d5 d8d5 g1f3 d5f3 d1f3 c8g4 f3g4 g...       1\n",
       "1  e2e4 d7d5 e4d5 d8d5 c2c4 d5a5 b1c3 c7c6 d2d4 a...       2\n",
       "2  e2e4 d7d5 e4d5 d8d5 d2d4 c8f5 b1c3 d5a5 f2f4 c...       2\n",
       "3  e2e4 d7d5 e4d5 d8d5 d2d4 d5d6 b1c3 c8f5 f1c4 b...       2\n",
       "4  e2e4 d7d5 e4d5 d8d5 b1c3 d5e5 g1e2 c8g4 d2d4 e...       2"
      ],
      "text/html": [
       "<div>\n",
       "<style scoped>\n",
       "    .dataframe tbody tr th:only-of-type {\n",
       "        vertical-align: middle;\n",
       "    }\n",
       "\n",
       "    .dataframe tbody tr th {\n",
       "        vertical-align: top;\n",
       "    }\n",
       "\n",
       "    .dataframe thead th {\n",
       "        text-align: right;\n",
       "    }\n",
       "</style>\n",
       "<table border=\"1\" class=\"dataframe\">\n",
       "  <thead>\n",
       "    <tr style=\"text-align: right;\">\n",
       "      <th></th>\n",
       "      <th>moves</th>\n",
       "      <th>winner</th>\n",
       "    </tr>\n",
       "  </thead>\n",
       "  <tbody>\n",
       "    <tr>\n",
       "      <th>0</th>\n",
       "      <td>e2e4 d7d5 e4d5 d8d5 g1f3 d5f3 d1f3 c8g4 f3g4 g...</td>\n",
       "      <td>1</td>\n",
       "    </tr>\n",
       "    <tr>\n",
       "      <th>1</th>\n",
       "      <td>e2e4 d7d5 e4d5 d8d5 c2c4 d5a5 b1c3 c7c6 d2d4 a...</td>\n",
       "      <td>2</td>\n",
       "    </tr>\n",
       "    <tr>\n",
       "      <th>2</th>\n",
       "      <td>e2e4 d7d5 e4d5 d8d5 d2d4 c8f5 b1c3 d5a5 f2f4 c...</td>\n",
       "      <td>2</td>\n",
       "    </tr>\n",
       "    <tr>\n",
       "      <th>3</th>\n",
       "      <td>e2e4 d7d5 e4d5 d8d5 d2d4 d5d6 b1c3 c8f5 f1c4 b...</td>\n",
       "      <td>2</td>\n",
       "    </tr>\n",
       "    <tr>\n",
       "      <th>4</th>\n",
       "      <td>e2e4 d7d5 e4d5 d8d5 b1c3 d5e5 g1e2 c8g4 d2d4 e...</td>\n",
       "      <td>2</td>\n",
       "    </tr>\n",
       "  </tbody>\n",
       "</table>\n",
       "</div>"
      ]
     },
     "execution_count": 21,
     "metadata": {},
     "output_type": "execute_result"
    }
   ],
   "execution_count": 21
  },
  {
   "metadata": {
    "ExecuteTime": {
     "end_time": "2025-04-27T12:20:35.112030Z",
     "start_time": "2025-04-27T12:20:35.049943Z"
    }
   },
   "cell_type": "code",
   "source": [
    "df_moves.to_parquet(\"data/moves_2025_01.parquet\")\n",
    "print(\"✅ Saved moves data to 'data/moves_2025_01.parquet'\")"
   ],
   "id": "ffe84668cc76b7ce",
   "outputs": [
    {
     "name": "stdout",
     "output_type": "stream",
     "text": [
      "✅ Saved moves data to 'data/moves_2025_01.parquet'\n"
     ]
    }
   ],
   "execution_count": 22
  }
 ],
 "metadata": {
  "kernelspec": {
   "display_name": "Python 3",
   "language": "python",
   "name": "python3"
  },
  "language_info": {
   "codemirror_mode": {
    "name": "ipython",
    "version": 2
   },
   "file_extension": ".py",
   "mimetype": "text/x-python",
   "name": "python",
   "nbconvert_exporter": "python",
   "pygments_lexer": "ipython2",
   "version": "2.7.6"
  }
 },
 "nbformat": 4,
 "nbformat_minor": 5
}
