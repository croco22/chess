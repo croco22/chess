{
 "cells": [
  {
   "cell_type": "code",
   "id": "initial_id",
   "metadata": {
    "collapsed": true,
    "ExecuteTime": {
     "end_time": "2025-05-20T09:44:19.066656Z",
     "start_time": "2025-05-20T09:44:11.514094Z"
    }
   },
   "source": [
    "import pandas as pd\n",
    "\n",
    "files = {\n",
    "    \"data_df\": \"data/data_2025_01.parquet\",\n",
    "    \"positions_df (filtered)\": \"data/positions_2025_01.parquet\",\n",
    "    \"score_df\": \"data/score_dataset.parquet\",\n",
    "    \"stats_df (grouped by move)\": \"data/stats_dataset.parquet\"\n",
    "}\n",
    "\n",
    "for name, path in files.items():\n",
    "    df = pd.read_parquet(path)\n",
    "    print(f\"{name}: {len(df):,} rows\")"
   ],
   "outputs": [
    {
     "name": "stdout",
     "output_type": "stream",
     "text": [
      "data_df: 9,982,301 rows\n",
      "positions_df (filtered): 49,397 rows\n",
      "score_df: 49,397 rows\n",
      "stats_df (grouped by move): 270 rows\n"
     ]
    }
   ],
   "execution_count": 3
  }
 ],
 "metadata": {
  "kernelspec": {
   "display_name": "Python 3",
   "language": "python",
   "name": "python3"
  },
  "language_info": {
   "codemirror_mode": {
    "name": "ipython",
    "version": 2
   },
   "file_extension": ".py",
   "mimetype": "text/x-python",
   "name": "python",
   "nbconvert_exporter": "python",
   "pygments_lexer": "ipython2",
   "version": "2.7.6"
  }
 },
 "nbformat": 4,
 "nbformat_minor": 5
}
