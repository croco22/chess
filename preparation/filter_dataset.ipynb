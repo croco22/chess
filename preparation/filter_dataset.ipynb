{
 "cells": [
  {
   "metadata": {},
   "cell_type": "markdown",
   "source": "# Filter the dataset based on event type and opening",
   "id": "8060a41f84dc29ad"
  },
  {
   "cell_type": "code",
   "id": "initial_id",
   "metadata": {
    "collapsed": true,
    "ExecuteTime": {
     "end_time": "2025-05-02T16:44:39.317948Z",
     "start_time": "2025-05-02T16:44:35.467352Z"
    }
   },
   "source": [
    "import pandas as pd\n",
    "\n",
    "df = pd.read_parquet('../data/data_2025_01.parquet')\n",
    "df.tail()"
   ],
   "outputs": [
    {
     "data": {
      "text/plain": [
       "         game_id             event  white_elo  black_elo  \\\n",
       "4991159  4999996  Rated Rapid game       1746       1736   \n",
       "4991160  4999997  Rated Rapid game       1498       1476   \n",
       "4991161  4999998  Rated Rapid game       2187       2128   \n",
       "4991162  4999999  Rated Rapid game       1659       1696   \n",
       "4991163  5000000  Rated Rapid game       1734       1706   \n",
       "\n",
       "                                                   opening  winner  \\\n",
       "4991159                                  Caro-Kann Defense       2   \n",
       "4991160                King's Pawn Game: McConnell Defense       2   \n",
       "4991161                Sicilian Defense: Modern Variations       2   \n",
       "4991162  Queen's Gambit Accepted: Central Variation, Al...       1   \n",
       "4991163                       Caro-Kann Defense: Main Line       1   \n",
       "\n",
       "                                                     moves  \n",
       "4991159  e2e4 c7c6 g1f3 d7d5 e4d5 c6d5 d2d4 c8g4 b1c3 g...  \n",
       "4991160  e2e4 e7e5 g1f3 d8f6 f1b5 f8c5 c2c3 c7c6 b5a4 b...  \n",
       "4991161  e2e4 c7c5 g1f3 d7d6 f1c4 e7e6 e1g1 d8c7 c2c3 a...  \n",
       "4991162  d2d4 d7d5 c2c4 d5c4 e2e4 g8f6 b1c3 e7e6 a2a3 f...  \n",
       "4991163  d2d4 c7c6 e2e4 d7d5 b1c3 d5e4 c3e4 g8f6 e4c5 c...  "
      ],
      "text/html": [
       "<div>\n",
       "<style scoped>\n",
       "    .dataframe tbody tr th:only-of-type {\n",
       "        vertical-align: middle;\n",
       "    }\n",
       "\n",
       "    .dataframe tbody tr th {\n",
       "        vertical-align: top;\n",
       "    }\n",
       "\n",
       "    .dataframe thead th {\n",
       "        text-align: right;\n",
       "    }\n",
       "</style>\n",
       "<table border=\"1\" class=\"dataframe\">\n",
       "  <thead>\n",
       "    <tr style=\"text-align: right;\">\n",
       "      <th></th>\n",
       "      <th>game_id</th>\n",
       "      <th>event</th>\n",
       "      <th>white_elo</th>\n",
       "      <th>black_elo</th>\n",
       "      <th>opening</th>\n",
       "      <th>winner</th>\n",
       "      <th>moves</th>\n",
       "    </tr>\n",
       "  </thead>\n",
       "  <tbody>\n",
       "    <tr>\n",
       "      <th>4991159</th>\n",
       "      <td>4999996</td>\n",
       "      <td>Rated Rapid game</td>\n",
       "      <td>1746</td>\n",
       "      <td>1736</td>\n",
       "      <td>Caro-Kann Defense</td>\n",
       "      <td>2</td>\n",
       "      <td>e2e4 c7c6 g1f3 d7d5 e4d5 c6d5 d2d4 c8g4 b1c3 g...</td>\n",
       "    </tr>\n",
       "    <tr>\n",
       "      <th>4991160</th>\n",
       "      <td>4999997</td>\n",
       "      <td>Rated Rapid game</td>\n",
       "      <td>1498</td>\n",
       "      <td>1476</td>\n",
       "      <td>King's Pawn Game: McConnell Defense</td>\n",
       "      <td>2</td>\n",
       "      <td>e2e4 e7e5 g1f3 d8f6 f1b5 f8c5 c2c3 c7c6 b5a4 b...</td>\n",
       "    </tr>\n",
       "    <tr>\n",
       "      <th>4991161</th>\n",
       "      <td>4999998</td>\n",
       "      <td>Rated Rapid game</td>\n",
       "      <td>2187</td>\n",
       "      <td>2128</td>\n",
       "      <td>Sicilian Defense: Modern Variations</td>\n",
       "      <td>2</td>\n",
       "      <td>e2e4 c7c5 g1f3 d7d6 f1c4 e7e6 e1g1 d8c7 c2c3 a...</td>\n",
       "    </tr>\n",
       "    <tr>\n",
       "      <th>4991162</th>\n",
       "      <td>4999999</td>\n",
       "      <td>Rated Rapid game</td>\n",
       "      <td>1659</td>\n",
       "      <td>1696</td>\n",
       "      <td>Queen's Gambit Accepted: Central Variation, Al...</td>\n",
       "      <td>1</td>\n",
       "      <td>d2d4 d7d5 c2c4 d5c4 e2e4 g8f6 b1c3 e7e6 a2a3 f...</td>\n",
       "    </tr>\n",
       "    <tr>\n",
       "      <th>4991163</th>\n",
       "      <td>5000000</td>\n",
       "      <td>Rated Rapid game</td>\n",
       "      <td>1734</td>\n",
       "      <td>1706</td>\n",
       "      <td>Caro-Kann Defense: Main Line</td>\n",
       "      <td>1</td>\n",
       "      <td>d2d4 c7c6 e2e4 d7d5 b1c3 d5e4 c3e4 g8f6 e4c5 c...</td>\n",
       "    </tr>\n",
       "  </tbody>\n",
       "</table>\n",
       "</div>"
      ]
     },
     "execution_count": 1,
     "metadata": {},
     "output_type": "execute_result"
    }
   ],
   "execution_count": 1
  },
  {
   "metadata": {},
   "cell_type": "markdown",
   "source": "## Filter events",
   "id": "a93c74f492b88067"
  },
  {
   "metadata": {
    "ExecuteTime": {
     "end_time": "2025-05-02T16:44:39.585151Z",
     "start_time": "2025-05-02T16:44:39.474106Z"
    }
   },
   "cell_type": "code",
   "source": "df[\"event\"].value_counts()",
   "id": "cba8d679bc5dcf23",
   "outputs": [
    {
     "data": {
      "text/plain": [
       "event\n",
       "Rated Blitz game                                                  2112717\n",
       "Rated Bullet game                                                 1673664\n",
       "Rated Rapid game                                                   679202\n",
       "Rated Classical game                                                28840\n",
       "Rated UltraBullet game                                              22866\n",
       "                                                                   ...   \n",
       "Bullet swiss https://lichess.org/swiss/xOqHMgIz                         1\n",
       "Rated Blitz tournament https://lichess.org/tournament/hdiBmgBr          1\n",
       "Blitz swiss https://lichess.org/swiss/5HMPMS5d                          1\n",
       "Rapid swiss https://lichess.org/swiss/sDVxlEAo                          1\n",
       "Rated Rapid tournament https://lichess.org/tournament/MyE7RM5x          1\n",
       "Name: count, Length: 2345, dtype: int64"
      ]
     },
     "execution_count": 2,
     "metadata": {},
     "output_type": "execute_result"
    }
   ],
   "execution_count": 2
  },
  {
   "metadata": {
    "ExecuteTime": {
     "end_time": "2025-05-02T16:44:40.010591Z",
     "start_time": "2025-05-02T16:44:39.629269Z"
    }
   },
   "cell_type": "code",
   "source": [
    "events_to_keep = df[\"event\"].value_counts().reset_index()[\"event\"].head(4)\n",
    "df_events = df[df[\"event\"].isin(events_to_keep)]\n",
    "df_events.head()"
   ],
   "id": "d53323a9cc91c711",
   "outputs": [
    {
     "data": {
      "text/plain": [
       "   game_id             event  white_elo  black_elo  \\\n",
       "0        2  Rated Blitz game       1247       1218   \n",
       "1        3  Rated Blitz game       1577       1593   \n",
       "2        4  Rated Blitz game       1043       1000   \n",
       "3        5  Rated Blitz game       2015       2028   \n",
       "4        6  Rated Blitz game       2139       2145   \n",
       "\n",
       "                                 opening  winner  \\\n",
       "0         Vienna Game: Anderssen Defense       1   \n",
       "1      Caro-Kann Defense: Masi Variation       2   \n",
       "2                      Queen's Pawn Game       1   \n",
       "3  Caro-Kann Defense: Exchange Variation       1   \n",
       "4   Caro-Kann Defense: Endgame Variation       2   \n",
       "\n",
       "                                               moves  \n",
       "0  b1c3 e7e5 e2e4 f8c5 d1h5 g8f6 h5e5 c5e7 d2d3 d...  \n",
       "1  d2d4 c7c6 e2e4 g8f6 e4e5 f6g8 g1f3 d7d5 b1c3 c...  \n",
       "2  d2d4 d7d5 c2c3 b8c6 g1f3 c8g4 h2h3 g4f3 e2f3 e...  \n",
       "3  e2e4 c7c6 d2d4 d7d5 e4d5 c6d5 f1d3 g8f6 h2h3 b...  \n",
       "4  e2e4 c7c6 d2d3 d7d5 g1f3 d5e4 d3e4 d8d1 e1d1 g...  "
      ],
      "text/html": [
       "<div>\n",
       "<style scoped>\n",
       "    .dataframe tbody tr th:only-of-type {\n",
       "        vertical-align: middle;\n",
       "    }\n",
       "\n",
       "    .dataframe tbody tr th {\n",
       "        vertical-align: top;\n",
       "    }\n",
       "\n",
       "    .dataframe thead th {\n",
       "        text-align: right;\n",
       "    }\n",
       "</style>\n",
       "<table border=\"1\" class=\"dataframe\">\n",
       "  <thead>\n",
       "    <tr style=\"text-align: right;\">\n",
       "      <th></th>\n",
       "      <th>game_id</th>\n",
       "      <th>event</th>\n",
       "      <th>white_elo</th>\n",
       "      <th>black_elo</th>\n",
       "      <th>opening</th>\n",
       "      <th>winner</th>\n",
       "      <th>moves</th>\n",
       "    </tr>\n",
       "  </thead>\n",
       "  <tbody>\n",
       "    <tr>\n",
       "      <th>0</th>\n",
       "      <td>2</td>\n",
       "      <td>Rated Blitz game</td>\n",
       "      <td>1247</td>\n",
       "      <td>1218</td>\n",
       "      <td>Vienna Game: Anderssen Defense</td>\n",
       "      <td>1</td>\n",
       "      <td>b1c3 e7e5 e2e4 f8c5 d1h5 g8f6 h5e5 c5e7 d2d3 d...</td>\n",
       "    </tr>\n",
       "    <tr>\n",
       "      <th>1</th>\n",
       "      <td>3</td>\n",
       "      <td>Rated Blitz game</td>\n",
       "      <td>1577</td>\n",
       "      <td>1593</td>\n",
       "      <td>Caro-Kann Defense: Masi Variation</td>\n",
       "      <td>2</td>\n",
       "      <td>d2d4 c7c6 e2e4 g8f6 e4e5 f6g8 g1f3 d7d5 b1c3 c...</td>\n",
       "    </tr>\n",
       "    <tr>\n",
       "      <th>2</th>\n",
       "      <td>4</td>\n",
       "      <td>Rated Blitz game</td>\n",
       "      <td>1043</td>\n",
       "      <td>1000</td>\n",
       "      <td>Queen's Pawn Game</td>\n",
       "      <td>1</td>\n",
       "      <td>d2d4 d7d5 c2c3 b8c6 g1f3 c8g4 h2h3 g4f3 e2f3 e...</td>\n",
       "    </tr>\n",
       "    <tr>\n",
       "      <th>3</th>\n",
       "      <td>5</td>\n",
       "      <td>Rated Blitz game</td>\n",
       "      <td>2015</td>\n",
       "      <td>2028</td>\n",
       "      <td>Caro-Kann Defense: Exchange Variation</td>\n",
       "      <td>1</td>\n",
       "      <td>e2e4 c7c6 d2d4 d7d5 e4d5 c6d5 f1d3 g8f6 h2h3 b...</td>\n",
       "    </tr>\n",
       "    <tr>\n",
       "      <th>4</th>\n",
       "      <td>6</td>\n",
       "      <td>Rated Blitz game</td>\n",
       "      <td>2139</td>\n",
       "      <td>2145</td>\n",
       "      <td>Caro-Kann Defense: Endgame Variation</td>\n",
       "      <td>2</td>\n",
       "      <td>e2e4 c7c6 d2d3 d7d5 g1f3 d5e4 d3e4 d8d1 e1d1 g...</td>\n",
       "    </tr>\n",
       "  </tbody>\n",
       "</table>\n",
       "</div>"
      ]
     },
     "execution_count": 3,
     "metadata": {},
     "output_type": "execute_result"
    }
   ],
   "execution_count": 3
  },
  {
   "metadata": {},
   "cell_type": "markdown",
   "source": [
    "## Filter openings\n",
    "To keep things simple, I’ve chosen a single, self-contained opening as the tree’s root - one with relatively few branching lines, unlike the Queen’s Pawn Game, which immediately spawns countless variations."
   ],
   "id": "d126c69ea26af9db"
  },
  {
   "metadata": {
    "ExecuteTime": {
     "end_time": "2025-05-02T16:44:40.220073Z",
     "start_time": "2025-05-02T16:44:40.074732Z"
    }
   },
   "cell_type": "code",
   "source": "df_events[\"opening\"].value_counts()",
   "id": "5751b5e92d5adb54",
   "outputs": [
    {
     "data": {
      "text/plain": [
       "opening\n",
       "Queen's Pawn Game                                           117144\n",
       "Caro-Kann Defense                                            83476\n",
       "Van't Kruijs Opening                                         74990\n",
       "Philidor Defense                                             74675\n",
       "Modern Defense                                               74275\n",
       "                                                             ...  \n",
       "Indian Defense: Anti-Grünfeld, Adorjan Gambit                    1\n",
       "Ruy Lopez: Marshall Attack, Main Line, Spassky Variation         1\n",
       "Queen's Pawn Game: London System, Pterodactyl Variation          1\n",
       "Bird Opening: Hobbs-Zilbermints Gambit                           1\n",
       "Sicilian Defense: Kotov Gambit                                   1\n",
       "Name: count, Length: 2836, dtype: int64"
      ]
     },
     "execution_count": 4,
     "metadata": {},
     "output_type": "execute_result"
    }
   ],
   "execution_count": 4
  },
  {
   "metadata": {
    "ExecuteTime": {
     "end_time": "2025-05-02T16:44:42.285026Z",
     "start_time": "2025-05-02T16:44:40.284410Z"
    }
   },
   "cell_type": "code",
   "source": [
    "top10_openings = (\n",
    "    df_events[\"opening\"]\n",
    "    .value_counts()\n",
    "    .nlargest(10)\n",
    "    .index\n",
    "    .tolist()\n",
    ")\n",
    "\n",
    "df_top10 = df[df['opening'].isin(top10_openings)].copy()\n",
    "\n",
    "def first_n_plies(moves: str, n: int) -> str:\n",
    "    tokens = moves.split()\n",
    "    return ' '.join(tokens[:n])\n",
    "\n",
    "df_top10[\"first_5_moves\"] = df_top10['moves'].apply(lambda mv: first_n_plies(mv, n=10))\n",
    "\n",
    "variation_counts_top10 = (\n",
    "    df_top10\n",
    "    .groupby(\"opening\")[\"first_5_moves\"]\n",
    "    .nunique()\n",
    "    .reset_index(name=\"variation_count\")\n",
    "    .sort_values(\"variation_count\")\n",
    ")\n",
    "\n",
    "min_var = variation_counts_top10[\"variation_count\"].min()\n",
    "best_openings_top10 = variation_counts_top10[variation_counts_top10[\"variation_count\"] == min_var]\n",
    "\n",
    "print(\"Top 10 Opening Lines - Variation Counts:\")\n",
    "print(variation_counts_top10.to_string(index=False))\n",
    "\n",
    "print(f\"\\nOpening Line with the fewest variations ({min_var} variations):\")\n",
    "print(best_openings_top10.to_string(index=False))\n",
    "sample_opening = best_openings_top10[\"opening\"].iloc[0]"
   ],
   "id": "e11b8206fb8e7d16",
   "outputs": [
    {
     "name": "stdout",
     "output_type": "stream",
     "text": [
      "Top 10 Opening Lines - Variation Counts:\n",
      "                                      opening  variation_count\n",
      "Scandinavian Defense: Mieses-Kotroc Variation            20800\n",
      "             French Defense: Knight Variation            27822\n",
      "                             Philidor Defense            31070\n",
      " Queen's Pawn Game: Accelerated London System            35401\n",
      "                            Caro-Kann Defense            35595\n",
      "                         Scandinavian Defense            42483\n",
      "                                 Pirc Defense            47357\n",
      "                               Modern Defense            49978\n",
      "                         Van't Kruijs Opening            81148\n",
      "                            Queen's Pawn Game            99978\n",
      "\n",
      "Opening Line with the fewest variations (20800 variations):\n",
      "                                      opening  variation_count\n",
      "Scandinavian Defense: Mieses-Kotroc Variation            20800\n"
     ]
    }
   ],
   "execution_count": 5
  },
  {
   "metadata": {
    "ExecuteTime": {
     "end_time": "2025-05-02T16:44:42.481543Z",
     "start_time": "2025-05-02T16:44:42.353244Z"
    }
   },
   "cell_type": "code",
   "source": [
    "df_filtered = df_events[df_events[\"opening\"] == sample_opening]\n",
    "df_filtered.head()"
   ],
   "id": "1b31a33fc4732f62",
   "outputs": [
    {
     "data": {
      "text/plain": [
       "     game_id              event  white_elo  black_elo  \\\n",
       "46        48  Rated Bullet game       1921       1934   \n",
       "106      108  Rated Bullet game       1312       1371   \n",
       "108      110  Rated Bullet game       1928       1916   \n",
       "283      285   Rated Blitz game       1714       1705   \n",
       "402      404   Rated Blitz game       1333       1335   \n",
       "\n",
       "                                           opening  winner  \\\n",
       "46   Scandinavian Defense: Mieses-Kotroc Variation       1   \n",
       "106  Scandinavian Defense: Mieses-Kotroc Variation       2   \n",
       "108  Scandinavian Defense: Mieses-Kotroc Variation       2   \n",
       "283  Scandinavian Defense: Mieses-Kotroc Variation       2   \n",
       "402  Scandinavian Defense: Mieses-Kotroc Variation       2   \n",
       "\n",
       "                                                 moves  \n",
       "46   e2e4 d7d5 e4d5 d8d5 g1f3 d5f3 d1f3 c8g4 f3g4 g...  \n",
       "106  e2e4 d7d5 e4d5 d8d5 c2c4 d5a5 b1c3 c7c6 d2d4 a...  \n",
       "108  e2e4 d7d5 e4d5 d8d5 d2d4 c8f5 b1c3 d5a5 f2f4 c...  \n",
       "283  e2e4 d7d5 e4d5 d8d5 d2d4 d5d6 b1c3 c8f5 f1c4 b...  \n",
       "402  e2e4 d7d5 e4d5 d8d5 b1c3 d5e5 g1e2 c8g4 d2d4 e...  "
      ],
      "text/html": [
       "<div>\n",
       "<style scoped>\n",
       "    .dataframe tbody tr th:only-of-type {\n",
       "        vertical-align: middle;\n",
       "    }\n",
       "\n",
       "    .dataframe tbody tr th {\n",
       "        vertical-align: top;\n",
       "    }\n",
       "\n",
       "    .dataframe thead th {\n",
       "        text-align: right;\n",
       "    }\n",
       "</style>\n",
       "<table border=\"1\" class=\"dataframe\">\n",
       "  <thead>\n",
       "    <tr style=\"text-align: right;\">\n",
       "      <th></th>\n",
       "      <th>game_id</th>\n",
       "      <th>event</th>\n",
       "      <th>white_elo</th>\n",
       "      <th>black_elo</th>\n",
       "      <th>opening</th>\n",
       "      <th>winner</th>\n",
       "      <th>moves</th>\n",
       "    </tr>\n",
       "  </thead>\n",
       "  <tbody>\n",
       "    <tr>\n",
       "      <th>46</th>\n",
       "      <td>48</td>\n",
       "      <td>Rated Bullet game</td>\n",
       "      <td>1921</td>\n",
       "      <td>1934</td>\n",
       "      <td>Scandinavian Defense: Mieses-Kotroc Variation</td>\n",
       "      <td>1</td>\n",
       "      <td>e2e4 d7d5 e4d5 d8d5 g1f3 d5f3 d1f3 c8g4 f3g4 g...</td>\n",
       "    </tr>\n",
       "    <tr>\n",
       "      <th>106</th>\n",
       "      <td>108</td>\n",
       "      <td>Rated Bullet game</td>\n",
       "      <td>1312</td>\n",
       "      <td>1371</td>\n",
       "      <td>Scandinavian Defense: Mieses-Kotroc Variation</td>\n",
       "      <td>2</td>\n",
       "      <td>e2e4 d7d5 e4d5 d8d5 c2c4 d5a5 b1c3 c7c6 d2d4 a...</td>\n",
       "    </tr>\n",
       "    <tr>\n",
       "      <th>108</th>\n",
       "      <td>110</td>\n",
       "      <td>Rated Bullet game</td>\n",
       "      <td>1928</td>\n",
       "      <td>1916</td>\n",
       "      <td>Scandinavian Defense: Mieses-Kotroc Variation</td>\n",
       "      <td>2</td>\n",
       "      <td>e2e4 d7d5 e4d5 d8d5 d2d4 c8f5 b1c3 d5a5 f2f4 c...</td>\n",
       "    </tr>\n",
       "    <tr>\n",
       "      <th>283</th>\n",
       "      <td>285</td>\n",
       "      <td>Rated Blitz game</td>\n",
       "      <td>1714</td>\n",
       "      <td>1705</td>\n",
       "      <td>Scandinavian Defense: Mieses-Kotroc Variation</td>\n",
       "      <td>2</td>\n",
       "      <td>e2e4 d7d5 e4d5 d8d5 d2d4 d5d6 b1c3 c8f5 f1c4 b...</td>\n",
       "    </tr>\n",
       "    <tr>\n",
       "      <th>402</th>\n",
       "      <td>404</td>\n",
       "      <td>Rated Blitz game</td>\n",
       "      <td>1333</td>\n",
       "      <td>1335</td>\n",
       "      <td>Scandinavian Defense: Mieses-Kotroc Variation</td>\n",
       "      <td>2</td>\n",
       "      <td>e2e4 d7d5 e4d5 d8d5 b1c3 d5e5 g1e2 c8g4 d2d4 e...</td>\n",
       "    </tr>\n",
       "  </tbody>\n",
       "</table>\n",
       "</div>"
      ]
     },
     "execution_count": 6,
     "metadata": {},
     "output_type": "execute_result"
    }
   ],
   "execution_count": 6
  },
  {
   "metadata": {
    "ExecuteTime": {
     "end_time": "2025-05-02T16:44:42.524464Z",
     "start_time": "2025-05-02T16:44:42.521229Z"
    }
   },
   "cell_type": "code",
   "source": [
    "print(f\"Dataset initially contained {len(df)} entries.\")\n",
    "print(f\"After filtering, {len(df_filtered)} entries remain.\")"
   ],
   "id": "6c688ffb25c8691e",
   "outputs": [
    {
     "name": "stdout",
     "output_type": "stream",
     "text": [
      "Dataset initially contained 4991164 entries.\n",
      "After filtering, 61296 entries remain.\n"
     ]
    }
   ],
   "execution_count": 7
  },
  {
   "metadata": {},
   "cell_type": "markdown",
   "source": "## Calc average Elo\n",
   "id": "5638fe3192d71ffc"
  },
  {
   "metadata": {
    "ExecuteTime": {
     "end_time": "2025-05-02T16:44:42.607561Z",
     "start_time": "2025-05-02T16:44:42.596387Z"
    }
   },
   "cell_type": "code",
   "source": [
    "df_moves = df_filtered.copy()\n",
    "df_moves['avg_elo'] = df_moves[['white_elo', 'black_elo']].mean(axis=1)\n",
    "df_moves.head()"
   ],
   "id": "f43cbb6e1477a7b9",
   "outputs": [
    {
     "data": {
      "text/plain": [
       "     game_id              event  white_elo  black_elo  \\\n",
       "46        48  Rated Bullet game       1921       1934   \n",
       "106      108  Rated Bullet game       1312       1371   \n",
       "108      110  Rated Bullet game       1928       1916   \n",
       "283      285   Rated Blitz game       1714       1705   \n",
       "402      404   Rated Blitz game       1333       1335   \n",
       "\n",
       "                                           opening  winner  \\\n",
       "46   Scandinavian Defense: Mieses-Kotroc Variation       1   \n",
       "106  Scandinavian Defense: Mieses-Kotroc Variation       2   \n",
       "108  Scandinavian Defense: Mieses-Kotroc Variation       2   \n",
       "283  Scandinavian Defense: Mieses-Kotroc Variation       2   \n",
       "402  Scandinavian Defense: Mieses-Kotroc Variation       2   \n",
       "\n",
       "                                                 moves  avg_elo  \n",
       "46   e2e4 d7d5 e4d5 d8d5 g1f3 d5f3 d1f3 c8g4 f3g4 g...   1927.5  \n",
       "106  e2e4 d7d5 e4d5 d8d5 c2c4 d5a5 b1c3 c7c6 d2d4 a...   1341.5  \n",
       "108  e2e4 d7d5 e4d5 d8d5 d2d4 c8f5 b1c3 d5a5 f2f4 c...   1922.0  \n",
       "283  e2e4 d7d5 e4d5 d8d5 d2d4 d5d6 b1c3 c8f5 f1c4 b...   1709.5  \n",
       "402  e2e4 d7d5 e4d5 d8d5 b1c3 d5e5 g1e2 c8g4 d2d4 e...   1334.0  "
      ],
      "text/html": [
       "<div>\n",
       "<style scoped>\n",
       "    .dataframe tbody tr th:only-of-type {\n",
       "        vertical-align: middle;\n",
       "    }\n",
       "\n",
       "    .dataframe tbody tr th {\n",
       "        vertical-align: top;\n",
       "    }\n",
       "\n",
       "    .dataframe thead th {\n",
       "        text-align: right;\n",
       "    }\n",
       "</style>\n",
       "<table border=\"1\" class=\"dataframe\">\n",
       "  <thead>\n",
       "    <tr style=\"text-align: right;\">\n",
       "      <th></th>\n",
       "      <th>game_id</th>\n",
       "      <th>event</th>\n",
       "      <th>white_elo</th>\n",
       "      <th>black_elo</th>\n",
       "      <th>opening</th>\n",
       "      <th>winner</th>\n",
       "      <th>moves</th>\n",
       "      <th>avg_elo</th>\n",
       "    </tr>\n",
       "  </thead>\n",
       "  <tbody>\n",
       "    <tr>\n",
       "      <th>46</th>\n",
       "      <td>48</td>\n",
       "      <td>Rated Bullet game</td>\n",
       "      <td>1921</td>\n",
       "      <td>1934</td>\n",
       "      <td>Scandinavian Defense: Mieses-Kotroc Variation</td>\n",
       "      <td>1</td>\n",
       "      <td>e2e4 d7d5 e4d5 d8d5 g1f3 d5f3 d1f3 c8g4 f3g4 g...</td>\n",
       "      <td>1927.5</td>\n",
       "    </tr>\n",
       "    <tr>\n",
       "      <th>106</th>\n",
       "      <td>108</td>\n",
       "      <td>Rated Bullet game</td>\n",
       "      <td>1312</td>\n",
       "      <td>1371</td>\n",
       "      <td>Scandinavian Defense: Mieses-Kotroc Variation</td>\n",
       "      <td>2</td>\n",
       "      <td>e2e4 d7d5 e4d5 d8d5 c2c4 d5a5 b1c3 c7c6 d2d4 a...</td>\n",
       "      <td>1341.5</td>\n",
       "    </tr>\n",
       "    <tr>\n",
       "      <th>108</th>\n",
       "      <td>110</td>\n",
       "      <td>Rated Bullet game</td>\n",
       "      <td>1928</td>\n",
       "      <td>1916</td>\n",
       "      <td>Scandinavian Defense: Mieses-Kotroc Variation</td>\n",
       "      <td>2</td>\n",
       "      <td>e2e4 d7d5 e4d5 d8d5 d2d4 c8f5 b1c3 d5a5 f2f4 c...</td>\n",
       "      <td>1922.0</td>\n",
       "    </tr>\n",
       "    <tr>\n",
       "      <th>283</th>\n",
       "      <td>285</td>\n",
       "      <td>Rated Blitz game</td>\n",
       "      <td>1714</td>\n",
       "      <td>1705</td>\n",
       "      <td>Scandinavian Defense: Mieses-Kotroc Variation</td>\n",
       "      <td>2</td>\n",
       "      <td>e2e4 d7d5 e4d5 d8d5 d2d4 d5d6 b1c3 c8f5 f1c4 b...</td>\n",
       "      <td>1709.5</td>\n",
       "    </tr>\n",
       "    <tr>\n",
       "      <th>402</th>\n",
       "      <td>404</td>\n",
       "      <td>Rated Blitz game</td>\n",
       "      <td>1333</td>\n",
       "      <td>1335</td>\n",
       "      <td>Scandinavian Defense: Mieses-Kotroc Variation</td>\n",
       "      <td>2</td>\n",
       "      <td>e2e4 d7d5 e4d5 d8d5 b1c3 d5e5 g1e2 c8g4 d2d4 e...</td>\n",
       "      <td>1334.0</td>\n",
       "    </tr>\n",
       "  </tbody>\n",
       "</table>\n",
       "</div>"
      ]
     },
     "execution_count": 8,
     "metadata": {},
     "output_type": "execute_result"
    }
   ],
   "execution_count": 8
  },
  {
   "metadata": {
    "ExecuteTime": {
     "end_time": "2025-05-02T16:44:42.678793Z",
     "start_time": "2025-05-02T16:44:42.671408Z"
    }
   },
   "cell_type": "code",
   "source": [
    "df_moves = df_moves[[\"avg_elo\", \"moves\", \"winner\"]]\n",
    "df_moves.head()"
   ],
   "id": "7e4156c99a2ed4ea",
   "outputs": [
    {
     "data": {
      "text/plain": [
       "     avg_elo                                              moves  winner\n",
       "46    1927.5  e2e4 d7d5 e4d5 d8d5 g1f3 d5f3 d1f3 c8g4 f3g4 g...       1\n",
       "106   1341.5  e2e4 d7d5 e4d5 d8d5 c2c4 d5a5 b1c3 c7c6 d2d4 a...       2\n",
       "108   1922.0  e2e4 d7d5 e4d5 d8d5 d2d4 c8f5 b1c3 d5a5 f2f4 c...       2\n",
       "283   1709.5  e2e4 d7d5 e4d5 d8d5 d2d4 d5d6 b1c3 c8f5 f1c4 b...       2\n",
       "402   1334.0  e2e4 d7d5 e4d5 d8d5 b1c3 d5e5 g1e2 c8g4 d2d4 e...       2"
      ],
      "text/html": [
       "<div>\n",
       "<style scoped>\n",
       "    .dataframe tbody tr th:only-of-type {\n",
       "        vertical-align: middle;\n",
       "    }\n",
       "\n",
       "    .dataframe tbody tr th {\n",
       "        vertical-align: top;\n",
       "    }\n",
       "\n",
       "    .dataframe thead th {\n",
       "        text-align: right;\n",
       "    }\n",
       "</style>\n",
       "<table border=\"1\" class=\"dataframe\">\n",
       "  <thead>\n",
       "    <tr style=\"text-align: right;\">\n",
       "      <th></th>\n",
       "      <th>avg_elo</th>\n",
       "      <th>moves</th>\n",
       "      <th>winner</th>\n",
       "    </tr>\n",
       "  </thead>\n",
       "  <tbody>\n",
       "    <tr>\n",
       "      <th>46</th>\n",
       "      <td>1927.5</td>\n",
       "      <td>e2e4 d7d5 e4d5 d8d5 g1f3 d5f3 d1f3 c8g4 f3g4 g...</td>\n",
       "      <td>1</td>\n",
       "    </tr>\n",
       "    <tr>\n",
       "      <th>106</th>\n",
       "      <td>1341.5</td>\n",
       "      <td>e2e4 d7d5 e4d5 d8d5 c2c4 d5a5 b1c3 c7c6 d2d4 a...</td>\n",
       "      <td>2</td>\n",
       "    </tr>\n",
       "    <tr>\n",
       "      <th>108</th>\n",
       "      <td>1922.0</td>\n",
       "      <td>e2e4 d7d5 e4d5 d8d5 d2d4 c8f5 b1c3 d5a5 f2f4 c...</td>\n",
       "      <td>2</td>\n",
       "    </tr>\n",
       "    <tr>\n",
       "      <th>283</th>\n",
       "      <td>1709.5</td>\n",
       "      <td>e2e4 d7d5 e4d5 d8d5 d2d4 d5d6 b1c3 c8f5 f1c4 b...</td>\n",
       "      <td>2</td>\n",
       "    </tr>\n",
       "    <tr>\n",
       "      <th>402</th>\n",
       "      <td>1334.0</td>\n",
       "      <td>e2e4 d7d5 e4d5 d8d5 b1c3 d5e5 g1e2 c8g4 d2d4 e...</td>\n",
       "      <td>2</td>\n",
       "    </tr>\n",
       "  </tbody>\n",
       "</table>\n",
       "</div>"
      ]
     },
     "execution_count": 9,
     "metadata": {},
     "output_type": "execute_result"
    }
   ],
   "execution_count": 9
  },
  {
   "metadata": {
    "ExecuteTime": {
     "end_time": "2025-05-02T16:44:43.519460Z",
     "start_time": "2025-05-02T16:44:42.787310Z"
    }
   },
   "cell_type": "code",
   "source": [
    "df_moves.to_parquet(\"data/moves_2025_01.parquet\")\n",
    "print(\"✅ Saved moves data to 'data/moves_2025_01.parquet'\")"
   ],
   "id": "ffe84668cc76b7ce",
   "outputs": [
    {
     "ename": "OSError",
     "evalue": "Cannot save file into a non-existent directory: 'data'",
     "output_type": "error",
     "traceback": [
      "\u001B[31m---------------------------------------------------------------------------\u001B[39m",
      "\u001B[31mOSError\u001B[39m                                   Traceback (most recent call last)",
      "\u001B[36mCell\u001B[39m\u001B[36m \u001B[39m\u001B[32mIn[10]\u001B[39m\u001B[32m, line 1\u001B[39m\n\u001B[32m----> \u001B[39m\u001B[32m1\u001B[39m \u001B[43mdf_moves\u001B[49m\u001B[43m.\u001B[49m\u001B[43mto_parquet\u001B[49m\u001B[43m(\u001B[49m\u001B[33;43m\"\u001B[39;49m\u001B[33;43mdata/moves_2025_01.parquet\u001B[39;49m\u001B[33;43m\"\u001B[39;49m\u001B[43m)\u001B[49m\n\u001B[32m      2\u001B[39m \u001B[38;5;28mprint\u001B[39m(\u001B[33m\"\u001B[39m\u001B[33m✅ Saved moves data to \u001B[39m\u001B[33m'\u001B[39m\u001B[33mdata/moves_2025_01.parquet\u001B[39m\u001B[33m'\u001B[39m\u001B[33m\"\u001B[39m)\n",
      "\u001B[36mFile \u001B[39m\u001B[32m~\\Documents\\Code\\chess\\.venv\\Lib\\site-packages\\pandas\\util\\_decorators.py:333\u001B[39m, in \u001B[36mdeprecate_nonkeyword_arguments.<locals>.decorate.<locals>.wrapper\u001B[39m\u001B[34m(*args, **kwargs)\u001B[39m\n\u001B[32m    327\u001B[39m \u001B[38;5;28;01mif\u001B[39;00m \u001B[38;5;28mlen\u001B[39m(args) > num_allow_args:\n\u001B[32m    328\u001B[39m     warnings.warn(\n\u001B[32m    329\u001B[39m         msg.format(arguments=_format_argument_list(allow_args)),\n\u001B[32m    330\u001B[39m         \u001B[38;5;167;01mFutureWarning\u001B[39;00m,\n\u001B[32m    331\u001B[39m         stacklevel=find_stack_level(),\n\u001B[32m    332\u001B[39m     )\n\u001B[32m--> \u001B[39m\u001B[32m333\u001B[39m \u001B[38;5;28;01mreturn\u001B[39;00m \u001B[43mfunc\u001B[49m\u001B[43m(\u001B[49m\u001B[43m*\u001B[49m\u001B[43margs\u001B[49m\u001B[43m,\u001B[49m\u001B[43m \u001B[49m\u001B[43m*\u001B[49m\u001B[43m*\u001B[49m\u001B[43mkwargs\u001B[49m\u001B[43m)\u001B[49m\n",
      "\u001B[36mFile \u001B[39m\u001B[32m~\\Documents\\Code\\chess\\.venv\\Lib\\site-packages\\pandas\\core\\frame.py:3113\u001B[39m, in \u001B[36mDataFrame.to_parquet\u001B[39m\u001B[34m(self, path, engine, compression, index, partition_cols, storage_options, **kwargs)\u001B[39m\n\u001B[32m   3032\u001B[39m \u001B[38;5;250m\u001B[39m\u001B[33;03m\"\"\"\u001B[39;00m\n\u001B[32m   3033\u001B[39m \u001B[33;03mWrite a DataFrame to the binary parquet format.\u001B[39;00m\n\u001B[32m   3034\u001B[39m \n\u001B[32m   (...)\u001B[39m\u001B[32m   3109\u001B[39m \u001B[33;03m>>> content = f.read()\u001B[39;00m\n\u001B[32m   3110\u001B[39m \u001B[33;03m\"\"\"\u001B[39;00m\n\u001B[32m   3111\u001B[39m \u001B[38;5;28;01mfrom\u001B[39;00m\u001B[38;5;250m \u001B[39m\u001B[34;01mpandas\u001B[39;00m\u001B[34;01m.\u001B[39;00m\u001B[34;01mio\u001B[39;00m\u001B[34;01m.\u001B[39;00m\u001B[34;01mparquet\u001B[39;00m\u001B[38;5;250m \u001B[39m\u001B[38;5;28;01mimport\u001B[39;00m to_parquet\n\u001B[32m-> \u001B[39m\u001B[32m3113\u001B[39m \u001B[38;5;28;01mreturn\u001B[39;00m \u001B[43mto_parquet\u001B[49m\u001B[43m(\u001B[49m\n\u001B[32m   3114\u001B[39m \u001B[43m    \u001B[49m\u001B[38;5;28;43mself\u001B[39;49m\u001B[43m,\u001B[49m\n\u001B[32m   3115\u001B[39m \u001B[43m    \u001B[49m\u001B[43mpath\u001B[49m\u001B[43m,\u001B[49m\n\u001B[32m   3116\u001B[39m \u001B[43m    \u001B[49m\u001B[43mengine\u001B[49m\u001B[43m,\u001B[49m\n\u001B[32m   3117\u001B[39m \u001B[43m    \u001B[49m\u001B[43mcompression\u001B[49m\u001B[43m=\u001B[49m\u001B[43mcompression\u001B[49m\u001B[43m,\u001B[49m\n\u001B[32m   3118\u001B[39m \u001B[43m    \u001B[49m\u001B[43mindex\u001B[49m\u001B[43m=\u001B[49m\u001B[43mindex\u001B[49m\u001B[43m,\u001B[49m\n\u001B[32m   3119\u001B[39m \u001B[43m    \u001B[49m\u001B[43mpartition_cols\u001B[49m\u001B[43m=\u001B[49m\u001B[43mpartition_cols\u001B[49m\u001B[43m,\u001B[49m\n\u001B[32m   3120\u001B[39m \u001B[43m    \u001B[49m\u001B[43mstorage_options\u001B[49m\u001B[43m=\u001B[49m\u001B[43mstorage_options\u001B[49m\u001B[43m,\u001B[49m\n\u001B[32m   3121\u001B[39m \u001B[43m    \u001B[49m\u001B[43m*\u001B[49m\u001B[43m*\u001B[49m\u001B[43mkwargs\u001B[49m\u001B[43m,\u001B[49m\n\u001B[32m   3122\u001B[39m \u001B[43m\u001B[49m\u001B[43m)\u001B[49m\n",
      "\u001B[36mFile \u001B[39m\u001B[32m~\\Documents\\Code\\chess\\.venv\\Lib\\site-packages\\pandas\\io\\parquet.py:480\u001B[39m, in \u001B[36mto_parquet\u001B[39m\u001B[34m(df, path, engine, compression, index, storage_options, partition_cols, filesystem, **kwargs)\u001B[39m\n\u001B[32m    476\u001B[39m impl = get_engine(engine)\n\u001B[32m    478\u001B[39m path_or_buf: FilePath | WriteBuffer[\u001B[38;5;28mbytes\u001B[39m] = io.BytesIO() \u001B[38;5;28;01mif\u001B[39;00m path \u001B[38;5;129;01mis\u001B[39;00m \u001B[38;5;28;01mNone\u001B[39;00m \u001B[38;5;28;01melse\u001B[39;00m path\n\u001B[32m--> \u001B[39m\u001B[32m480\u001B[39m \u001B[43mimpl\u001B[49m\u001B[43m.\u001B[49m\u001B[43mwrite\u001B[49m\u001B[43m(\u001B[49m\n\u001B[32m    481\u001B[39m \u001B[43m    \u001B[49m\u001B[43mdf\u001B[49m\u001B[43m,\u001B[49m\n\u001B[32m    482\u001B[39m \u001B[43m    \u001B[49m\u001B[43mpath_or_buf\u001B[49m\u001B[43m,\u001B[49m\n\u001B[32m    483\u001B[39m \u001B[43m    \u001B[49m\u001B[43mcompression\u001B[49m\u001B[43m=\u001B[49m\u001B[43mcompression\u001B[49m\u001B[43m,\u001B[49m\n\u001B[32m    484\u001B[39m \u001B[43m    \u001B[49m\u001B[43mindex\u001B[49m\u001B[43m=\u001B[49m\u001B[43mindex\u001B[49m\u001B[43m,\u001B[49m\n\u001B[32m    485\u001B[39m \u001B[43m    \u001B[49m\u001B[43mpartition_cols\u001B[49m\u001B[43m=\u001B[49m\u001B[43mpartition_cols\u001B[49m\u001B[43m,\u001B[49m\n\u001B[32m    486\u001B[39m \u001B[43m    \u001B[49m\u001B[43mstorage_options\u001B[49m\u001B[43m=\u001B[49m\u001B[43mstorage_options\u001B[49m\u001B[43m,\u001B[49m\n\u001B[32m    487\u001B[39m \u001B[43m    \u001B[49m\u001B[43mfilesystem\u001B[49m\u001B[43m=\u001B[49m\u001B[43mfilesystem\u001B[49m\u001B[43m,\u001B[49m\n\u001B[32m    488\u001B[39m \u001B[43m    \u001B[49m\u001B[43m*\u001B[49m\u001B[43m*\u001B[49m\u001B[43mkwargs\u001B[49m\u001B[43m,\u001B[49m\n\u001B[32m    489\u001B[39m \u001B[43m\u001B[49m\u001B[43m)\u001B[49m\n\u001B[32m    491\u001B[39m \u001B[38;5;28;01mif\u001B[39;00m path \u001B[38;5;129;01mis\u001B[39;00m \u001B[38;5;28;01mNone\u001B[39;00m:\n\u001B[32m    492\u001B[39m     \u001B[38;5;28;01massert\u001B[39;00m \u001B[38;5;28misinstance\u001B[39m(path_or_buf, io.BytesIO)\n",
      "\u001B[36mFile \u001B[39m\u001B[32m~\\Documents\\Code\\chess\\.venv\\Lib\\site-packages\\pandas\\io\\parquet.py:198\u001B[39m, in \u001B[36mPyArrowImpl.write\u001B[39m\u001B[34m(self, df, path, compression, index, storage_options, partition_cols, filesystem, **kwargs)\u001B[39m\n\u001B[32m    195\u001B[39m     merged_metadata = {**existing_metadata, **df_metadata}\n\u001B[32m    196\u001B[39m     table = table.replace_schema_metadata(merged_metadata)\n\u001B[32m--> \u001B[39m\u001B[32m198\u001B[39m path_or_handle, handles, filesystem = \u001B[43m_get_path_or_handle\u001B[49m\u001B[43m(\u001B[49m\n\u001B[32m    199\u001B[39m \u001B[43m    \u001B[49m\u001B[43mpath\u001B[49m\u001B[43m,\u001B[49m\n\u001B[32m    200\u001B[39m \u001B[43m    \u001B[49m\u001B[43mfilesystem\u001B[49m\u001B[43m,\u001B[49m\n\u001B[32m    201\u001B[39m \u001B[43m    \u001B[49m\u001B[43mstorage_options\u001B[49m\u001B[43m=\u001B[49m\u001B[43mstorage_options\u001B[49m\u001B[43m,\u001B[49m\n\u001B[32m    202\u001B[39m \u001B[43m    \u001B[49m\u001B[43mmode\u001B[49m\u001B[43m=\u001B[49m\u001B[33;43m\"\u001B[39;49m\u001B[33;43mwb\u001B[39;49m\u001B[33;43m\"\u001B[39;49m\u001B[43m,\u001B[49m\n\u001B[32m    203\u001B[39m \u001B[43m    \u001B[49m\u001B[43mis_dir\u001B[49m\u001B[43m=\u001B[49m\u001B[43mpartition_cols\u001B[49m\u001B[43m \u001B[49m\u001B[38;5;129;43;01mis\u001B[39;49;00m\u001B[43m \u001B[49m\u001B[38;5;129;43;01mnot\u001B[39;49;00m\u001B[43m \u001B[49m\u001B[38;5;28;43;01mNone\u001B[39;49;00m\u001B[43m,\u001B[49m\n\u001B[32m    204\u001B[39m \u001B[43m\u001B[49m\u001B[43m)\u001B[49m\n\u001B[32m    205\u001B[39m \u001B[38;5;28;01mif\u001B[39;00m (\n\u001B[32m    206\u001B[39m     \u001B[38;5;28misinstance\u001B[39m(path_or_handle, io.BufferedWriter)\n\u001B[32m    207\u001B[39m     \u001B[38;5;129;01mand\u001B[39;00m \u001B[38;5;28mhasattr\u001B[39m(path_or_handle, \u001B[33m\"\u001B[39m\u001B[33mname\u001B[39m\u001B[33m\"\u001B[39m)\n\u001B[32m    208\u001B[39m     \u001B[38;5;129;01mand\u001B[39;00m \u001B[38;5;28misinstance\u001B[39m(path_or_handle.name, (\u001B[38;5;28mstr\u001B[39m, \u001B[38;5;28mbytes\u001B[39m))\n\u001B[32m    209\u001B[39m ):\n\u001B[32m    210\u001B[39m     \u001B[38;5;28;01mif\u001B[39;00m \u001B[38;5;28misinstance\u001B[39m(path_or_handle.name, \u001B[38;5;28mbytes\u001B[39m):\n",
      "\u001B[36mFile \u001B[39m\u001B[32m~\\Documents\\Code\\chess\\.venv\\Lib\\site-packages\\pandas\\io\\parquet.py:140\u001B[39m, in \u001B[36m_get_path_or_handle\u001B[39m\u001B[34m(path, fs, storage_options, mode, is_dir)\u001B[39m\n\u001B[32m    130\u001B[39m handles = \u001B[38;5;28;01mNone\u001B[39;00m\n\u001B[32m    131\u001B[39m \u001B[38;5;28;01mif\u001B[39;00m (\n\u001B[32m    132\u001B[39m     \u001B[38;5;129;01mnot\u001B[39;00m fs\n\u001B[32m    133\u001B[39m     \u001B[38;5;129;01mand\u001B[39;00m \u001B[38;5;129;01mnot\u001B[39;00m is_dir\n\u001B[32m   (...)\u001B[39m\u001B[32m    138\u001B[39m     \u001B[38;5;66;03m# fsspec resources can also point to directories\u001B[39;00m\n\u001B[32m    139\u001B[39m     \u001B[38;5;66;03m# this branch is used for example when reading from non-fsspec URLs\u001B[39;00m\n\u001B[32m--> \u001B[39m\u001B[32m140\u001B[39m     handles = \u001B[43mget_handle\u001B[49m\u001B[43m(\u001B[49m\n\u001B[32m    141\u001B[39m \u001B[43m        \u001B[49m\u001B[43mpath_or_handle\u001B[49m\u001B[43m,\u001B[49m\u001B[43m \u001B[49m\u001B[43mmode\u001B[49m\u001B[43m,\u001B[49m\u001B[43m \u001B[49m\u001B[43mis_text\u001B[49m\u001B[43m=\u001B[49m\u001B[38;5;28;43;01mFalse\u001B[39;49;00m\u001B[43m,\u001B[49m\u001B[43m \u001B[49m\u001B[43mstorage_options\u001B[49m\u001B[43m=\u001B[49m\u001B[43mstorage_options\u001B[49m\n\u001B[32m    142\u001B[39m \u001B[43m    \u001B[49m\u001B[43m)\u001B[49m\n\u001B[32m    143\u001B[39m     fs = \u001B[38;5;28;01mNone\u001B[39;00m\n\u001B[32m    144\u001B[39m     path_or_handle = handles.handle\n",
      "\u001B[36mFile \u001B[39m\u001B[32m~\\Documents\\Code\\chess\\.venv\\Lib\\site-packages\\pandas\\io\\common.py:749\u001B[39m, in \u001B[36mget_handle\u001B[39m\u001B[34m(path_or_buf, mode, encoding, compression, memory_map, is_text, errors, storage_options)\u001B[39m\n\u001B[32m    747\u001B[39m \u001B[38;5;66;03m# Only for write methods\u001B[39;00m\n\u001B[32m    748\u001B[39m \u001B[38;5;28;01mif\u001B[39;00m \u001B[33m\"\u001B[39m\u001B[33mr\u001B[39m\u001B[33m\"\u001B[39m \u001B[38;5;129;01mnot\u001B[39;00m \u001B[38;5;129;01min\u001B[39;00m mode \u001B[38;5;129;01mand\u001B[39;00m is_path:\n\u001B[32m--> \u001B[39m\u001B[32m749\u001B[39m     \u001B[43mcheck_parent_directory\u001B[49m\u001B[43m(\u001B[49m\u001B[38;5;28;43mstr\u001B[39;49m\u001B[43m(\u001B[49m\u001B[43mhandle\u001B[49m\u001B[43m)\u001B[49m\u001B[43m)\u001B[49m\n\u001B[32m    751\u001B[39m \u001B[38;5;28;01mif\u001B[39;00m compression:\n\u001B[32m    752\u001B[39m     \u001B[38;5;28;01mif\u001B[39;00m compression != \u001B[33m\"\u001B[39m\u001B[33mzstd\u001B[39m\u001B[33m\"\u001B[39m:\n\u001B[32m    753\u001B[39m         \u001B[38;5;66;03m# compression libraries do not like an explicit text-mode\u001B[39;00m\n",
      "\u001B[36mFile \u001B[39m\u001B[32m~\\Documents\\Code\\chess\\.venv\\Lib\\site-packages\\pandas\\io\\common.py:616\u001B[39m, in \u001B[36mcheck_parent_directory\u001B[39m\u001B[34m(path)\u001B[39m\n\u001B[32m    614\u001B[39m parent = Path(path).parent\n\u001B[32m    615\u001B[39m \u001B[38;5;28;01mif\u001B[39;00m \u001B[38;5;129;01mnot\u001B[39;00m parent.is_dir():\n\u001B[32m--> \u001B[39m\u001B[32m616\u001B[39m     \u001B[38;5;28;01mraise\u001B[39;00m \u001B[38;5;167;01mOSError\u001B[39;00m(\u001B[33mrf\u001B[39m\u001B[33m\"\u001B[39m\u001B[33mCannot save file into a non-existent directory: \u001B[39m\u001B[33m'\u001B[39m\u001B[38;5;132;01m{\u001B[39;00mparent\u001B[38;5;132;01m}\u001B[39;00m\u001B[33m'\u001B[39m\u001B[33m\"\u001B[39m)\n",
      "\u001B[31mOSError\u001B[39m: Cannot save file into a non-existent directory: 'data'"
     ]
    }
   ],
   "execution_count": 10
  }
 ],
 "metadata": {
  "kernelspec": {
   "display_name": "Python 3",
   "language": "python",
   "name": "python3"
  },
  "language_info": {
   "codemirror_mode": {
    "name": "ipython",
    "version": 2
   },
   "file_extension": ".py",
   "mimetype": "text/x-python",
   "name": "python",
   "nbconvert_exporter": "python",
   "pygments_lexer": "ipython2",
   "version": "2.7.6"
  }
 },
 "nbformat": 4,
 "nbformat_minor": 5
}
