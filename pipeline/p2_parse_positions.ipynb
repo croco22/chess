{
 "cells": [
  {
   "metadata": {
    "ExecuteTime": {
     "end_time": "2025-05-19T18:31:33.171184Z",
     "start_time": "2025-05-19T18:31:33.138110Z"
    }
   },
   "cell_type": "code",
   "source": [
    "import chess\n",
    "import matplotlib.pyplot as plt\n",
    "import pandas as pd\n",
    "import seaborn as sns\n",
    "from tqdm import tqdm\n",
    "\n",
    "sns.set_style(\"darkgrid\")"
   ],
   "id": "7cbfa5b1a153d5c2",
   "outputs": [],
   "execution_count": 1
  },
  {
   "cell_type": "code",
   "id": "initial_id",
   "metadata": {
    "collapsed": true,
    "ExecuteTime": {
     "end_time": "2025-05-19T18:31:39.635496Z",
     "start_time": "2025-05-19T18:31:33.485006Z"
    }
   },
   "source": [
    "df = pd.read_parquet('../data/data_2025_01.parquet')\n",
    "df.tail()"
   ],
   "outputs": [
    {
     "data": {
      "text/plain": [
       "          game_id             event  white_elo  black_elo  \\\n",
       "9982296   9999996  Rated Blitz game       1586       1593   \n",
       "9982297   9999997  Rated Blitz game       2094       2106   \n",
       "9982298   9999998  Rated Blitz game       1449       1532   \n",
       "9982299   9999999  Rated Blitz game       2069       2063   \n",
       "9982300  10000000  Rated Blitz game       1292       1283   \n",
       "\n",
       "                                                   opening  winner  \\\n",
       "9982296  Sicilian Defense: Delayed Alapin Variation, wi...       1   \n",
       "9982297                          Ruy Lopez: Berlin Defense       2   \n",
       "9982298                    Scandinavian Defense: Main Line       1   \n",
       "9982299                Sicilian Defense: Kramnik Variation       1   \n",
       "9982300              King's Pawn Game: Leonardis Variation       2   \n",
       "\n",
       "                                                     moves  \n",
       "9982296  e2e4 c7c5 g1f3 e7e6 c2c3 d7d5 e4d5 e6d5 d2d4 c...  \n",
       "9982297  e2e4 b8c6 g1f3 e7e5 f1b5 g8f6 b5c6 b7c6 f3e5 f...  \n",
       "9982298  e2e4 d7d5 e4d5 d8d5 b1c3 d5a5 d2d3 c7c6 c1d2 g...  \n",
       "9982299  e2e4 c7c5 g1f3 e7e6 c2c4 b8c6 d2d3 d7d6 b1c3 g...  \n",
       "9982300  e2e4 e7e5 d2d3 g8f6 g1f3 b8c6 f1e2 f8e7 e1g1 d...  "
      ],
      "text/html": [
       "<div>\n",
       "<style scoped>\n",
       "    .dataframe tbody tr th:only-of-type {\n",
       "        vertical-align: middle;\n",
       "    }\n",
       "\n",
       "    .dataframe tbody tr th {\n",
       "        vertical-align: top;\n",
       "    }\n",
       "\n",
       "    .dataframe thead th {\n",
       "        text-align: right;\n",
       "    }\n",
       "</style>\n",
       "<table border=\"1\" class=\"dataframe\">\n",
       "  <thead>\n",
       "    <tr style=\"text-align: right;\">\n",
       "      <th></th>\n",
       "      <th>game_id</th>\n",
       "      <th>event</th>\n",
       "      <th>white_elo</th>\n",
       "      <th>black_elo</th>\n",
       "      <th>opening</th>\n",
       "      <th>winner</th>\n",
       "      <th>moves</th>\n",
       "    </tr>\n",
       "  </thead>\n",
       "  <tbody>\n",
       "    <tr>\n",
       "      <th>9982296</th>\n",
       "      <td>9999996</td>\n",
       "      <td>Rated Blitz game</td>\n",
       "      <td>1586</td>\n",
       "      <td>1593</td>\n",
       "      <td>Sicilian Defense: Delayed Alapin Variation, wi...</td>\n",
       "      <td>1</td>\n",
       "      <td>e2e4 c7c5 g1f3 e7e6 c2c3 d7d5 e4d5 e6d5 d2d4 c...</td>\n",
       "    </tr>\n",
       "    <tr>\n",
       "      <th>9982297</th>\n",
       "      <td>9999997</td>\n",
       "      <td>Rated Blitz game</td>\n",
       "      <td>2094</td>\n",
       "      <td>2106</td>\n",
       "      <td>Ruy Lopez: Berlin Defense</td>\n",
       "      <td>2</td>\n",
       "      <td>e2e4 b8c6 g1f3 e7e5 f1b5 g8f6 b5c6 b7c6 f3e5 f...</td>\n",
       "    </tr>\n",
       "    <tr>\n",
       "      <th>9982298</th>\n",
       "      <td>9999998</td>\n",
       "      <td>Rated Blitz game</td>\n",
       "      <td>1449</td>\n",
       "      <td>1532</td>\n",
       "      <td>Scandinavian Defense: Main Line</td>\n",
       "      <td>1</td>\n",
       "      <td>e2e4 d7d5 e4d5 d8d5 b1c3 d5a5 d2d3 c7c6 c1d2 g...</td>\n",
       "    </tr>\n",
       "    <tr>\n",
       "      <th>9982299</th>\n",
       "      <td>9999999</td>\n",
       "      <td>Rated Blitz game</td>\n",
       "      <td>2069</td>\n",
       "      <td>2063</td>\n",
       "      <td>Sicilian Defense: Kramnik Variation</td>\n",
       "      <td>1</td>\n",
       "      <td>e2e4 c7c5 g1f3 e7e6 c2c4 b8c6 d2d3 d7d6 b1c3 g...</td>\n",
       "    </tr>\n",
       "    <tr>\n",
       "      <th>9982300</th>\n",
       "      <td>10000000</td>\n",
       "      <td>Rated Blitz game</td>\n",
       "      <td>1292</td>\n",
       "      <td>1283</td>\n",
       "      <td>King's Pawn Game: Leonardis Variation</td>\n",
       "      <td>2</td>\n",
       "      <td>e2e4 e7e5 d2d3 g8f6 g1f3 b8c6 f1e2 f8e7 e1g1 d...</td>\n",
       "    </tr>\n",
       "  </tbody>\n",
       "</table>\n",
       "</div>"
      ]
     },
     "execution_count": 2,
     "metadata": {},
     "output_type": "execute_result"
    }
   ],
   "execution_count": 2
  },
  {
   "metadata": {
    "ExecuteTime": {
     "end_time": "2025-05-19T18:31:39.970713Z",
     "start_time": "2025-05-19T18:31:39.698270Z"
    }
   },
   "cell_type": "code",
   "source": "df[\"event\"].value_counts()",
   "id": "f2f4d05589e28321",
   "outputs": [
    {
     "data": {
      "text/plain": [
       "event\n",
       "Rated Blitz game                                                  4231136\n",
       "Rated Bullet game                                                 3355083\n",
       "Rated Rapid game                                                  1340401\n",
       "Rated Classical game                                                56249\n",
       "Rated UltraBullet game                                              46917\n",
       "                                                                   ...   \n",
       "Classical swiss https://lichess.org/swiss/bUvNze57                      1\n",
       "Rated Rapid tournament https://lichess.org/tournament/wmyH1zNY          1\n",
       "Rated Rapid tournament https://lichess.org/tournament/3XeES9oL          1\n",
       "Blitz swiss https://lichess.org/swiss/UUugSTaP                          1\n",
       "Rapid swiss https://lichess.org/swiss/WReDpHLY                          1\n",
       "Name: count, Length: 4664, dtype: int64"
      ]
     },
     "execution_count": 3,
     "metadata": {},
     "output_type": "execute_result"
    }
   ],
   "execution_count": 3
  },
  {
   "metadata": {
    "ExecuteTime": {
     "end_time": "2025-05-19T18:31:40.345470Z",
     "start_time": "2025-05-19T18:31:40.095439Z"
    }
   },
   "cell_type": "code",
   "source": "df[\"opening\"].value_counts()",
   "id": "575d576c0c25f159",
   "outputs": [
    {
     "data": {
      "text/plain": [
       "opening\n",
       "Queen's Pawn Game                                                     261820\n",
       "Caro-Kann Defense                                                     185052\n",
       "Van't Kruijs Opening                                                  176273\n",
       "Modern Defense                                                        163143\n",
       "Philidor Defense                                                      159803\n",
       "                                                                       ...  \n",
       "Sicilian Defense: Kan Variation, Wing Attack, Christiansen's Dream         1\n",
       "Petrov's Defense: Modern Attack, Tal Gambit                                1\n",
       "Scandinavian Defense: Modern Variation, Wing Gambit                        1\n",
       "Italian Game: Classical Variation, Eisinger Variation                      1\n",
       "King's Gambit Declined: Classical Variation, Euwe Attack                   1\n",
       "Name: count, Length: 2914, dtype: int64"
      ]
     },
     "execution_count": 4,
     "metadata": {},
     "output_type": "execute_result"
    }
   ],
   "execution_count": 4
  },
  {
   "metadata": {
    "ExecuteTime": {
     "end_time": "2025-05-19T18:31:41.528247Z",
     "start_time": "2025-05-19T18:31:40.393479Z"
    }
   },
   "cell_type": "code",
   "source": [
    "events_to_keep = [\n",
    "    \"Rated Bullet game\",\n",
    "    \"Rated Blitz game\",\n",
    "    \"Rated Rapid game\",\n",
    "    \"Rated Classical game\"\n",
    "]\n",
    "df = df[df[\"event\"].isin(events_to_keep)]\n",
    "\n",
    "top3_openings = df[\"opening\"].value_counts().head(3).index.tolist()\n",
    "df = df[df[\"opening\"].isin(top3_openings)]\n",
    "\n",
    "df.head()"
   ],
   "id": "3b7e5f5fd4504e0c",
   "outputs": [
    {
     "data": {
      "text/plain": [
       "    game_id              event  white_elo  black_elo               opening  \\\n",
       "2         4   Rated Blitz game       1043       1000     Queen's Pawn Game   \n",
       "6         8   Rated Blitz game       1638       1696     Queen's Pawn Game   \n",
       "13       15   Rated Blitz game       1268       1272  Van't Kruijs Opening   \n",
       "31       33   Rated Blitz game       1902       1895     Caro-Kann Defense   \n",
       "45       47  Rated Bullet game       2138       2125     Queen's Pawn Game   \n",
       "\n",
       "    winner                                              moves  \n",
       "2        1  d2d4 d7d5 c2c3 b8c6 g1f3 c8g4 h2h3 g4f3 e2f3 e...  \n",
       "6        1  d2d4 f7f6 c1f4 g7g6 e2e3 f8g7 f1d3 e7e6 c2c3 g...  \n",
       "13       1  e2e3 c7c5 d2d4 c5d4 e3d4 d7d6 f1c4 e7e6 d1f3 g...  \n",
       "31       1  e2e4 c7c6 d1f3 d7d5 d2d3 d5e4 d3e4 g8f6 h2h3 e...  \n",
       "45       2  d2d4 d7d5 e2e3 c7c6 f1d3 g8f6 b1d2 c8g4 g1f3 e...  "
      ],
      "text/html": [
       "<div>\n",
       "<style scoped>\n",
       "    .dataframe tbody tr th:only-of-type {\n",
       "        vertical-align: middle;\n",
       "    }\n",
       "\n",
       "    .dataframe tbody tr th {\n",
       "        vertical-align: top;\n",
       "    }\n",
       "\n",
       "    .dataframe thead th {\n",
       "        text-align: right;\n",
       "    }\n",
       "</style>\n",
       "<table border=\"1\" class=\"dataframe\">\n",
       "  <thead>\n",
       "    <tr style=\"text-align: right;\">\n",
       "      <th></th>\n",
       "      <th>game_id</th>\n",
       "      <th>event</th>\n",
       "      <th>white_elo</th>\n",
       "      <th>black_elo</th>\n",
       "      <th>opening</th>\n",
       "      <th>winner</th>\n",
       "      <th>moves</th>\n",
       "    </tr>\n",
       "  </thead>\n",
       "  <tbody>\n",
       "    <tr>\n",
       "      <th>2</th>\n",
       "      <td>4</td>\n",
       "      <td>Rated Blitz game</td>\n",
       "      <td>1043</td>\n",
       "      <td>1000</td>\n",
       "      <td>Queen's Pawn Game</td>\n",
       "      <td>1</td>\n",
       "      <td>d2d4 d7d5 c2c3 b8c6 g1f3 c8g4 h2h3 g4f3 e2f3 e...</td>\n",
       "    </tr>\n",
       "    <tr>\n",
       "      <th>6</th>\n",
       "      <td>8</td>\n",
       "      <td>Rated Blitz game</td>\n",
       "      <td>1638</td>\n",
       "      <td>1696</td>\n",
       "      <td>Queen's Pawn Game</td>\n",
       "      <td>1</td>\n",
       "      <td>d2d4 f7f6 c1f4 g7g6 e2e3 f8g7 f1d3 e7e6 c2c3 g...</td>\n",
       "    </tr>\n",
       "    <tr>\n",
       "      <th>13</th>\n",
       "      <td>15</td>\n",
       "      <td>Rated Blitz game</td>\n",
       "      <td>1268</td>\n",
       "      <td>1272</td>\n",
       "      <td>Van't Kruijs Opening</td>\n",
       "      <td>1</td>\n",
       "      <td>e2e3 c7c5 d2d4 c5d4 e3d4 d7d6 f1c4 e7e6 d1f3 g...</td>\n",
       "    </tr>\n",
       "    <tr>\n",
       "      <th>31</th>\n",
       "      <td>33</td>\n",
       "      <td>Rated Blitz game</td>\n",
       "      <td>1902</td>\n",
       "      <td>1895</td>\n",
       "      <td>Caro-Kann Defense</td>\n",
       "      <td>1</td>\n",
       "      <td>e2e4 c7c6 d1f3 d7d5 d2d3 d5e4 d3e4 g8f6 h2h3 e...</td>\n",
       "    </tr>\n",
       "    <tr>\n",
       "      <th>45</th>\n",
       "      <td>47</td>\n",
       "      <td>Rated Bullet game</td>\n",
       "      <td>2138</td>\n",
       "      <td>2125</td>\n",
       "      <td>Queen's Pawn Game</td>\n",
       "      <td>2</td>\n",
       "      <td>d2d4 d7d5 e2e3 c7c6 f1d3 g8f6 b1d2 c8g4 g1f3 e...</td>\n",
       "    </tr>\n",
       "  </tbody>\n",
       "</table>\n",
       "</div>"
      ]
     },
     "execution_count": 5,
     "metadata": {},
     "output_type": "execute_result"
    }
   ],
   "execution_count": 5
  },
  {
   "metadata": {
    "ExecuteTime": {
     "end_time": "2025-05-19T18:31:42.735168Z",
     "start_time": "2025-05-19T18:31:41.578671Z"
    }
   },
   "cell_type": "code",
   "source": [
    "# Count number of half-moves (plies) per game\n",
    "df[\"num_halfmoves\"] = df[\"moves\"].apply(lambda x: len(x.split()))\n",
    "median_val = df[\"num_halfmoves\"].median()\n",
    "\n",
    "# Cap the histogram at the 99th percentile to avoid skew from outliers\n",
    "lower_limit = int(df[\"num_halfmoves\"].quantile(0.01))\n",
    "upper_limit = int(df[\"num_halfmoves\"].quantile(0.99))\n",
    "\n",
    "plt.figure(figsize=(10, 6))\n",
    "plt.hist(df[\"num_halfmoves\"], bins=range(lower_limit, upper_limit, 2), edgecolor='black')\n",
    "plt.axvline(median_val, color='red', linestyle='dashed', linewidth=2, label=f\"Median: {median_val:.0f}\")\n",
    "plt.xlabel(\"Number of half-moves per game\")\n",
    "plt.ylabel(\"Number of games\")\n",
    "plt.title(\"Distribution of half-move counts per game (up to 99th percentile)\")\n",
    "plt.legend()\n",
    "plt.tight_layout()\n",
    "plt.show()"
   ],
   "id": "1a0191b97a8e8b15",
   "outputs": [
    {
     "data": {
      "text/plain": [
       "<Figure size 1000x600 with 1 Axes>"
      ],
      "image/png": "[encoded data removed]"
     },
     "metadata": {},
     "output_type": "display_data"
    }
   ],
   "execution_count": 6
  },
  {
   "metadata": {
    "ExecuteTime": {
     "end_time": "2025-05-19T18:37:41.582018Z",
     "start_time": "2025-05-19T18:31:42.773418Z"
    }
   },
   "cell_type": "code",
   "source": [
    "# Extract positions from the first 25 half-moves of each game\n",
    "records = []\n",
    "\n",
    "for _, game in tqdm(df.iterrows(), total=len(df), desc=\"Processing games\"):\n",
    "    board = chess.Board()\n",
    "    moves_arr = game[\"moves\"].split()\n",
    "    winner_flag = game[\"winner\"]\n",
    "\n",
    "    for idx, mv in enumerate(moves_arr):\n",
    "        # Stop after 25 half-moves or if there's no next move\n",
    "        if idx < 10:\n",
    "            board.push_uci(mv)\n",
    "            continue\n",
    "        if idx >= 25 or idx + 1 >= len(moves_arr):\n",
    "            break\n",
    "\n",
    "        board.push_uci(mv)\n",
    "        next_move = moves_arr[idx + 1]\n",
    "\n",
    "        # Determine whether the player to move is on the winning side\n",
    "        if (board.turn == chess.WHITE and winner_flag == 1) or (board.turn == chess.BLACK and winner_flag == 2):\n",
    "            win_pov = True\n",
    "        else:\n",
    "            win_pov = False\n",
    "\n",
    "        played_by = game[\"white_elo\"] if board.turn else game[\"black_elo\"]\n",
    "\n",
    "        records.append({\n",
    "            \"fen\": board.fen(),\n",
    "            \"next_move\": next_move,\n",
    "            \"played_by_elo\": played_by,\n",
    "            \"win_pov\": win_pov\n",
    "        })\n",
    "\n",
    "positions_df = pd.DataFrame.from_records(records)\n",
    "positions_df.head()"
   ],
   "id": "25429f092e6840f3",
   "outputs": [
    {
     "name": "stderr",
     "output_type": "stream",
     "text": [
      "Processing games: 100%|██████████| 550988/550988 [05:55<00:00, 1549.45it/s]\n"
     ]
    },
    {
     "data": {
      "text/plain": [
       "                                                 fen next_move  played_by_elo  \\\n",
       "0  r2qkbnr/ppp2ppp/2n5/3pP3/8/2P2P1P/PP3PP1/RNBQK...      c6e5           1000   \n",
       "1  r2qkbnr/ppp2ppp/8/3pn3/8/2P2P1P/PP3PP1/RNBQKB1...      c1f4           1043   \n",
       "2  r2qkbnr/ppp2ppp/8/3pn3/5B2/2P2P1P/PP3PP1/RN1QK...      f8d6           1000   \n",
       "3  r2qk1nr/ppp2ppp/3b4/3pn3/5B2/2P2P1P/PP3PP1/RN1...      f4e5           1043   \n",
       "4  r2qk1nr/ppp2ppp/3b4/3pB3/8/2P2P1P/PP3PP1/RN1QK...      d6e5           1000   \n",
       "\n",
       "   win_pov  \n",
       "0    False  \n",
       "1     True  \n",
       "2    False  \n",
       "3     True  \n",
       "4    False  "
      ],
      "text/html": [
       "<div>\n",
       "<style scoped>\n",
       "    .dataframe tbody tr th:only-of-type {\n",
       "        vertical-align: middle;\n",
       "    }\n",
       "\n",
       "    .dataframe tbody tr th {\n",
       "        vertical-align: top;\n",
       "    }\n",
       "\n",
       "    .dataframe thead th {\n",
       "        text-align: right;\n",
       "    }\n",
       "</style>\n",
       "<table border=\"1\" class=\"dataframe\">\n",
       "  <thead>\n",
       "    <tr style=\"text-align: right;\">\n",
       "      <th></th>\n",
       "      <th>fen</th>\n",
       "      <th>next_move</th>\n",
       "      <th>played_by_elo</th>\n",
       "      <th>win_pov</th>\n",
       "    </tr>\n",
       "  </thead>\n",
       "  <tbody>\n",
       "    <tr>\n",
       "      <th>0</th>\n",
       "      <td>r2qkbnr/ppp2ppp/2n5/3pP3/8/2P2P1P/PP3PP1/RNBQK...</td>\n",
       "      <td>c6e5</td>\n",
       "      <td>1000</td>\n",
       "      <td>False</td>\n",
       "    </tr>\n",
       "    <tr>\n",
       "      <th>1</th>\n",
       "      <td>r2qkbnr/ppp2ppp/8/3pn3/8/2P2P1P/PP3PP1/RNBQKB1...</td>\n",
       "      <td>c1f4</td>\n",
       "      <td>1043</td>\n",
       "      <td>True</td>\n",
       "    </tr>\n",
       "    <tr>\n",
       "      <th>2</th>\n",
       "      <td>r2qkbnr/ppp2ppp/8/3pn3/5B2/2P2P1P/PP3PP1/RN1QK...</td>\n",
       "      <td>f8d6</td>\n",
       "      <td>1000</td>\n",
       "      <td>False</td>\n",
       "    </tr>\n",
       "    <tr>\n",
       "      <th>3</th>\n",
       "      <td>r2qk1nr/ppp2ppp/3b4/3pn3/5B2/2P2P1P/PP3PP1/RN1...</td>\n",
       "      <td>f4e5</td>\n",
       "      <td>1043</td>\n",
       "      <td>True</td>\n",
       "    </tr>\n",
       "    <tr>\n",
       "      <th>4</th>\n",
       "      <td>r2qk1nr/ppp2ppp/3b4/3pB3/8/2P2P1P/PP3PP1/RN1QK...</td>\n",
       "      <td>d6e5</td>\n",
       "      <td>1000</td>\n",
       "      <td>False</td>\n",
       "    </tr>\n",
       "  </tbody>\n",
       "</table>\n",
       "</div>"
      ]
     },
     "execution_count": 7,
     "metadata": {},
     "output_type": "execute_result"
    }
   ],
   "execution_count": 7
  },
  {
   "metadata": {
    "ExecuteTime": {
     "end_time": "2025-05-19T18:37:57.259619Z",
     "start_time": "2025-05-19T18:37:41.614353Z"
    }
   },
   "cell_type": "code",
   "source": [
    "# Count how often each (position, move) pair appears\n",
    "positions_df[\"games_count\"] = (\n",
    "    positions_df.groupby([\"fen\", \"next_move\"])[\"fen\"].transform(\"size\")\n",
    ")\n",
    "\n",
    "# Keep only frequently played position-move pairs\n",
    "positions_df = positions_df[positions_df[\"games_count\"] >= 100]\n",
    "\n",
    "n_unique = positions_df[[\"fen\", \"next_move\"]].drop_duplicates().shape[0]\n",
    "print(f\"{n_unique} unique position–move pairs occurred at least 100 times.\")"
   ],
   "id": "e15860af298bab88",
   "outputs": [
    {
     "name": "stdout",
     "output_type": "stream",
     "text": [
      "270 unique position–move pairs occurred at least 100 times.\n"
     ]
    }
   ],
   "execution_count": 8
  },
  {
   "metadata": {
    "ExecuteTime": {
     "end_time": "2025-05-19T18:39:51.100838Z",
     "start_time": "2025-05-19T18:39:50.843530Z"
    }
   },
   "cell_type": "code",
   "source": [
    "median_elo = positions_df[\"played_by_elo\"].median()\n",
    "\n",
    "plt.figure(figsize=(10, 6))\n",
    "plt.hist(positions_df[\"played_by_elo\"], bins=50, edgecolor='black')\n",
    "plt.axvline(median_elo, color='red', linestyle='dashed', linewidth=2, label=f\"Median: {median_elo:.0f}\")\n",
    "plt.xlabel(\"Elo rating of move-playing player\")\n",
    "plt.ylabel(\"Number of positions\")\n",
    "plt.legend()\n",
    "plt.tight_layout()\n",
    "plt.show()"
   ],
   "id": "1442df75f9e03cfc",
   "outputs": [
    {
     "data": {
      "text/plain": [
       "<Figure size 1000x600 with 1 Axes>"
      ],
      "image/png": "[encoded data removed]"
     },
     "metadata": {},
     "output_type": "display_data"
    }
   ],
   "execution_count": 21
  },
  {
   "metadata": {
    "ExecuteTime": {
     "end_time": "2025-05-19T18:37:57.448993Z",
     "start_time": "2025-05-19T18:37:57.418599Z"
    }
   },
   "cell_type": "code",
   "source": [
    "positions_df.to_parquet(\"../data/positions_2025_01.parquet\", index=False)\n",
    "print(\"✅ Saved position data to 'data/positions_2025_01.parquet'\")"
   ],
   "id": "70d977f75fe3c8b3",
   "outputs": [
    {
     "name": "stdout",
     "output_type": "stream",
     "text": [
      "✅ Saved position data to 'data/positions_2025_01.parquet'\n"
     ]
    }
   ],
   "execution_count": 10
  }
 ],
 "metadata": {
  "kernelspec": {
   "display_name": "Python 3",
   "language": "python",
   "name": "python3"
  },
  "language_info": {
   "codemirror_mode": {
    "name": "ipython",
    "version": 2
   },
   "file_extension": ".py",
   "mimetype": "text/x-python",
   "name": "python",
   "nbconvert_exporter": "python",
   "pygments_lexer": "ipython2",
   "version": "2.7.6"
  }
 },
 "nbformat": 4,
 "nbformat_minor": 5
}
