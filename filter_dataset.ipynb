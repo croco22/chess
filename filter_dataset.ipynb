{
 "cells": [
  {
   "metadata": {},
   "cell_type": "markdown",
   "source": "# Filter the dataset based on event type and opening",
   "id": "8060a41f84dc29ad"
  },
  {
   "cell_type": "code",
   "id": "initial_id",
   "metadata": {
    "collapsed": true,
    "ExecuteTime": {
     "end_time": "2025-04-27T12:20:31.779337Z",
     "start_time": "2025-04-27T12:20:28.468510Z"
    }
   },
   "source": [
    "import pandas as pd\n",
    "\n",
    "df = pd.read_parquet('data/data_2025_01.parquet')\n",
    "df.tail()"
   ],
   "outputs": [
    {
     "data": {
      "text/plain": [
       "         game_id             event  white_elo  black_elo  \\\n",
       "4991159  4999996  Rated Rapid game       1746       1736   \n",
       "4991160  4999997  Rated Rapid game       1498       1476   \n",
       "4991161  4999998  Rated Rapid game       2187       2128   \n",
       "4991162  4999999  Rated Rapid game       1659       1696   \n",
       "4991163  5000000  Rated Rapid game       1734       1706   \n",
       "\n",
       "                                                   opening  winner  \\\n",
       "4991159                                  Caro-Kann Defense       2   \n",
       "4991160                King's Pawn Game: McConnell Defense       2   \n",
       "4991161                Sicilian Defense: Modern Variations       2   \n",
       "4991162  Queen's Gambit Accepted: Central Variation, Al...       1   \n",
       "4991163                       Caro-Kann Defense: Main Line       1   \n",
       "\n",
       "                                                     moves  \n",
       "4991159  e2e4 c7c6 g1f3 d7d5 e4d5 c6d5 d2d4 c8g4 b1c3 g...  \n",
       "4991160  e2e4 e7e5 g1f3 d8f6 f1b5 f8c5 c2c3 c7c6 b5a4 b...  \n",
       "4991161  e2e4 c7c5 g1f3 d7d6 f1c4 e7e6 e1g1 d8c7 c2c3 a...  \n",
       "4991162  d2d4 d7d5 c2c4 d5c4 e2e4 g8f6 b1c3 e7e6 a2a3 f...  \n",
       "4991163  d2d4 c7c6 e2e4 d7d5 b1c3 d5e4 c3e4 g8f6 e4c5 c...  "
      ],
      "text/html": [
       "<div>\n",
       "<style scoped>\n",
       "    .dataframe tbody tr th:only-of-type {\n",
       "        vertical-align: middle;\n",
       "    }\n",
       "\n",
       "    .dataframe tbody tr th {\n",
       "        vertical-align: top;\n",
       "    }\n",
       "\n",
       "    .dataframe thead th {\n",
       "        text-align: right;\n",
       "    }\n",
       "</style>\n",
       "<table border=\"1\" class=\"dataframe\">\n",
       "  <thead>\n",
       "    <tr style=\"text-align: right;\">\n",
       "      <th></th>\n",
       "      <th>game_id</th>\n",
       "      <th>event</th>\n",
       "      <th>white_elo</th>\n",
       "      <th>black_elo</th>\n",
       "      <th>opening</th>\n",
       "      <th>winner</th>\n",
       "      <th>moves</th>\n",
       "    </tr>\n",
       "  </thead>\n",
       "  <tbody>\n",
       "    <tr>\n",
       "      <th>4991159</th>\n",
       "      <td>4999996</td>\n",
       "      <td>Rated Rapid game</td>\n",
       "      <td>1746</td>\n",
       "      <td>1736</td>\n",
       "      <td>Caro-Kann Defense</td>\n",
       "      <td>2</td>\n",
       "      <td>e2e4 c7c6 g1f3 d7d5 e4d5 c6d5 d2d4 c8g4 b1c3 g...</td>\n",
       "    </tr>\n",
       "    <tr>\n",
       "      <th>4991160</th>\n",
       "      <td>4999997</td>\n",
       "      <td>Rated Rapid game</td>\n",
       "      <td>1498</td>\n",
       "      <td>1476</td>\n",
       "      <td>King's Pawn Game: McConnell Defense</td>\n",
       "      <td>2</td>\n",
       "      <td>e2e4 e7e5 g1f3 d8f6 f1b5 f8c5 c2c3 c7c6 b5a4 b...</td>\n",
       "    </tr>\n",
       "    <tr>\n",
       "      <th>4991161</th>\n",
       "      <td>4999998</td>\n",
       "      <td>Rated Rapid game</td>\n",
       "      <td>2187</td>\n",
       "      <td>2128</td>\n",
       "      <td>Sicilian Defense: Modern Variations</td>\n",
       "      <td>2</td>\n",
       "      <td>e2e4 c7c5 g1f3 d7d6 f1c4 e7e6 e1g1 d8c7 c2c3 a...</td>\n",
       "    </tr>\n",
       "    <tr>\n",
       "      <th>4991162</th>\n",
       "      <td>4999999</td>\n",
       "      <td>Rated Rapid game</td>\n",
       "      <td>1659</td>\n",
       "      <td>1696</td>\n",
       "      <td>Queen's Gambit Accepted: Central Variation, Al...</td>\n",
       "      <td>1</td>\n",
       "      <td>d2d4 d7d5 c2c4 d5c4 e2e4 g8f6 b1c3 e7e6 a2a3 f...</td>\n",
       "    </tr>\n",
       "    <tr>\n",
       "      <th>4991163</th>\n",
       "      <td>5000000</td>\n",
       "      <td>Rated Rapid game</td>\n",
       "      <td>1734</td>\n",
       "      <td>1706</td>\n",
       "      <td>Caro-Kann Defense: Main Line</td>\n",
       "      <td>1</td>\n",
       "      <td>d2d4 c7c6 e2e4 d7d5 b1c3 d5e4 c3e4 g8f6 e4c5 c...</td>\n",
       "    </tr>\n",
       "  </tbody>\n",
       "</table>\n",
       "</div>"
      ]
     },
     "execution_count": 13,
     "metadata": {},
     "output_type": "execute_result"
    }
   ],
   "execution_count": 13
  },
  {
   "metadata": {},
   "cell_type": "markdown",
   "source": "## Filter events",
   "id": "a93c74f492b88067"
  },
  {
   "metadata": {
    "ExecuteTime": {
     "end_time": "2025-04-27T12:20:31.935274Z",
     "start_time": "2025-04-27T12:20:31.821907Z"
    }
   },
   "cell_type": "code",
   "source": "df[\"event\"].value_counts()",
   "id": "cba8d679bc5dcf23",
   "outputs": [
    {
     "data": {
      "text/plain": [
       "event\n",
       "Rated Blitz game                                                  2112717\n",
       "Rated Bullet game                                                 1673664\n",
       "Rated Rapid game                                                   679202\n",
       "Rated Classical game                                                28840\n",
       "Rated UltraBullet game                                              22866\n",
       "                                                                   ...   \n",
       "Bullet swiss https://lichess.org/swiss/xOqHMgIz                         1\n",
       "Rated Blitz tournament https://lichess.org/tournament/hdiBmgBr          1\n",
       "Blitz swiss https://lichess.org/swiss/5HMPMS5d                          1\n",
       "Rapid swiss https://lichess.org/swiss/sDVxlEAo                          1\n",
       "Rated Rapid tournament https://lichess.org/tournament/MyE7RM5x          1\n",
       "Name: count, Length: 2345, dtype: int64"
      ]
     },
     "execution_count": 14,
     "metadata": {},
     "output_type": "execute_result"
    }
   ],
   "execution_count": 14
  },
  {
   "metadata": {
    "ExecuteTime": {
     "end_time": "2025-04-27T12:20:32.362363Z",
     "start_time": "2025-04-27T12:20:31.982771Z"
    }
   },
   "cell_type": "code",
   "source": [
    "events_to_keep = df[\"event\"].value_counts().reset_index()[\"event\"].head(4)\n",
    "df_events = df[df[\"event\"].isin(events_to_keep)]\n",
    "df_events.head()"
   ],
   "id": "d53323a9cc91c711",
   "outputs": [
    {
     "data": {
      "text/plain": [
       "   game_id             event  white_elo  black_elo  \\\n",
       "0        2  Rated Blitz game       1247       1218   \n",
       "1        3  Rated Blitz game       1577       1593   \n",
       "2        4  Rated Blitz game       1043       1000   \n",
       "3        5  Rated Blitz game       2015       2028   \n",
       "4        6  Rated Blitz game       2139       2145   \n",
       "\n",
       "                                 opening  winner  \\\n",
       "0         Vienna Game: Anderssen Defense       1   \n",
       "1      Caro-Kann Defense: Masi Variation       2   \n",
       "2                      Queen's Pawn Game       1   \n",
       "3  Caro-Kann Defense: Exchange Variation       1   \n",
       "4   Caro-Kann Defense: Endgame Variation       2   \n",
       "\n",
       "                                               moves  \n",
       "0  b1c3 e7e5 e2e4 f8c5 d1h5 g8f6 h5e5 c5e7 d2d3 d...  \n",
       "1  d2d4 c7c6 e2e4 g8f6 e4e5 f6g8 g1f3 d7d5 b1c3 c...  \n",
       "2  d2d4 d7d5 c2c3 b8c6 g1f3 c8g4 h2h3 g4f3 e2f3 e...  \n",
       "3  e2e4 c7c6 d2d4 d7d5 e4d5 c6d5 f1d3 g8f6 h2h3 b...  \n",
       "4  e2e4 c7c6 d2d3 d7d5 g1f3 d5e4 d3e4 d8d1 e1d1 g...  "
      ],
      "text/html": [
       "<div>\n",
       "<style scoped>\n",
       "    .dataframe tbody tr th:only-of-type {\n",
       "        vertical-align: middle;\n",
       "    }\n",
       "\n",
       "    .dataframe tbody tr th {\n",
       "        vertical-align: top;\n",
       "    }\n",
       "\n",
       "    .dataframe thead th {\n",
       "        text-align: right;\n",
       "    }\n",
       "</style>\n",
       "<table border=\"1\" class=\"dataframe\">\n",
       "  <thead>\n",
       "    <tr style=\"text-align: right;\">\n",
       "      <th></th>\n",
       "      <th>game_id</th>\n",
       "      <th>event</th>\n",
       "      <th>white_elo</th>\n",
       "      <th>black_elo</th>\n",
       "      <th>opening</th>\n",
       "      <th>winner</th>\n",
       "      <th>moves</th>\n",
       "    </tr>\n",
       "  </thead>\n",
       "  <tbody>\n",
       "    <tr>\n",
       "      <th>0</th>\n",
       "      <td>2</td>\n",
       "      <td>Rated Blitz game</td>\n",
       "      <td>1247</td>\n",
       "      <td>1218</td>\n",
       "      <td>Vienna Game: Anderssen Defense</td>\n",
       "      <td>1</td>\n",
       "      <td>b1c3 e7e5 e2e4 f8c5 d1h5 g8f6 h5e5 c5e7 d2d3 d...</td>\n",
       "    </tr>\n",
       "    <tr>\n",
       "      <th>1</th>\n",
       "      <td>3</td>\n",
       "      <td>Rated Blitz game</td>\n",
       "      <td>1577</td>\n",
       "      <td>1593</td>\n",
       "      <td>Caro-Kann Defense: Masi Variation</td>\n",
       "      <td>2</td>\n",
       "      <td>d2d4 c7c6 e2e4 g8f6 e4e5 f6g8 g1f3 d7d5 b1c3 c...</td>\n",
       "    </tr>\n",
       "    <tr>\n",
       "      <th>2</th>\n",
       "      <td>4</td>\n",
       "      <td>Rated Blitz game</td>\n",
       "      <td>1043</td>\n",
       "      <td>1000</td>\n",
       "      <td>Queen's Pawn Game</td>\n",
       "      <td>1</td>\n",
       "      <td>d2d4 d7d5 c2c3 b8c6 g1f3 c8g4 h2h3 g4f3 e2f3 e...</td>\n",
       "    </tr>\n",
       "    <tr>\n",
       "      <th>3</th>\n",
       "      <td>5</td>\n",
       "      <td>Rated Blitz game</td>\n",
       "      <td>2015</td>\n",
       "      <td>2028</td>\n",
       "      <td>Caro-Kann Defense: Exchange Variation</td>\n",
       "      <td>1</td>\n",
       "      <td>e2e4 c7c6 d2d4 d7d5 e4d5 c6d5 f1d3 g8f6 h2h3 b...</td>\n",
       "    </tr>\n",
       "    <tr>\n",
       "      <th>4</th>\n",
       "      <td>6</td>\n",
       "      <td>Rated Blitz game</td>\n",
       "      <td>2139</td>\n",
       "      <td>2145</td>\n",
       "      <td>Caro-Kann Defense: Endgame Variation</td>\n",
       "      <td>2</td>\n",
       "      <td>e2e4 c7c6 d2d3 d7d5 g1f3 d5e4 d3e4 d8d1 e1d1 g...</td>\n",
       "    </tr>\n",
       "  </tbody>\n",
       "</table>\n",
       "</div>"
      ]
     },
     "execution_count": 15,
     "metadata": {},
     "output_type": "execute_result"
    }
   ],
   "execution_count": 15
  },
  {
   "metadata": {},
   "cell_type": "markdown",
   "source": [
    "## Filter openings\n",
    "To keep things simple, I’ve chosen a single, self-contained opening as the tree’s root - one with relatively few branching lines, unlike the Queen’s Pawn Game, which immediately spawns countless variations."
   ],
   "id": "d126c69ea26af9db"
  },
  {
   "metadata": {
    "ExecuteTime": {
     "end_time": "2025-04-27T12:20:32.556149Z",
     "start_time": "2025-04-27T12:20:32.428920Z"
    }
   },
   "cell_type": "code",
   "source": "df_events[\"opening\"].value_counts()",
   "id": "5751b5e92d5adb54",
   "outputs": [
    {
     "data": {
      "text/plain": [
       "opening\n",
       "Queen's Pawn Game                                           117144\n",
       "Caro-Kann Defense                                            83476\n",
       "Van't Kruijs Opening                                         74990\n",
       "Philidor Defense                                             74675\n",
       "Modern Defense                                               74275\n",
       "                                                             ...  \n",
       "Indian Defense: Anti-Grünfeld, Adorjan Gambit                    1\n",
       "Ruy Lopez: Marshall Attack, Main Line, Spassky Variation         1\n",
       "Queen's Pawn Game: London System, Pterodactyl Variation          1\n",
       "Bird Opening: Hobbs-Zilbermints Gambit                           1\n",
       "Sicilian Defense: Kotov Gambit                                   1\n",
       "Name: count, Length: 2836, dtype: int64"
      ]
     },
     "execution_count": 16,
     "metadata": {},
     "output_type": "execute_result"
    }
   ],
   "execution_count": 16
  },
  {
   "metadata": {
    "ExecuteTime": {
     "end_time": "2025-04-27T12:20:34.657892Z",
     "start_time": "2025-04-27T12:20:32.626580Z"
    }
   },
   "cell_type": "code",
   "source": [
    "top10_openings = (\n",
    "    df_events[\"opening\"]\n",
    "    .value_counts()\n",
    "    .nlargest(10)\n",
    "    .index\n",
    "    .tolist()\n",
    ")\n",
    "\n",
    "df_top10 = df[df['opening'].isin(top10_openings)].copy()\n",
    "\n",
    "def first_n_plies(moves: str, n: int = 10) -> str:\n",
    "    tokens = moves.split()\n",
    "    return ' '.join(tokens[:n])\n",
    "\n",
    "df_top10[\"first_5_moves\"] = df_top10['moves'].apply(lambda mv: first_n_plies(mv, n=10))\n",
    "\n",
    "variation_counts_top10 = (\n",
    "    df_top10\n",
    "    .groupby(\"opening\")[\"first_5_moves\"]\n",
    "    .nunique()\n",
    "    .reset_index(name=\"variation_count\")\n",
    "    .sort_values(\"variation_count\")\n",
    ")\n",
    "\n",
    "min_var = variation_counts_top10[\"variation_count\"].min()\n",
    "best_openings_top10 = variation_counts_top10[variation_counts_top10[\"variation_count\"] == min_var]\n",
    "\n",
    "print(\"Top 10 Opening Lines - Variation Counts:\")\n",
    "print(variation_counts_top10.to_string(index=False))\n",
    "\n",
    "print(f\"\\nOpening Line with the fewest variations ({min_var} variations):\")\n",
    "print(best_openings_top10.to_string(index=False))\n",
    "sample_opening = best_openings_top10[\"opening\"].iloc[0]"
   ],
   "id": "e11b8206fb8e7d16",
   "outputs": [
    {
     "name": "stdout",
     "output_type": "stream",
     "text": [
      "Top 10 Opening Lines - Variation Counts:\n",
      "                                      opening  variation_count\n",
      "Scandinavian Defense: Mieses-Kotroc Variation            20800\n",
      "             French Defense: Knight Variation            27822\n",
      "                             Philidor Defense            31070\n",
      " Queen's Pawn Game: Accelerated London System            35401\n",
      "                            Caro-Kann Defense            35595\n",
      "                         Scandinavian Defense            42483\n",
      "                                 Pirc Defense            47357\n",
      "                               Modern Defense            49978\n",
      "                         Van't Kruijs Opening            81148\n",
      "                            Queen's Pawn Game            99978\n",
      "\n",
      "Opening Line with the fewest variations (20800 variations):\n",
      "                                      opening  variation_count\n",
      "Scandinavian Defense: Mieses-Kotroc Variation            20800\n"
     ]
    }
   ],
   "execution_count": 17
  },
  {
   "metadata": {
    "ExecuteTime": {
     "end_time": "2025-04-27T12:20:34.809155Z",
     "start_time": "2025-04-27T12:20:34.694663Z"
    }
   },
   "cell_type": "code",
   "source": [
    "df_filtered = df_events[df_events[\"opening\"] == sample_opening]\n",
    "df_filtered.head()"
   ],
   "id": "1b31a33fc4732f62",
   "outputs": [
    {
     "data": {
      "text/plain": [
       "     game_id              event  white_elo  black_elo  \\\n",
       "46        48  Rated Bullet game       1921       1934   \n",
       "106      108  Rated Bullet game       1312       1371   \n",
       "108      110  Rated Bullet game       1928       1916   \n",
       "283      285   Rated Blitz game       1714       1705   \n",
       "402      404   Rated Blitz game       1333       1335   \n",
       "\n",
       "                                           opening  winner  \\\n",
       "46   Scandinavian Defense: Mieses-Kotroc Variation       1   \n",
       "106  Scandinavian Defense: Mieses-Kotroc Variation       2   \n",
       "108  Scandinavian Defense: Mieses-Kotroc Variation       2   \n",
       "283  Scandinavian Defense: Mieses-Kotroc Variation       2   \n",
       "402  Scandinavian Defense: Mieses-Kotroc Variation       2   \n",
       "\n",
       "                                                 moves  \n",
       "46   e2e4 d7d5 e4d5 d8d5 g1f3 d5f3 d1f3 c8g4 f3g4 g...  \n",
       "106  e2e4 d7d5 e4d5 d8d5 c2c4 d5a5 b1c3 c7c6 d2d4 a...  \n",
       "108  e2e4 d7d5 e4d5 d8d5 d2d4 c8f5 b1c3 d5a5 f2f4 c...  \n",
       "283  e2e4 d7d5 e4d5 d8d5 d2d4 d5d6 b1c3 c8f5 f1c4 b...  \n",
       "402  e2e4 d7d5 e4d5 d8d5 b1c3 d5e5 g1e2 c8g4 d2d4 e...  "
      ],
      "text/html": [
       "<div>\n",
       "<style scoped>\n",
       "    .dataframe tbody tr th:only-of-type {\n",
       "        vertical-align: middle;\n",
       "    }\n",
       "\n",
       "    .dataframe tbody tr th {\n",
       "        vertical-align: top;\n",
       "    }\n",
       "\n",
       "    .dataframe thead th {\n",
       "        text-align: right;\n",
       "    }\n",
       "</style>\n",
       "<table border=\"1\" class=\"dataframe\">\n",
       "  <thead>\n",
       "    <tr style=\"text-align: right;\">\n",
       "      <th></th>\n",
       "      <th>game_id</th>\n",
       "      <th>event</th>\n",
       "      <th>white_elo</th>\n",
       "      <th>black_elo</th>\n",
       "      <th>opening</th>\n",
       "      <th>winner</th>\n",
       "      <th>moves</th>\n",
       "    </tr>\n",
       "  </thead>\n",
       "  <tbody>\n",
       "    <tr>\n",
       "      <th>46</th>\n",
       "      <td>48</td>\n",
       "      <td>Rated Bullet game</td>\n",
       "      <td>1921</td>\n",
       "      <td>1934</td>\n",
       "      <td>Scandinavian Defense: Mieses-Kotroc Variation</td>\n",
       "      <td>1</td>\n",
       "      <td>e2e4 d7d5 e4d5 d8d5 g1f3 d5f3 d1f3 c8g4 f3g4 g...</td>\n",
       "    </tr>\n",
       "    <tr>\n",
       "      <th>106</th>\n",
       "      <td>108</td>\n",
       "      <td>Rated Bullet game</td>\n",
       "      <td>1312</td>\n",
       "      <td>1371</td>\n",
       "      <td>Scandinavian Defense: Mieses-Kotroc Variation</td>\n",
       "      <td>2</td>\n",
       "      <td>e2e4 d7d5 e4d5 d8d5 c2c4 d5a5 b1c3 c7c6 d2d4 a...</td>\n",
       "    </tr>\n",
       "    <tr>\n",
       "      <th>108</th>\n",
       "      <td>110</td>\n",
       "      <td>Rated Bullet game</td>\n",
       "      <td>1928</td>\n",
       "      <td>1916</td>\n",
       "      <td>Scandinavian Defense: Mieses-Kotroc Variation</td>\n",
       "      <td>2</td>\n",
       "      <td>e2e4 d7d5 e4d5 d8d5 d2d4 c8f5 b1c3 d5a5 f2f4 c...</td>\n",
       "    </tr>\n",
       "    <tr>\n",
       "      <th>283</th>\n",
       "      <td>285</td>\n",
       "      <td>Rated Blitz game</td>\n",
       "      <td>1714</td>\n",
       "      <td>1705</td>\n",
       "      <td>Scandinavian Defense: Mieses-Kotroc Variation</td>\n",
       "      <td>2</td>\n",
       "      <td>e2e4 d7d5 e4d5 d8d5 d2d4 d5d6 b1c3 c8f5 f1c4 b...</td>\n",
       "    </tr>\n",
       "    <tr>\n",
       "      <th>402</th>\n",
       "      <td>404</td>\n",
       "      <td>Rated Blitz game</td>\n",
       "      <td>1333</td>\n",
       "      <td>1335</td>\n",
       "      <td>Scandinavian Defense: Mieses-Kotroc Variation</td>\n",
       "      <td>2</td>\n",
       "      <td>e2e4 d7d5 e4d5 d8d5 b1c3 d5e5 g1e2 c8g4 d2d4 e...</td>\n",
       "    </tr>\n",
       "  </tbody>\n",
       "</table>\n",
       "</div>"
      ]
     },
     "execution_count": 18,
     "metadata": {},
     "output_type": "execute_result"
    }
   ],
   "execution_count": 18
  },
  {
   "metadata": {
    "ExecuteTime": {
     "end_time": "2025-04-27T12:20:34.881664Z",
     "start_time": "2025-04-27T12:20:34.878615Z"
    }
   },
   "cell_type": "code",
   "source": [
    "print(f\"Dataset initially contained {len(df)} entries.\")\n",
    "print(f\"After filtering, {len(df_filtered)} entries remain.\")"
   ],
   "id": "6c688ffb25c8691e",
   "outputs": [
    {
     "name": "stdout",
     "output_type": "stream",
     "text": [
      "Dataset initially contained 4991164 entries.\n",
      "After filtering, 61296 entries remain.\n"
     ]
    }
   ],
   "execution_count": 19
  },
  {
   "metadata": {},
   "cell_type": "markdown",
   "source": [
    "## Remove Duplicates\n",
    "Keep only the **moves** and **winner** columns from the filtered DataFrame, then drop any rows with identical moves to ensure each unique move sequence appears only once.\n"
   ],
   "id": "5638fe3192d71ffc"
  },
  {
   "metadata": {
    "ExecuteTime": {
     "end_time": "2025-04-27T12:20:34.996716Z",
     "start_time": "2025-04-27T12:20:34.934492Z"
    }
   },
   "cell_type": "code",
   "source": [
    "df_moves = (\n",
    "    df_filtered[['moves', 'winner']]\n",
    "    .drop_duplicates()\n",
    "    .reset_index(drop=True)\n",
    ")\n",
    "\n",
    "print(f\"DataFrame now contains {len(df_moves)} unique move sequences.\")"
   ],
   "id": "f43cbb6e1477a7b9",
   "outputs": [
    {
     "name": "stdout",
     "output_type": "stream",
     "text": [
      "DataFrame now contains 60856 unique move sequences.\n"
     ]
    }
   ],
   "execution_count": 20
  },
  {
   "metadata": {
    "ExecuteTime": {
     "end_time": "2025-04-27T12:20:35.021818Z",
     "start_time": "2025-04-27T12:20:35.016760Z"
    }
   },
   "cell_type": "code",
   "source": "df_moves.head()",
   "id": "7e4156c99a2ed4ea",
   "outputs": [
    {
     "data": {
      "text/plain": [
       "                                               moves  winner\n",
       "0  e2e4 d7d5 e4d5 d8d5 g1f3 d5f3 d1f3 c8g4 f3g4 g...       1\n",
       "1  e2e4 d7d5 e4d5 d8d5 c2c4 d5a5 b1c3 c7c6 d2d4 a...       2\n",
       "2  e2e4 d7d5 e4d5 d8d5 d2d4 c8f5 b1c3 d5a5 f2f4 c...       2\n",
       "3  e2e4 d7d5 e4d5 d8d5 d2d4 d5d6 b1c3 c8f5 f1c4 b...       2\n",
       "4  e2e4 d7d5 e4d5 d8d5 b1c3 d5e5 g1e2 c8g4 d2d4 e...       2"
      ],
      "text/html": [
       "<div>\n",
       "<style scoped>\n",
       "    .dataframe tbody tr th:only-of-type {\n",
       "        vertical-align: middle;\n",
       "    }\n",
       "\n",
       "    .dataframe tbody tr th {\n",
       "        vertical-align: top;\n",
       "    }\n",
       "\n",
       "    .dataframe thead th {\n",
       "        text-align: right;\n",
       "    }\n",
       "</style>\n",
       "<table border=\"1\" class=\"dataframe\">\n",
       "  <thead>\n",
       "    <tr style=\"text-align: right;\">\n",
       "      <th></th>\n",
       "      <th>moves</th>\n",
       "      <th>winner</th>\n",
       "    </tr>\n",
       "  </thead>\n",
       "  <tbody>\n",
       "    <tr>\n",
       "      <th>0</th>\n",
       "      <td>e2e4 d7d5 e4d5 d8d5 g1f3 d5f3 d1f3 c8g4 f3g4 g...</td>\n",
       "      <td>1</td>\n",
       "    </tr>\n",
       "    <tr>\n",
       "      <th>1</th>\n",
       "      <td>e2e4 d7d5 e4d5 d8d5 c2c4 d5a5 b1c3 c7c6 d2d4 a...</td>\n",
       "      <td>2</td>\n",
       "    </tr>\n",
       "    <tr>\n",
       "      <th>2</th>\n",
       "      <td>e2e4 d7d5 e4d5 d8d5 d2d4 c8f5 b1c3 d5a5 f2f4 c...</td>\n",
       "      <td>2</td>\n",
       "    </tr>\n",
       "    <tr>\n",
       "      <th>3</th>\n",
       "      <td>e2e4 d7d5 e4d5 d8d5 d2d4 d5d6 b1c3 c8f5 f1c4 b...</td>\n",
       "      <td>2</td>\n",
       "    </tr>\n",
       "    <tr>\n",
       "      <th>4</th>\n",
       "      <td>e2e4 d7d5 e4d5 d8d5 b1c3 d5e5 g1e2 c8g4 d2d4 e...</td>\n",
       "      <td>2</td>\n",
       "    </tr>\n",
       "  </tbody>\n",
       "</table>\n",
       "</div>"
      ]
     },
     "execution_count": 21,
     "metadata": {},
     "output_type": "execute_result"
    }
   ],
   "execution_count": 21
  },
  {
   "metadata": {
    "ExecuteTime": {
     "end_time": "2025-04-27T12:20:35.112030Z",
     "start_time": "2025-04-27T12:20:35.049943Z"
    }
   },
   "cell_type": "code",
   "source": [
    "df_moves.to_parquet(\"data/moves_2025_01.parquet\")\n",
    "print(\"✅ Saved moves data to 'data/moves_2025_01.parquet'\")"
   ],
   "id": "ffe84668cc76b7ce",
   "outputs": [
    {
     "name": "stdout",
     "output_type": "stream",
     "text": [
      "✅ Saved moves data to 'data/moves_2025_01.parquet'\n"
     ]
    }
   ],
   "execution_count": 22
  }
 ],
 "metadata": {
  "kernelspec": {
   "display_name": "Python 3",
   "language": "python",
   "name": "python3"
  },
  "language_info": {
   "codemirror_mode": {
    "name": "ipython",
    "version": 2
   },
   "file_extension": ".py",
   "mimetype": "text/x-python",
   "name": "python",
   "nbconvert_exporter": "python",
   "pygments_lexer": "ipython2",
   "version": "2.7.6"
  }
 },
 "nbformat": 4,
 "nbformat_minor": 5
}
