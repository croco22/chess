{
 "cells": [
  {
   "cell_type": "code",
   "id": "initial_id",
   "metadata": {
    "collapsed": true,
    "ExecuteTime": {
     "end_time": "2025-05-17T18:44:23.224339Z",
     "start_time": "2025-05-17T18:44:17.288410Z"
    }
   },
   "source": [
    "import pandas as pd\n",
    "\n",
    "files = {\n",
    "    \"data_df\": \"data/data_2025_01.parquet\",\n",
    "    \"positions_df (filtered)\": \"data/positions_2025_01.parquet\",\n",
    "    \"score_df\": \"data/score_dataset.parquet\",\n",
    "    \"stats_df (aggregated)\": \"data/stats_dataset.parquet\"\n",
    "}\n",
    "\n",
    "for name, path in files.items():\n",
    "    df = pd.read_parquet(path)\n",
    "    print(f\"{name}: {len(df):,} rows\")"
   ],
   "outputs": [
    {
     "name": "stdout",
     "output_type": "stream",
     "text": [
      "data_df: 9,982,301 rows\n",
      "positions_df (filtered): 1,001,891 rows\n",
      "score_df: 23,282 rows\n",
      "stats_df (aggregated): 126 rows\n"
     ]
    }
   ],
   "execution_count": 5
  }
 ],
 "metadata": {
  "kernelspec": {
   "display_name": "Python 3",
   "language": "python",
   "name": "python3"
  },
  "language_info": {
   "codemirror_mode": {
    "name": "ipython",
    "version": 2
   },
   "file_extension": ".py",
   "mimetype": "text/x-python",
   "name": "python",
   "nbconvert_exporter": "python",
   "pygments_lexer": "ipython2",
   "version": "2.7.6"
  }
 },
 "nbformat": 4,
 "nbformat_minor": 5
}
