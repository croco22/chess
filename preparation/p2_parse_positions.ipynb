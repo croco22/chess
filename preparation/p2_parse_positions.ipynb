{
 "cells": [
  {
   "metadata": {
    "ExecuteTime": {
     "end_time": "2025-05-09T11:01:59.445577Z",
     "start_time": "2025-05-09T11:01:59.442427Z"
    }
   },
   "cell_type": "code",
   "source": [
    "import chess\n",
    "import pandas as pd\n",
    "from tqdm import tqdm"
   ],
   "id": "7cbfa5b1a153d5c2",
   "outputs": [],
   "execution_count": 25
  },
  {
   "cell_type": "code",
   "id": "initial_id",
   "metadata": {
    "collapsed": true,
    "ExecuteTime": {
     "end_time": "2025-05-09T11:02:02.673914Z",
     "start_time": "2025-05-09T11:01:59.462302Z"
    }
   },
   "source": [
    "df = pd.read_parquet('../data/data_2025_01.parquet')\n",
    "df.tail()"
   ],
   "outputs": [
    {
     "data": {
      "text/plain": [
       "         game_id             event  white_elo  black_elo  \\\n",
       "4991159  4999996  Rated Rapid game       1746       1736   \n",
       "4991160  4999997  Rated Rapid game       1498       1476   \n",
       "4991161  4999998  Rated Rapid game       2187       2128   \n",
       "4991162  4999999  Rated Rapid game       1659       1696   \n",
       "4991163  5000000  Rated Rapid game       1734       1706   \n",
       "\n",
       "                                                   opening  winner  \\\n",
       "4991159                                  Caro-Kann Defense       2   \n",
       "4991160                King's Pawn Game: McConnell Defense       2   \n",
       "4991161                Sicilian Defense: Modern Variations       2   \n",
       "4991162  Queen's Gambit Accepted: Central Variation, Al...       1   \n",
       "4991163                       Caro-Kann Defense: Main Line       1   \n",
       "\n",
       "                                                     moves  \n",
       "4991159  e2e4 c7c6 g1f3 d7d5 e4d5 c6d5 d2d4 c8g4 b1c3 g...  \n",
       "4991160  e2e4 e7e5 g1f3 d8f6 f1b5 f8c5 c2c3 c7c6 b5a4 b...  \n",
       "4991161  e2e4 c7c5 g1f3 d7d6 f1c4 e7e6 e1g1 d8c7 c2c3 a...  \n",
       "4991162  d2d4 d7d5 c2c4 d5c4 e2e4 g8f6 b1c3 e7e6 a2a3 f...  \n",
       "4991163  d2d4 c7c6 e2e4 d7d5 b1c3 d5e4 c3e4 g8f6 e4c5 c...  "
      ],
      "text/html": [
       "<div>\n",
       "<style scoped>\n",
       "    .dataframe tbody tr th:only-of-type {\n",
       "        vertical-align: middle;\n",
       "    }\n",
       "\n",
       "    .dataframe tbody tr th {\n",
       "        vertical-align: top;\n",
       "    }\n",
       "\n",
       "    .dataframe thead th {\n",
       "        text-align: right;\n",
       "    }\n",
       "</style>\n",
       "<table border=\"1\" class=\"dataframe\">\n",
       "  <thead>\n",
       "    <tr style=\"text-align: right;\">\n",
       "      <th></th>\n",
       "      <th>game_id</th>\n",
       "      <th>event</th>\n",
       "      <th>white_elo</th>\n",
       "      <th>black_elo</th>\n",
       "      <th>opening</th>\n",
       "      <th>winner</th>\n",
       "      <th>moves</th>\n",
       "    </tr>\n",
       "  </thead>\n",
       "  <tbody>\n",
       "    <tr>\n",
       "      <th>4991159</th>\n",
       "      <td>4999996</td>\n",
       "      <td>Rated Rapid game</td>\n",
       "      <td>1746</td>\n",
       "      <td>1736</td>\n",
       "      <td>Caro-Kann Defense</td>\n",
       "      <td>2</td>\n",
       "      <td>e2e4 c7c6 g1f3 d7d5 e4d5 c6d5 d2d4 c8g4 b1c3 g...</td>\n",
       "    </tr>\n",
       "    <tr>\n",
       "      <th>4991160</th>\n",
       "      <td>4999997</td>\n",
       "      <td>Rated Rapid game</td>\n",
       "      <td>1498</td>\n",
       "      <td>1476</td>\n",
       "      <td>King's Pawn Game: McConnell Defense</td>\n",
       "      <td>2</td>\n",
       "      <td>e2e4 e7e5 g1f3 d8f6 f1b5 f8c5 c2c3 c7c6 b5a4 b...</td>\n",
       "    </tr>\n",
       "    <tr>\n",
       "      <th>4991161</th>\n",
       "      <td>4999998</td>\n",
       "      <td>Rated Rapid game</td>\n",
       "      <td>2187</td>\n",
       "      <td>2128</td>\n",
       "      <td>Sicilian Defense: Modern Variations</td>\n",
       "      <td>2</td>\n",
       "      <td>e2e4 c7c5 g1f3 d7d6 f1c4 e7e6 e1g1 d8c7 c2c3 a...</td>\n",
       "    </tr>\n",
       "    <tr>\n",
       "      <th>4991162</th>\n",
       "      <td>4999999</td>\n",
       "      <td>Rated Rapid game</td>\n",
       "      <td>1659</td>\n",
       "      <td>1696</td>\n",
       "      <td>Queen's Gambit Accepted: Central Variation, Al...</td>\n",
       "      <td>1</td>\n",
       "      <td>d2d4 d7d5 c2c4 d5c4 e2e4 g8f6 b1c3 e7e6 a2a3 f...</td>\n",
       "    </tr>\n",
       "    <tr>\n",
       "      <th>4991163</th>\n",
       "      <td>5000000</td>\n",
       "      <td>Rated Rapid game</td>\n",
       "      <td>1734</td>\n",
       "      <td>1706</td>\n",
       "      <td>Caro-Kann Defense: Main Line</td>\n",
       "      <td>1</td>\n",
       "      <td>d2d4 c7c6 e2e4 d7d5 b1c3 d5e4 c3e4 g8f6 e4c5 c...</td>\n",
       "    </tr>\n",
       "  </tbody>\n",
       "</table>\n",
       "</div>"
      ]
     },
     "execution_count": 26,
     "metadata": {},
     "output_type": "execute_result"
    }
   ],
   "execution_count": 26
  },
  {
   "metadata": {
    "ExecuteTime": {
     "end_time": "2025-05-09T11:02:02.836473Z",
     "start_time": "2025-05-09T11:02:02.711504Z"
    }
   },
   "cell_type": "code",
   "source": "df[\"event\"].value_counts()",
   "id": "f2f4d05589e28321",
   "outputs": [
    {
     "data": {
      "text/plain": [
       "event\n",
       "Rated Blitz game                                                  2112717\n",
       "Rated Bullet game                                                 1673664\n",
       "Rated Rapid game                                                   679202\n",
       "Rated Classical game                                                28840\n",
       "Rated UltraBullet game                                              22866\n",
       "                                                                   ...   \n",
       "Bullet swiss https://lichess.org/swiss/xOqHMgIz                         1\n",
       "Rated Blitz tournament https://lichess.org/tournament/hdiBmgBr          1\n",
       "Blitz swiss https://lichess.org/swiss/5HMPMS5d                          1\n",
       "Rapid swiss https://lichess.org/swiss/sDVxlEAo                          1\n",
       "Rated Rapid tournament https://lichess.org/tournament/MyE7RM5x          1\n",
       "Name: count, Length: 2345, dtype: int64"
      ]
     },
     "execution_count": 27,
     "metadata": {},
     "output_type": "execute_result"
    }
   ],
   "execution_count": 27
  },
  {
   "metadata": {
    "ExecuteTime": {
     "end_time": "2025-05-09T11:02:03.238741Z",
     "start_time": "2025-05-09T11:02:02.881805Z"
    }
   },
   "cell_type": "code",
   "source": [
    "events_to_keep = [\"Rated Blitz game\", \"Rated Rapid game\", \"Rated Classical game\"]\n",
    "df = df[df[\"event\"].isin(events_to_keep)]\n",
    "\n",
    "df = df[df[\"opening\"] == \"Scandinavian Defense: Mieses-Kotroc Variation\"]\n",
    "df.head()"
   ],
   "id": "3b7e5f5fd4504e0c",
   "outputs": [
    {
     "data": {
      "text/plain": [
       "     game_id             event  white_elo  black_elo  \\\n",
       "283      285  Rated Blitz game       1714       1705   \n",
       "402      404  Rated Blitz game       1333       1335   \n",
       "569      571  Rated Blitz game       1231       1211   \n",
       "601      603  Rated Blitz game       1244       1153   \n",
       "898      900  Rated Blitz game       1452       1470   \n",
       "\n",
       "                                           opening  winner  \\\n",
       "283  Scandinavian Defense: Mieses-Kotroc Variation       2   \n",
       "402  Scandinavian Defense: Mieses-Kotroc Variation       2   \n",
       "569  Scandinavian Defense: Mieses-Kotroc Variation       1   \n",
       "601  Scandinavian Defense: Mieses-Kotroc Variation       0   \n",
       "898  Scandinavian Defense: Mieses-Kotroc Variation       1   \n",
       "\n",
       "                                                 moves  \n",
       "283  e2e4 d7d5 e4d5 d8d5 d2d4 d5d6 b1c3 c8f5 f1c4 b...  \n",
       "402  e2e4 d7d5 e4d5 d8d5 b1c3 d5e5 g1e2 c8g4 d2d4 e...  \n",
       "569  e2e4 d7d5 e4d5 d8d5 b1c3 d5e6 f1e2 g8f6 g1f3 g...  \n",
       "601  e2e4 d7d5 e4d5 d8d5 b1c3 d5e6 d1e2 e6e2 f1e2 b...  \n",
       "898  e2e4 d7d5 e4d5 d8d5 g1f3 c8g4 f1e2 g8f6 c2c4 d...  "
      ],
      "text/html": [
       "<div>\n",
       "<style scoped>\n",
       "    .dataframe tbody tr th:only-of-type {\n",
       "        vertical-align: middle;\n",
       "    }\n",
       "\n",
       "    .dataframe tbody tr th {\n",
       "        vertical-align: top;\n",
       "    }\n",
       "\n",
       "    .dataframe thead th {\n",
       "        text-align: right;\n",
       "    }\n",
       "</style>\n",
       "<table border=\"1\" class=\"dataframe\">\n",
       "  <thead>\n",
       "    <tr style=\"text-align: right;\">\n",
       "      <th></th>\n",
       "      <th>game_id</th>\n",
       "      <th>event</th>\n",
       "      <th>white_elo</th>\n",
       "      <th>black_elo</th>\n",
       "      <th>opening</th>\n",
       "      <th>winner</th>\n",
       "      <th>moves</th>\n",
       "    </tr>\n",
       "  </thead>\n",
       "  <tbody>\n",
       "    <tr>\n",
       "      <th>283</th>\n",
       "      <td>285</td>\n",
       "      <td>Rated Blitz game</td>\n",
       "      <td>1714</td>\n",
       "      <td>1705</td>\n",
       "      <td>Scandinavian Defense: Mieses-Kotroc Variation</td>\n",
       "      <td>2</td>\n",
       "      <td>e2e4 d7d5 e4d5 d8d5 d2d4 d5d6 b1c3 c8f5 f1c4 b...</td>\n",
       "    </tr>\n",
       "    <tr>\n",
       "      <th>402</th>\n",
       "      <td>404</td>\n",
       "      <td>Rated Blitz game</td>\n",
       "      <td>1333</td>\n",
       "      <td>1335</td>\n",
       "      <td>Scandinavian Defense: Mieses-Kotroc Variation</td>\n",
       "      <td>2</td>\n",
       "      <td>e2e4 d7d5 e4d5 d8d5 b1c3 d5e5 g1e2 c8g4 d2d4 e...</td>\n",
       "    </tr>\n",
       "    <tr>\n",
       "      <th>569</th>\n",
       "      <td>571</td>\n",
       "      <td>Rated Blitz game</td>\n",
       "      <td>1231</td>\n",
       "      <td>1211</td>\n",
       "      <td>Scandinavian Defense: Mieses-Kotroc Variation</td>\n",
       "      <td>1</td>\n",
       "      <td>e2e4 d7d5 e4d5 d8d5 b1c3 d5e6 f1e2 g8f6 g1f3 g...</td>\n",
       "    </tr>\n",
       "    <tr>\n",
       "      <th>601</th>\n",
       "      <td>603</td>\n",
       "      <td>Rated Blitz game</td>\n",
       "      <td>1244</td>\n",
       "      <td>1153</td>\n",
       "      <td>Scandinavian Defense: Mieses-Kotroc Variation</td>\n",
       "      <td>0</td>\n",
       "      <td>e2e4 d7d5 e4d5 d8d5 b1c3 d5e6 d1e2 e6e2 f1e2 b...</td>\n",
       "    </tr>\n",
       "    <tr>\n",
       "      <th>898</th>\n",
       "      <td>900</td>\n",
       "      <td>Rated Blitz game</td>\n",
       "      <td>1452</td>\n",
       "      <td>1470</td>\n",
       "      <td>Scandinavian Defense: Mieses-Kotroc Variation</td>\n",
       "      <td>1</td>\n",
       "      <td>e2e4 d7d5 e4d5 d8d5 g1f3 c8g4 f1e2 g8f6 c2c4 d...</td>\n",
       "    </tr>\n",
       "  </tbody>\n",
       "</table>\n",
       "</div>"
      ]
     },
     "execution_count": 28,
     "metadata": {},
     "output_type": "execute_result"
    }
   ],
   "execution_count": 28
  },
  {
   "metadata": {
    "ExecuteTime": {
     "end_time": "2025-05-09T11:02:24.338112Z",
     "start_time": "2025-05-09T11:02:03.314822Z"
    }
   },
   "cell_type": "code",
   "source": [
    "records = []\n",
    "\n",
    "for _, game in tqdm(df.iterrows(), total=len(df), desc=\"Processing games\"):\n",
    "    board = chess.Board()\n",
    "    moves_arr = game[\"moves\"].split()\n",
    "    winner_flag = game[\"winner\"]\n",
    "\n",
    "    for idx, mv in enumerate(moves_arr):\n",
    "        if idx >= 15 or idx + 1 >= len(moves_arr):\n",
    "            break\n",
    "\n",
    "        board.push_uci(mv)\n",
    "        next_move = moves_arr[idx + 1]\n",
    "\n",
    "        if (board.turn == chess.WHITE and winner_flag == 1) or (board.turn == chess.BLACK and winner_flag == 2):\n",
    "            win_pov = True\n",
    "        else:\n",
    "            win_pov = False\n",
    "\n",
    "        played_by = game[\"white_elo\"] if board.turn else game[\"black_elo\"]\n",
    "\n",
    "        records.append({\n",
    "            \"fen\": board.fen(),\n",
    "            \"next_move\": next_move,\n",
    "            \"played_by_elo\": played_by,\n",
    "            \"win_pov\": win_pov\n",
    "        })\n",
    "\n",
    "positions_df = pd.DataFrame.from_records(records)\n",
    "positions_df.head()"
   ],
   "id": "25429f092e6840f3",
   "outputs": [
    {
     "name": "stderr",
     "output_type": "stream",
     "text": [
      "Processing games: 100%|██████████| 35816/35816 [00:20<00:00, 1736.14it/s]\n"
     ]
    },
    {
     "data": {
      "text/plain": [
       "                                                 fen next_move  played_by_elo  \\\n",
       "0  rnbqkbnr/pppppppp/8/8/4P3/8/PPPP1PPP/RNBQKBNR ...      d7d5           1705   \n",
       "1  rnbqkbnr/ppp1pppp/8/3p4/4P3/8/PPPP1PPP/RNBQKBN...      e4d5           1714   \n",
       "2  rnbqkbnr/ppp1pppp/8/3P4/8/8/PPPP1PPP/RNBQKBNR ...      d8d5           1705   \n",
       "3  rnb1kbnr/ppp1pppp/8/3q4/8/8/PPPP1PPP/RNBQKBNR ...      d2d4           1714   \n",
       "4  rnb1kbnr/ppp1pppp/8/3q4/3P4/8/PPP2PPP/RNBQKBNR...      d5d6           1705   \n",
       "\n",
       "   win_pov  \n",
       "0     True  \n",
       "1    False  \n",
       "2     True  \n",
       "3    False  \n",
       "4     True  "
      ],
      "text/html": [
       "<div>\n",
       "<style scoped>\n",
       "    .dataframe tbody tr th:only-of-type {\n",
       "        vertical-align: middle;\n",
       "    }\n",
       "\n",
       "    .dataframe tbody tr th {\n",
       "        vertical-align: top;\n",
       "    }\n",
       "\n",
       "    .dataframe thead th {\n",
       "        text-align: right;\n",
       "    }\n",
       "</style>\n",
       "<table border=\"1\" class=\"dataframe\">\n",
       "  <thead>\n",
       "    <tr style=\"text-align: right;\">\n",
       "      <th></th>\n",
       "      <th>fen</th>\n",
       "      <th>next_move</th>\n",
       "      <th>played_by_elo</th>\n",
       "      <th>win_pov</th>\n",
       "    </tr>\n",
       "  </thead>\n",
       "  <tbody>\n",
       "    <tr>\n",
       "      <th>0</th>\n",
       "      <td>rnbqkbnr/pppppppp/8/8/4P3/8/PPPP1PPP/RNBQKBNR ...</td>\n",
       "      <td>d7d5</td>\n",
       "      <td>1705</td>\n",
       "      <td>True</td>\n",
       "    </tr>\n",
       "    <tr>\n",
       "      <th>1</th>\n",
       "      <td>rnbqkbnr/ppp1pppp/8/3p4/4P3/8/PPPP1PPP/RNBQKBN...</td>\n",
       "      <td>e4d5</td>\n",
       "      <td>1714</td>\n",
       "      <td>False</td>\n",
       "    </tr>\n",
       "    <tr>\n",
       "      <th>2</th>\n",
       "      <td>rnbqkbnr/ppp1pppp/8/3P4/8/8/PPPP1PPP/RNBQKBNR ...</td>\n",
       "      <td>d8d5</td>\n",
       "      <td>1705</td>\n",
       "      <td>True</td>\n",
       "    </tr>\n",
       "    <tr>\n",
       "      <th>3</th>\n",
       "      <td>rnb1kbnr/ppp1pppp/8/3q4/8/8/PPPP1PPP/RNBQKBNR ...</td>\n",
       "      <td>d2d4</td>\n",
       "      <td>1714</td>\n",
       "      <td>False</td>\n",
       "    </tr>\n",
       "    <tr>\n",
       "      <th>4</th>\n",
       "      <td>rnb1kbnr/ppp1pppp/8/3q4/3P4/8/PPP2PPP/RNBQKBNR...</td>\n",
       "      <td>d5d6</td>\n",
       "      <td>1705</td>\n",
       "      <td>True</td>\n",
       "    </tr>\n",
       "  </tbody>\n",
       "</table>\n",
       "</div>"
      ]
     },
     "execution_count": 29,
     "metadata": {},
     "output_type": "execute_result"
    }
   ],
   "execution_count": 29
  },
  {
   "metadata": {
    "ExecuteTime": {
     "end_time": "2025-05-09T11:02:24.630836Z",
     "start_time": "2025-05-09T11:02:24.391227Z"
    }
   },
   "cell_type": "code",
   "source": [
    "positions_df[\"pair_freq\"] = (\n",
    "    positions_df\n",
    "    .groupby([\"fen\", \"next_move\"])[\"fen\"]\n",
    "    .transform(\"size\")\n",
    ")\n",
    "\n",
    "positions_df = positions_df[positions_df[\"pair_freq\"] >= 100]\n",
    "\n",
    "print(f\"In {len(df)} games there are {len(positions_df)} unique position-move pairs that were played more than 100 times.\")"
   ],
   "id": "4a84390fe24a1840",
   "outputs": [
    {
     "name": "stdout",
     "output_type": "stream",
     "text": [
      "In 35816 games there are 242512 unique position-move pairs that were played more than 100 times.\n"
     ]
    }
   ],
   "execution_count": 30
  },
  {
   "metadata": {
    "ExecuteTime": {
     "end_time": "2025-05-09T11:02:24.667748Z",
     "start_time": "2025-05-09T11:02:24.663084Z"
    }
   },
   "cell_type": "code",
   "source": "positions_df.head()",
   "id": "591e99368a7f7fd0",
   "outputs": [
    {
     "data": {
      "text/plain": [
       "                                                  fen next_move  \\\n",
       "0   rnbqkbnr/pppppppp/8/8/4P3/8/PPPP1PPP/RNBQKBNR ...      d7d5   \n",
       "1   rnbqkbnr/ppp1pppp/8/3p4/4P3/8/PPPP1PPP/RNBQKBN...      e4d5   \n",
       "2   rnbqkbnr/ppp1pppp/8/3P4/8/8/PPPP1PPP/RNBQKBNR ...      d8d5   \n",
       "3   rnb1kbnr/ppp1pppp/8/3q4/8/8/PPPP1PPP/RNBQKBNR ...      d2d4   \n",
       "15  rnbqkbnr/pppppppp/8/8/4P3/8/PPPP1PPP/RNBQKBNR ...      d7d5   \n",
       "\n",
       "    played_by_elo  win_pov  pair_freq  \n",
       "0            1705     True      35816  \n",
       "1            1714    False      35816  \n",
       "2            1705     True      35816  \n",
       "3            1714    False       4856  \n",
       "15           1335     True      35816  "
      ],
      "text/html": [
       "<div>\n",
       "<style scoped>\n",
       "    .dataframe tbody tr th:only-of-type {\n",
       "        vertical-align: middle;\n",
       "    }\n",
       "\n",
       "    .dataframe tbody tr th {\n",
       "        vertical-align: top;\n",
       "    }\n",
       "\n",
       "    .dataframe thead th {\n",
       "        text-align: right;\n",
       "    }\n",
       "</style>\n",
       "<table border=\"1\" class=\"dataframe\">\n",
       "  <thead>\n",
       "    <tr style=\"text-align: right;\">\n",
       "      <th></th>\n",
       "      <th>fen</th>\n",
       "      <th>next_move</th>\n",
       "      <th>played_by_elo</th>\n",
       "      <th>win_pov</th>\n",
       "      <th>pair_freq</th>\n",
       "    </tr>\n",
       "  </thead>\n",
       "  <tbody>\n",
       "    <tr>\n",
       "      <th>0</th>\n",
       "      <td>rnbqkbnr/pppppppp/8/8/4P3/8/PPPP1PPP/RNBQKBNR ...</td>\n",
       "      <td>d7d5</td>\n",
       "      <td>1705</td>\n",
       "      <td>True</td>\n",
       "      <td>35816</td>\n",
       "    </tr>\n",
       "    <tr>\n",
       "      <th>1</th>\n",
       "      <td>rnbqkbnr/ppp1pppp/8/3p4/4P3/8/PPPP1PPP/RNBQKBN...</td>\n",
       "      <td>e4d5</td>\n",
       "      <td>1714</td>\n",
       "      <td>False</td>\n",
       "      <td>35816</td>\n",
       "    </tr>\n",
       "    <tr>\n",
       "      <th>2</th>\n",
       "      <td>rnbqkbnr/ppp1pppp/8/3P4/8/8/PPPP1PPP/RNBQKBNR ...</td>\n",
       "      <td>d8d5</td>\n",
       "      <td>1705</td>\n",
       "      <td>True</td>\n",
       "      <td>35816</td>\n",
       "    </tr>\n",
       "    <tr>\n",
       "      <th>3</th>\n",
       "      <td>rnb1kbnr/ppp1pppp/8/3q4/8/8/PPPP1PPP/RNBQKBNR ...</td>\n",
       "      <td>d2d4</td>\n",
       "      <td>1714</td>\n",
       "      <td>False</td>\n",
       "      <td>4856</td>\n",
       "    </tr>\n",
       "    <tr>\n",
       "      <th>15</th>\n",
       "      <td>rnbqkbnr/pppppppp/8/8/4P3/8/PPPP1PPP/RNBQKBNR ...</td>\n",
       "      <td>d7d5</td>\n",
       "      <td>1335</td>\n",
       "      <td>True</td>\n",
       "      <td>35816</td>\n",
       "    </tr>\n",
       "  </tbody>\n",
       "</table>\n",
       "</div>"
      ]
     },
     "execution_count": 31,
     "metadata": {},
     "output_type": "execute_result"
    }
   ],
   "execution_count": 31
  },
  {
   "metadata": {
    "ExecuteTime": {
     "end_time": "2025-05-09T11:02:24.841370Z",
     "start_time": "2025-05-09T11:02:24.722131Z"
    }
   },
   "cell_type": "code",
   "source": [
    "positions_df.to_parquet(\"../data/positions_2025_01.parquet\")\n",
    "print(\"✅ Saved position data to 'data/positions_2025_01.parquet'\")"
   ],
   "id": "70d977f75fe3c8b3",
   "outputs": [
    {
     "name": "stdout",
     "output_type": "stream",
     "text": [
      "✅ Saved position data to 'data/positions_2025_01.parquet'\n"
     ]
    }
   ],
   "execution_count": 32
  }
 ],
 "metadata": {
  "kernelspec": {
   "display_name": "Python 3",
   "language": "python",
   "name": "python3"
  },
  "language_info": {
   "codemirror_mode": {
    "name": "ipython",
    "version": 2
   },
   "file_extension": ".py",
   "mimetype": "text/x-python",
   "name": "python",
   "nbconvert_exporter": "python",
   "pygments_lexer": "ipython2",
   "version": "2.7.6"
  }
 },
 "nbformat": 4,
 "nbformat_minor": 5
}
