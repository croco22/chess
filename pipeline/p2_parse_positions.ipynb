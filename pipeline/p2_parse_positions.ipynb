{
 "cells": [
  {
   "metadata": {
    "ExecuteTime": {
     "end_time": "2025-05-17T08:06:26.015379Z",
     "start_time": "2025-05-17T08:06:25.968124Z"
    }
   },
   "cell_type": "code",
   "source": [
    "import chess\n",
    "import matplotlib.pyplot as plt\n",
    "import pandas as pd\n",
    "from tqdm import tqdm"
   ],
   "id": "7cbfa5b1a153d5c2",
   "outputs": [],
   "execution_count": 1
  },
  {
   "cell_type": "code",
   "id": "initial_id",
   "metadata": {
    "collapsed": true,
    "ExecuteTime": {
     "end_time": "2025-05-17T08:06:32.064400Z",
     "start_time": "2025-05-17T08:06:26.279947Z"
    }
   },
   "source": [
    "df = pd.read_parquet('../data/data_2025_01.parquet')\n",
    "df.tail()"
   ],
   "outputs": [
    {
     "data": {
      "text/plain": [
       "          game_id             event  white_elo  black_elo  \\\n",
       "9982296   9999996  Rated Blitz game       1586       1593   \n",
       "9982297   9999997  Rated Blitz game       2094       2106   \n",
       "9982298   9999998  Rated Blitz game       1449       1532   \n",
       "9982299   9999999  Rated Blitz game       2069       2063   \n",
       "9982300  10000000  Rated Blitz game       1292       1283   \n",
       "\n",
       "                                                   opening  winner  \\\n",
       "9982296  Sicilian Defense: Delayed Alapin Variation, wi...       1   \n",
       "9982297                          Ruy Lopez: Berlin Defense       2   \n",
       "9982298                    Scandinavian Defense: Main Line       1   \n",
       "9982299                Sicilian Defense: Kramnik Variation       1   \n",
       "9982300              King's Pawn Game: Leonardis Variation       2   \n",
       "\n",
       "                                                     moves  \n",
       "9982296  e2e4 c7c5 g1f3 e7e6 c2c3 d7d5 e4d5 e6d5 d2d4 c...  \n",
       "9982297  e2e4 b8c6 g1f3 e7e5 f1b5 g8f6 b5c6 b7c6 f3e5 f...  \n",
       "9982298  e2e4 d7d5 e4d5 d8d5 b1c3 d5a5 d2d3 c7c6 c1d2 g...  \n",
       "9982299  e2e4 c7c5 g1f3 e7e6 c2c4 b8c6 d2d3 d7d6 b1c3 g...  \n",
       "9982300  e2e4 e7e5 d2d3 g8f6 g1f3 b8c6 f1e2 f8e7 e1g1 d...  "
      ],
      "text/html": [
       "<div>\n",
       "<style scoped>\n",
       "    .dataframe tbody tr th:only-of-type {\n",
       "        vertical-align: middle;\n",
       "    }\n",
       "\n",
       "    .dataframe tbody tr th {\n",
       "        vertical-align: top;\n",
       "    }\n",
       "\n",
       "    .dataframe thead th {\n",
       "        text-align: right;\n",
       "    }\n",
       "</style>\n",
       "<table border=\"1\" class=\"dataframe\">\n",
       "  <thead>\n",
       "    <tr style=\"text-align: right;\">\n",
       "      <th></th>\n",
       "      <th>game_id</th>\n",
       "      <th>event</th>\n",
       "      <th>white_elo</th>\n",
       "      <th>black_elo</th>\n",
       "      <th>opening</th>\n",
       "      <th>winner</th>\n",
       "      <th>moves</th>\n",
       "    </tr>\n",
       "  </thead>\n",
       "  <tbody>\n",
       "    <tr>\n",
       "      <th>9982296</th>\n",
       "      <td>9999996</td>\n",
       "      <td>Rated Blitz game</td>\n",
       "      <td>1586</td>\n",
       "      <td>1593</td>\n",
       "      <td>Sicilian Defense: Delayed Alapin Variation, wi...</td>\n",
       "      <td>1</td>\n",
       "      <td>e2e4 c7c5 g1f3 e7e6 c2c3 d7d5 e4d5 e6d5 d2d4 c...</td>\n",
       "    </tr>\n",
       "    <tr>\n",
       "      <th>9982297</th>\n",
       "      <td>9999997</td>\n",
       "      <td>Rated Blitz game</td>\n",
       "      <td>2094</td>\n",
       "      <td>2106</td>\n",
       "      <td>Ruy Lopez: Berlin Defense</td>\n",
       "      <td>2</td>\n",
       "      <td>e2e4 b8c6 g1f3 e7e5 f1b5 g8f6 b5c6 b7c6 f3e5 f...</td>\n",
       "    </tr>\n",
       "    <tr>\n",
       "      <th>9982298</th>\n",
       "      <td>9999998</td>\n",
       "      <td>Rated Blitz game</td>\n",
       "      <td>1449</td>\n",
       "      <td>1532</td>\n",
       "      <td>Scandinavian Defense: Main Line</td>\n",
       "      <td>1</td>\n",
       "      <td>e2e4 d7d5 e4d5 d8d5 b1c3 d5a5 d2d3 c7c6 c1d2 g...</td>\n",
       "    </tr>\n",
       "    <tr>\n",
       "      <th>9982299</th>\n",
       "      <td>9999999</td>\n",
       "      <td>Rated Blitz game</td>\n",
       "      <td>2069</td>\n",
       "      <td>2063</td>\n",
       "      <td>Sicilian Defense: Kramnik Variation</td>\n",
       "      <td>1</td>\n",
       "      <td>e2e4 c7c5 g1f3 e7e6 c2c4 b8c6 d2d3 d7d6 b1c3 g...</td>\n",
       "    </tr>\n",
       "    <tr>\n",
       "      <th>9982300</th>\n",
       "      <td>10000000</td>\n",
       "      <td>Rated Blitz game</td>\n",
       "      <td>1292</td>\n",
       "      <td>1283</td>\n",
       "      <td>King's Pawn Game: Leonardis Variation</td>\n",
       "      <td>2</td>\n",
       "      <td>e2e4 e7e5 d2d3 g8f6 g1f3 b8c6 f1e2 f8e7 e1g1 d...</td>\n",
       "    </tr>\n",
       "  </tbody>\n",
       "</table>\n",
       "</div>"
      ]
     },
     "execution_count": 2,
     "metadata": {},
     "output_type": "execute_result"
    }
   ],
   "execution_count": 2
  },
  {
   "metadata": {
    "ExecuteTime": {
     "end_time": "2025-05-17T08:06:32.356509Z",
     "start_time": "2025-05-17T08:06:32.128068Z"
    }
   },
   "cell_type": "code",
   "source": "df[\"event\"].value_counts()",
   "id": "f2f4d05589e28321",
   "outputs": [
    {
     "data": {
      "text/plain": [
       "event\n",
       "Rated Blitz game                                                  4231136\n",
       "Rated Bullet game                                                 3355083\n",
       "Rated Rapid game                                                  1340401\n",
       "Rated Classical game                                                56249\n",
       "Rated UltraBullet game                                              46917\n",
       "                                                                   ...   \n",
       "Classical swiss https://lichess.org/swiss/bUvNze57                      1\n",
       "Rated Rapid tournament https://lichess.org/tournament/wmyH1zNY          1\n",
       "Rated Rapid tournament https://lichess.org/tournament/3XeES9oL          1\n",
       "Blitz swiss https://lichess.org/swiss/UUugSTaP                          1\n",
       "Rapid swiss https://lichess.org/swiss/WReDpHLY                          1\n",
       "Name: count, Length: 4664, dtype: int64"
      ]
     },
     "execution_count": 3,
     "metadata": {},
     "output_type": "execute_result"
    }
   ],
   "execution_count": 3
  },
  {
   "metadata": {
    "ExecuteTime": {
     "end_time": "2025-05-17T08:06:32.712089Z",
     "start_time": "2025-05-17T08:06:32.444622Z"
    }
   },
   "cell_type": "code",
   "source": "df[\"opening\"].value_counts()",
   "id": "575d576c0c25f159",
   "outputs": [
    {
     "data": {
      "text/plain": [
       "opening\n",
       "Queen's Pawn Game                                                     261820\n",
       "Caro-Kann Defense                                                     185052\n",
       "Van't Kruijs Opening                                                  176273\n",
       "Modern Defense                                                        163143\n",
       "Philidor Defense                                                      159803\n",
       "                                                                       ...  \n",
       "Sicilian Defense: Kan Variation, Wing Attack, Christiansen's Dream         1\n",
       "Petrov's Defense: Modern Attack, Tal Gambit                                1\n",
       "Scandinavian Defense: Modern Variation, Wing Gambit                        1\n",
       "Italian Game: Classical Variation, Eisinger Variation                      1\n",
       "King's Gambit Declined: Classical Variation, Euwe Attack                   1\n",
       "Name: count, Length: 2914, dtype: int64"
      ]
     },
     "execution_count": 4,
     "metadata": {},
     "output_type": "execute_result"
    }
   ],
   "execution_count": 4
  },
  {
   "metadata": {
    "ExecuteTime": {
     "end_time": "2025-05-17T08:06:33.629430Z",
     "start_time": "2025-05-17T08:06:32.759869Z"
    }
   },
   "cell_type": "code",
   "source": [
    "events_to_keep = [\n",
    "    \"Rated Bullet game\",\n",
    "    \"Rated Blitz game\",\n",
    "    \"Rated Rapid game\",\n",
    "    \"Rated Classical game\"\n",
    "]\n",
    "df = df[df[\"event\"].isin(events_to_keep)]\n",
    "\n",
    "df = df[df[\"opening\"] == \"Queen's Pawn Game: Accelerated London System\"]\n",
    "\n",
    "df.head()"
   ],
   "id": "3b7e5f5fd4504e0c",
   "outputs": [
    {
     "data": {
      "text/plain": [
       "     game_id             event  white_elo  black_elo  \\\n",
       "23        25  Rated Blitz game       1433       1491   \n",
       "34        36  Rated Blitz game       1773       1654   \n",
       "179      181  Rated Blitz game       1725       1756   \n",
       "253      255  Rated Rapid game       2217       2248   \n",
       "265      267  Rated Rapid game       1443       1479   \n",
       "\n",
       "                                          opening  winner  \\\n",
       "23   Queen's Pawn Game: Accelerated London System       2   \n",
       "34   Queen's Pawn Game: Accelerated London System       0   \n",
       "179  Queen's Pawn Game: Accelerated London System       2   \n",
       "253  Queen's Pawn Game: Accelerated London System       1   \n",
       "265  Queen's Pawn Game: Accelerated London System       1   \n",
       "\n",
       "                                                 moves  \n",
       "23   d2d4 d7d5 c1f4 g8f6 e2e3 c8g4 f1e2 g4e2 g1e2 e...  \n",
       "34   d2d4 d7d5 c1f4 c7c6 g1f3 c8f5 h2h3 e7e6 b1d2 h...  \n",
       "179  d2d4 d7d5 c1f4 g8f6 e2e3 e7e6 c2c3 c7c5 f1d3 c...  \n",
       "253  d2d4 d7d5 c1f4 f7f6 e2e3 h7h5 f1d3 e8f7 h2h4 a...  \n",
       "265  d2d4 d7d5 c1f4 e7e6 e2e3 f8d6 f4g3 g8f6 g1f3 d...  "
      ],
      "text/html": [
       "<div>\n",
       "<style scoped>\n",
       "    .dataframe tbody tr th:only-of-type {\n",
       "        vertical-align: middle;\n",
       "    }\n",
       "\n",
       "    .dataframe tbody tr th {\n",
       "        vertical-align: top;\n",
       "    }\n",
       "\n",
       "    .dataframe thead th {\n",
       "        text-align: right;\n",
       "    }\n",
       "</style>\n",
       "<table border=\"1\" class=\"dataframe\">\n",
       "  <thead>\n",
       "    <tr style=\"text-align: right;\">\n",
       "      <th></th>\n",
       "      <th>game_id</th>\n",
       "      <th>event</th>\n",
       "      <th>white_elo</th>\n",
       "      <th>black_elo</th>\n",
       "      <th>opening</th>\n",
       "      <th>winner</th>\n",
       "      <th>moves</th>\n",
       "    </tr>\n",
       "  </thead>\n",
       "  <tbody>\n",
       "    <tr>\n",
       "      <th>23</th>\n",
       "      <td>25</td>\n",
       "      <td>Rated Blitz game</td>\n",
       "      <td>1433</td>\n",
       "      <td>1491</td>\n",
       "      <td>Queen's Pawn Game: Accelerated London System</td>\n",
       "      <td>2</td>\n",
       "      <td>d2d4 d7d5 c1f4 g8f6 e2e3 c8g4 f1e2 g4e2 g1e2 e...</td>\n",
       "    </tr>\n",
       "    <tr>\n",
       "      <th>34</th>\n",
       "      <td>36</td>\n",
       "      <td>Rated Blitz game</td>\n",
       "      <td>1773</td>\n",
       "      <td>1654</td>\n",
       "      <td>Queen's Pawn Game: Accelerated London System</td>\n",
       "      <td>0</td>\n",
       "      <td>d2d4 d7d5 c1f4 c7c6 g1f3 c8f5 h2h3 e7e6 b1d2 h...</td>\n",
       "    </tr>\n",
       "    <tr>\n",
       "      <th>179</th>\n",
       "      <td>181</td>\n",
       "      <td>Rated Blitz game</td>\n",
       "      <td>1725</td>\n",
       "      <td>1756</td>\n",
       "      <td>Queen's Pawn Game: Accelerated London System</td>\n",
       "      <td>2</td>\n",
       "      <td>d2d4 d7d5 c1f4 g8f6 e2e3 e7e6 c2c3 c7c5 f1d3 c...</td>\n",
       "    </tr>\n",
       "    <tr>\n",
       "      <th>253</th>\n",
       "      <td>255</td>\n",
       "      <td>Rated Rapid game</td>\n",
       "      <td>2217</td>\n",
       "      <td>2248</td>\n",
       "      <td>Queen's Pawn Game: Accelerated London System</td>\n",
       "      <td>1</td>\n",
       "      <td>d2d4 d7d5 c1f4 f7f6 e2e3 h7h5 f1d3 e8f7 h2h4 a...</td>\n",
       "    </tr>\n",
       "    <tr>\n",
       "      <th>265</th>\n",
       "      <td>267</td>\n",
       "      <td>Rated Rapid game</td>\n",
       "      <td>1443</td>\n",
       "      <td>1479</td>\n",
       "      <td>Queen's Pawn Game: Accelerated London System</td>\n",
       "      <td>1</td>\n",
       "      <td>d2d4 d7d5 c1f4 e7e6 e2e3 f8d6 f4g3 g8f6 g1f3 d...</td>\n",
       "    </tr>\n",
       "  </tbody>\n",
       "</table>\n",
       "</div>"
      ]
     },
     "execution_count": 5,
     "metadata": {},
     "output_type": "execute_result"
    }
   ],
   "execution_count": 5
  },
  {
   "metadata": {
    "ExecuteTime": {
     "end_time": "2025-05-17T08:06:34.094664Z",
     "start_time": "2025-05-17T08:06:33.678112Z"
    }
   },
   "cell_type": "code",
   "source": [
    "# Count number of half-moves (plies) per game\n",
    "df[\"num_halfmoves\"] = df[\"moves\"].apply(lambda x: len(x.split()))\n",
    "median_val = df[\"num_halfmoves\"].median()\n",
    "\n",
    "# Cap the histogram at the 99th percentile to avoid skew from outliers\n",
    "upper_limit = df[\"num_halfmoves\"].quantile(0.99)\n",
    "\n",
    "plt.figure(figsize=(10, 6))\n",
    "plt.hist(df[\"num_halfmoves\"], bins=range(0, int(upper_limit) + 2, 2), edgecolor='black')\n",
    "plt.axvline(median_val, color='red', linestyle='dashed', linewidth=2, label=f\"Median: {median_val:.0f}\")\n",
    "plt.xlabel(\"Number of half-moves per game\")\n",
    "plt.ylabel(\"Number of games\")\n",
    "plt.title(\"Distribution of half-move counts per game (up to 99th percentile)\")\n",
    "plt.legend()\n",
    "plt.grid(True)\n",
    "plt.tight_layout()\n",
    "plt.show()"
   ],
   "id": "1a0191b97a8e8b15",
   "outputs": [
    {
     "data": {
      "text/plain": [
       "<Figure size 1000x600 with 1 Axes>"
      ],
      "image/png": "[encoded data removed]"
     },
     "metadata": {},
     "output_type": "display_data"
    }
   ],
   "execution_count": 6
  },
  {
   "metadata": {
    "ExecuteTime": {
     "end_time": "2025-05-17T08:08:46.648553Z",
     "start_time": "2025-05-17T08:06:34.128923Z"
    }
   },
   "cell_type": "code",
   "source": [
    "# Extract positions from the first 25 half-moves of each game\n",
    "records = []\n",
    "\n",
    "for _, game in tqdm(df.iterrows(), total=len(df), desc=\"Processing games\"):\n",
    "    board = chess.Board()\n",
    "    moves_arr = game[\"moves\"].split()\n",
    "    winner_flag = game[\"winner\"]\n",
    "\n",
    "    for idx, mv in enumerate(moves_arr):\n",
    "        # Stop after 25 half-moves or if there's no next move\n",
    "        if idx >= 25 or idx + 1 >= len(moves_arr):\n",
    "            break\n",
    "\n",
    "        board.push_uci(mv)\n",
    "        next_move = moves_arr[idx + 1]\n",
    "\n",
    "        # Determine whether the player to move is on the winning side\n",
    "        if (board.turn == chess.WHITE and winner_flag == 1) or (board.turn == chess.BLACK and winner_flag == 2):\n",
    "            win_pov = True\n",
    "        else:\n",
    "            win_pov = False\n",
    "\n",
    "        played_by = game[\"white_elo\"] if board.turn else game[\"black_elo\"]\n",
    "\n",
    "        records.append({\n",
    "            \"fen\": board.fen(),\n",
    "            \"next_move\": next_move,\n",
    "            \"played_by_elo\": played_by,\n",
    "            \"win_pov\": win_pov\n",
    "        })\n",
    "\n",
    "positions_df = pd.DataFrame.from_records(records)\n",
    "positions_df.head()"
   ],
   "id": "25429f092e6840f3",
   "outputs": [
    {
     "name": "stderr",
     "output_type": "stream",
     "text": [
      "Processing games: 100%|██████████| 145903/145903 [02:11<00:00, 1112.34it/s]\n"
     ]
    },
    {
     "data": {
      "text/plain": [
       "                                                 fen next_move  played_by_elo  \\\n",
       "0  rnbqkbnr/pppppppp/8/8/3P4/8/PPP1PPPP/RNBQKBNR ...      d7d5           1491   \n",
       "1  rnbqkbnr/ppp1pppp/8/3p4/3P4/8/PPP1PPPP/RNBQKBN...      c1f4           1433   \n",
       "2  rnbqkbnr/ppp1pppp/8/3p4/3P1B2/8/PPP1PPPP/RN1QK...      g8f6           1491   \n",
       "3  rnbqkb1r/ppp1pppp/5n2/3p4/3P1B2/8/PPP1PPPP/RN1...      e2e3           1433   \n",
       "4  rnbqkb1r/ppp1pppp/5n2/3p4/3P1B2/4P3/PPP2PPP/RN...      c8g4           1491   \n",
       "\n",
       "   win_pov  \n",
       "0     True  \n",
       "1    False  \n",
       "2     True  \n",
       "3    False  \n",
       "4     True  "
      ],
      "text/html": [
       "<div>\n",
       "<style scoped>\n",
       "    .dataframe tbody tr th:only-of-type {\n",
       "        vertical-align: middle;\n",
       "    }\n",
       "\n",
       "    .dataframe tbody tr th {\n",
       "        vertical-align: top;\n",
       "    }\n",
       "\n",
       "    .dataframe thead th {\n",
       "        text-align: right;\n",
       "    }\n",
       "</style>\n",
       "<table border=\"1\" class=\"dataframe\">\n",
       "  <thead>\n",
       "    <tr style=\"text-align: right;\">\n",
       "      <th></th>\n",
       "      <th>fen</th>\n",
       "      <th>next_move</th>\n",
       "      <th>played_by_elo</th>\n",
       "      <th>win_pov</th>\n",
       "    </tr>\n",
       "  </thead>\n",
       "  <tbody>\n",
       "    <tr>\n",
       "      <th>0</th>\n",
       "      <td>rnbqkbnr/pppppppp/8/8/3P4/8/PPP1PPPP/RNBQKBNR ...</td>\n",
       "      <td>d7d5</td>\n",
       "      <td>1491</td>\n",
       "      <td>True</td>\n",
       "    </tr>\n",
       "    <tr>\n",
       "      <th>1</th>\n",
       "      <td>rnbqkbnr/ppp1pppp/8/3p4/3P4/8/PPP1PPPP/RNBQKBN...</td>\n",
       "      <td>c1f4</td>\n",
       "      <td>1433</td>\n",
       "      <td>False</td>\n",
       "    </tr>\n",
       "    <tr>\n",
       "      <th>2</th>\n",
       "      <td>rnbqkbnr/ppp1pppp/8/3p4/3P1B2/8/PPP1PPPP/RN1QK...</td>\n",
       "      <td>g8f6</td>\n",
       "      <td>1491</td>\n",
       "      <td>True</td>\n",
       "    </tr>\n",
       "    <tr>\n",
       "      <th>3</th>\n",
       "      <td>rnbqkb1r/ppp1pppp/5n2/3p4/3P1B2/8/PPP1PPPP/RN1...</td>\n",
       "      <td>e2e3</td>\n",
       "      <td>1433</td>\n",
       "      <td>False</td>\n",
       "    </tr>\n",
       "    <tr>\n",
       "      <th>4</th>\n",
       "      <td>rnbqkb1r/ppp1pppp/5n2/3p4/3P1B2/4P3/PPP2PPP/RN...</td>\n",
       "      <td>c8g4</td>\n",
       "      <td>1491</td>\n",
       "      <td>True</td>\n",
       "    </tr>\n",
       "  </tbody>\n",
       "</table>\n",
       "</div>"
      ]
     },
     "execution_count": 7,
     "metadata": {},
     "output_type": "execute_result"
    }
   ],
   "execution_count": 7
  },
  {
   "metadata": {
    "ExecuteTime": {
     "end_time": "2025-05-17T08:08:50.600968Z",
     "start_time": "2025-05-17T08:08:46.681768Z"
    }
   },
   "cell_type": "code",
   "source": [
    "# Count how often each (position, move) pair appears\n",
    "positions_df[\"games_count\"] = (\n",
    "    positions_df.groupby([\"fen\", \"next_move\"])[\"fen\"].transform(\"size\")\n",
    ")\n",
    "\n",
    "# Keep only frequently played position-move pairs\n",
    "positions_df = positions_df[positions_df[\"games_count\"] >= 100]\n",
    "\n",
    "n_unique = positions_df[[\"fen\", \"next_move\"]].drop_duplicates().shape[0]\n",
    "print(f\"{n_unique} unique position–move pairs occurred at least 100 times.\")"
   ],
   "id": "e15860af298bab88",
   "outputs": [
    {
     "name": "stdout",
     "output_type": "stream",
     "text": [
      "1103 unique position–move pairs occurred at least 100 times.\n"
     ]
    }
   ],
   "execution_count": 8
  },
  {
   "metadata": {
    "ExecuteTime": {
     "end_time": "2025-05-17T08:08:50.905471Z",
     "start_time": "2025-05-17T08:08:50.625733Z"
    }
   },
   "cell_type": "code",
   "source": [
    "positions_df.to_parquet(\"../data/positions_2025_01.parquet\", index=False)\n",
    "print(\"✅ Saved position data to 'data/positions_2025_01.parquet'\")"
   ],
   "id": "70d977f75fe3c8b3",
   "outputs": [
    {
     "name": "stdout",
     "output_type": "stream",
     "text": [
      "✅ Saved position data to 'data/positions_2025_01.parquet'\n"
     ]
    }
   ],
   "execution_count": 9
  }
 ],
 "metadata": {
  "kernelspec": {
   "display_name": "Python 3",
   "language": "python",
   "name": "python3"
  },
  "language_info": {
   "codemirror_mode": {
    "name": "ipython",
    "version": 2
   },
   "file_extension": ".py",
   "mimetype": "text/x-python",
   "name": "python",
   "nbconvert_exporter": "python",
   "pygments_lexer": "ipython2",
   "version": "2.7.6"
  }
 },
 "nbformat": 4,
 "nbformat_minor": 5
}
